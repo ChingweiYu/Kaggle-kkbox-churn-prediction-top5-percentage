{
 "cells": [
  {
   "cell_type": "code",
   "execution_count": 1,
   "metadata": {},
   "outputs": [
    {
     "name": "stderr",
     "output_type": "stream",
     "text": [
      "/usr/local/envs/py3env/lib/python3.5/site-packages/sklearn/cross_validation.py:41: DeprecationWarning: This module was deprecated in version 0.18 in favor of the model_selection module into which all the refactored classes and functions are moved. Also note that the interface of the new CV iterators are different from that of this module. This module will be removed in 0.20.\n",
      "  \"This module will be removed in 0.20.\", DeprecationWarning)\n"
     ]
    }
   ],
   "source": [
    "import pandas as pd\n",
    "import numpy as np\n",
    "import matplotlib.pyplot as plt\n",
    "import seaborn as sns\n",
    "from pandas.plotting import table\n",
    "import datetime as dt \n",
    "# dt as time_series operation\n",
    "%matplotlib inline\n",
    "# for display dataframe\n",
    "from IPython.display import display\n",
    "from IPython.display import display_html\n",
    "def display_side_by_side(*args):\n",
    "    html_str=''\n",
    "    for df in args:\n",
    "        html_str+=df.to_html()\n",
    "    display_html(html_str.replace('table','table style=\"display:inline\"'),raw=True)\n",
    "# ignore warning\n",
    "import warnings\n",
    "warnings.simplefilter(action='ignore', category=FutureWarning)\n",
    "warnings.simplefilter(action='ignore', category=UserWarning)\n",
    "# storage\n",
    "from google.datalab import Context\n",
    "import google.datalab.bigquery as bq\n",
    "try:\n",
    "  from StringIO import StringIO\n",
    "except ImportError:\n",
    "  from io import BytesIO as StringIO\n",
    "# ML\n",
    "from sklearn.ensemble import RandomForestClassifier\n",
    "from sklearn.model_selection import train_test_split\n",
    "from sklearn.metrics import log_loss\n",
    "import xgboost as xgb"
   ]
  },
  {
   "cell_type": "code",
   "execution_count": 2,
   "metadata": {
    "codeCollapsed": true
   },
   "outputs": [],
   "source": [
    "# square scale\n",
    "import matplotlib.scale as mscale\n",
    "import matplotlib.pyplot as plt\n",
    "import matplotlib.transforms as mtransforms\n",
    "import matplotlib.ticker as ticker\n",
    "import numpy as np\n",
    "\n",
    "class SquareRootScale(mscale.ScaleBase):\n",
    "    \"\"\"\n",
    "    ScaleBase class for generating square root scale.\n",
    "    \"\"\"\n",
    "\n",
    "    name = 'squareroot'\n",
    "\n",
    "    def __init__(self, axis, **kwargs):\n",
    "        mscale.ScaleBase.__init__(self)\n",
    "\n",
    "    def set_default_locators_and_formatters(self, axis):\n",
    "        axis.set_major_locator(ticker.AutoLocator())\n",
    "        axis.set_major_formatter(ticker.ScalarFormatter())\n",
    "        axis.set_minor_locator(ticker.NullLocator())\n",
    "        axis.set_minor_formatter(ticker.NullFormatter())\n",
    "\n",
    "    def limit_range_for_scale(self, vmin, vmax, minpos):\n",
    "        return  max(0., vmin), vmax\n",
    "\n",
    "    class SquareRootTransform(mtransforms.Transform):\n",
    "        input_dims = 1\n",
    "        output_dims = 1\n",
    "        is_separable = True\n",
    "\n",
    "        def transform_non_affine(self, a): \n",
    "            return np.array(a)**0.5\n",
    "\n",
    "        def inverted(self):\n",
    "            return SquareRootScale.InvertedSquareRootTransform()\n",
    "\n",
    "    class InvertedSquareRootTransform(mtransforms.Transform):\n",
    "        input_dims = 1\n",
    "        output_dims = 1\n",
    "        is_separable = True\n",
    "\n",
    "        def transform(self, a):\n",
    "            return np.array(a)**2\n",
    "\n",
    "        def inverted(self):\n",
    "            return SquareRootScale.SquareRootTransform()\n",
    "\n",
    "    def get_transform(self):\n",
    "        return self.SquareRootTransform()\n",
    "\n",
    "mscale.register_scale(SquareRootScale)\n",
    "'''\n",
    "fig, ax = plt.subplots(1)\n",
    "\n",
    "ax.plot(np.arange(0, 9)**2, label='$y=x^2$')\n",
    "ax.legend()\n",
    "\n",
    "ax.set_yscale('squareroot')\n",
    "ax.set_yticks(np.arange(0,9,2)**2)\n",
    "ax.set_yticks(np.arange(0,8.5,0.5)**2, minor=True)\n",
    "\n",
    "plt.show()\n",
    "''';"
   ]
  },
  {
   "cell_type": "markdown",
   "metadata": {},
   "source": [
    "# IO"
   ]
  },
  {
   "cell_type": "code",
   "execution_count": 3,
   "metadata": {},
   "outputs": [],
   "source": [
    "%gcs read --object gs://kk_data/ft_satisfaction.csv -v df_ft_satis"
   ]
  },
  {
   "cell_type": "code",
   "execution_count": 4,
   "metadata": {},
   "outputs": [],
   "source": [
    "df_ft_satis = pd.read_csv(StringIO(df_ft_satis))"
   ]
  },
  {
   "cell_type": "code",
   "execution_count": 5,
   "metadata": {},
   "outputs": [],
   "source": [
    "%gcs read --object gs://kk_data/ft_day_listen.csv -v df_ft_day_listen"
   ]
  },
  {
   "cell_type": "code",
   "execution_count": 6,
   "metadata": {},
   "outputs": [],
   "source": [
    "df_ft_day_listen = pd.read_csv(StringIO(df_ft_day_listen))\n",
    "df_train = pd.merge(df_ft_day_listen, df_ft_satis, how='left',on=['msno'])"
   ]
  },
  {
   "cell_type": "code",
   "execution_count": 7,
   "metadata": {},
   "outputs": [],
   "source": [
    "%gcs read --object gs://kk_data/sub_ft_satisfaction.csv -v df_sub_ft_satis"
   ]
  },
  {
   "cell_type": "code",
   "execution_count": 8,
   "metadata": {},
   "outputs": [],
   "source": [
    "%gcs read --object gs://kk_data/sub_ft_day_listen.csv -v df_sub_ft_day_listen"
   ]
  },
  {
   "cell_type": "code",
   "execution_count": 9,
   "metadata": {},
   "outputs": [],
   "source": [
    "df_sub_ft_day_listen = pd.read_csv(StringIO(df_sub_ft_day_listen))\n",
    "df_sub_ft_satis = pd.read_csv(StringIO(df_sub_ft_satis))\n",
    "df_sub = pd.merge(df_sub_ft_day_listen, df_sub_ft_satis, how='left',on=['msno'])\n",
    "\n",
    "df_sub.is_churn = np.nan"
   ]
  },
  {
   "cell_type": "code",
   "execution_count": 10,
   "metadata": {},
   "outputs": [],
   "source": [
    "%gcs read --object gs://kk_data/members_v3.csv -v members"
   ]
  },
  {
   "cell_type": "code",
   "execution_count": 11,
   "metadata": {},
   "outputs": [],
   "source": [
    "df_members =pd.read_csv(StringIO(members))"
   ]
  },
  {
   "cell_type": "code",
   "execution_count": 12,
   "metadata": {},
   "outputs": [
    {
     "name": "stdout",
     "output_type": "stream",
     "text": [
      "---------- missing value summary ----------\n",
      "msno                     0.000\n",
      "is_churn                 0.506\n",
      "six_month_day_listen     0.173\n",
      "six_month_satis          0.173\n",
      "city                     0.123\n",
      "bd                       0.123\n",
      "gender                   0.646\n",
      "registered_via           0.123\n",
      "registration_init_time   0.123\n",
      "dtype: float64\n"
     ]
    }
   ],
   "source": [
    "df_data = df_train.append(df_sub)\n",
    "df_data = pd.merge(df_data, df_members, how='left',on=['msno'])\n",
    "gender_encode = {'male':1, 'female':2}\n",
    "df_data.gender = df_data.gender.map(gender_encode)\n",
    "# change feature name\n",
    "df_data = df_data.rename(columns={'day_listen':'six_month_day_listen','user_latent_satisfaction':'six_month_satis'})\n",
    "# missing value \n",
    "print('-'*10,'missing value summary','-'*10)\n",
    "pd.set_option('display.float_format', lambda x: '%.3f' % x)\n",
    "print(df_data.isnull().sum() / len(df_data))"
   ]
  },
  {
   "cell_type": "code",
   "execution_count": 13,
   "metadata": {},
   "outputs": [
    {
     "data": {
      "text/html": [
       "<div>\n",
       "<style scoped>\n",
       "    .dataframe tbody tr th:only-of-type {\n",
       "        vertical-align: middle;\n",
       "    }\n",
       "\n",
       "    .dataframe tbody tr th {\n",
       "        vertical-align: top;\n",
       "    }\n",
       "\n",
       "    .dataframe thead th {\n",
       "        text-align: right;\n",
       "    }\n",
       "</style>\n",
       "<table border=\"1\" class=\"dataframe\">\n",
       "  <thead>\n",
       "    <tr style=\"text-align: right;\">\n",
       "      <th></th>\n",
       "      <th>msno</th>\n",
       "      <th>is_churn</th>\n",
       "      <th>six_month_day_listen</th>\n",
       "      <th>six_month_satis</th>\n",
       "      <th>city</th>\n",
       "      <th>bd</th>\n",
       "      <th>gender</th>\n",
       "      <th>registered_via</th>\n",
       "      <th>registration_init_time</th>\n",
       "    </tr>\n",
       "  </thead>\n",
       "  <tbody>\n",
       "    <tr>\n",
       "      <th>0</th>\n",
       "      <td>0nB9bTDIfGnfO+0TI5mI26X9oNuy/T4fIzND+D+RcQ4=</td>\n",
       "      <td>0.000</td>\n",
       "      <td>nan</td>\n",
       "      <td>nan</td>\n",
       "      <td>nan</td>\n",
       "      <td>nan</td>\n",
       "      <td>nan</td>\n",
       "      <td>nan</td>\n",
       "      <td>nan</td>\n",
       "    </tr>\n",
       "    <tr>\n",
       "      <th>1</th>\n",
       "      <td>2G9f1kCzNUsrpHaOKlHzK11vmtC9HfXmvYmHqAlr1Yc=</td>\n",
       "      <td>0.000</td>\n",
       "      <td>nan</td>\n",
       "      <td>nan</td>\n",
       "      <td>1.000</td>\n",
       "      <td>0.000</td>\n",
       "      <td>nan</td>\n",
       "      <td>7.000</td>\n",
       "      <td>20150826.000</td>\n",
       "    </tr>\n",
       "    <tr>\n",
       "      <th>2</th>\n",
       "      <td>QKXNX8FDdZNpmo50ENWER9/xdbjUGwO3euVsYoaYVu8=</td>\n",
       "      <td>0.000</td>\n",
       "      <td>nan</td>\n",
       "      <td>nan</td>\n",
       "      <td>1.000</td>\n",
       "      <td>0.000</td>\n",
       "      <td>nan</td>\n",
       "      <td>7.000</td>\n",
       "      <td>20130825.000</td>\n",
       "    </tr>\n",
       "    <tr>\n",
       "      <th>3</th>\n",
       "      <td>QMa4IOS+j5ryiIyE2ywjxjaxUeKFpFNNr8MCMzpbIsc=</td>\n",
       "      <td>0.000</td>\n",
       "      <td>nan</td>\n",
       "      <td>nan</td>\n",
       "      <td>nan</td>\n",
       "      <td>nan</td>\n",
       "      <td>nan</td>\n",
       "      <td>nan</td>\n",
       "      <td>nan</td>\n",
       "    </tr>\n",
       "    <tr>\n",
       "      <th>4</th>\n",
       "      <td>RM0u90xU9bIn+1P3yHVW9fuF2RvPrsEoaRJazS3sSy8=</td>\n",
       "      <td>0.000</td>\n",
       "      <td>nan</td>\n",
       "      <td>nan</td>\n",
       "      <td>nan</td>\n",
       "      <td>nan</td>\n",
       "      <td>nan</td>\n",
       "      <td>nan</td>\n",
       "      <td>nan</td>\n",
       "    </tr>\n",
       "  </tbody>\n",
       "</table>\n",
       "</div>"
      ],
      "text/plain": [
       "                                           msno  is_churn  \\\n",
       "0  0nB9bTDIfGnfO+0TI5mI26X9oNuy/T4fIzND+D+RcQ4=     0.000   \n",
       "1  2G9f1kCzNUsrpHaOKlHzK11vmtC9HfXmvYmHqAlr1Yc=     0.000   \n",
       "2  QKXNX8FDdZNpmo50ENWER9/xdbjUGwO3euVsYoaYVu8=     0.000   \n",
       "3  QMa4IOS+j5ryiIyE2ywjxjaxUeKFpFNNr8MCMzpbIsc=     0.000   \n",
       "4  RM0u90xU9bIn+1P3yHVW9fuF2RvPrsEoaRJazS3sSy8=     0.000   \n",
       "\n",
       "   six_month_day_listen  six_month_satis  city    bd  gender  registered_via  \\\n",
       "0                   nan              nan   nan   nan     nan             nan   \n",
       "1                   nan              nan 1.000 0.000     nan           7.000   \n",
       "2                   nan              nan 1.000 0.000     nan           7.000   \n",
       "3                   nan              nan   nan   nan     nan             nan   \n",
       "4                   nan              nan   nan   nan     nan             nan   \n",
       "\n",
       "   registration_init_time  \n",
       "0                     nan  \n",
       "1            20150826.000  \n",
       "2            20130825.000  \n",
       "3                     nan  \n",
       "4                     nan  "
      ]
     },
     "execution_count": 13,
     "metadata": {},
     "output_type": "execute_result"
    }
   ],
   "source": [
    "df_data.head()"
   ]
  },
  {
   "cell_type": "markdown",
   "metadata": {},
   "source": [
    "# Member features"
   ]
  },
  {
   "cell_type": "markdown",
   "metadata": {},
   "source": [
    "## Registered_via"
   ]
  },
  {
   "cell_type": "code",
   "execution_count": 14,
   "metadata": {},
   "outputs": [
    {
     "data": {
      "text/plain": [
       "<matplotlib.lines.Line2D at 0x7f5c97645978>"
      ]
     },
     "execution_count": 14,
     "metadata": {},
     "output_type": "execute_result"
    },
    {
     "data": {
      "image/png": "[encoded data removed]",
      "text/plain": [
       "<matplotlib.figure.Figure at 0x7f5cb42ff748>"
      ]
     },
     "metadata": {},
     "output_type": "display_data"
    }
   ],
   "source": [
    "# aggregate result in order to sort \n",
    "result_reg = df_data.groupby([\"registered_via\"])['is_churn'].mean().reset_index().sort_values('is_churn')\n",
    "# make plot\n",
    "fig, ax = plt.subplots(figsize=(8,6))\n",
    "sns.barplot(x='registered_via',y='is_churn',data=df_data,order=result_reg['registered_via'],ax=ax,alpha=.75)\n",
    "ax.axhline(0.049,linestyle='dashed', c='black',alpha = .3)"
   ]
  },
  {
   "cell_type": "code",
   "execution_count": 15,
   "metadata": {},
   "outputs": [],
   "source": [
    "df_data.registered_via = df_data.registered_via.fillna(-1)\n",
    "df_data.six_month_day_listen = df_data.six_month_day_listen.fillna(-1)\n",
    "df_data.six_month_satis = df_data.six_month_satis.fillna(-1)"
   ]
  },
  {
   "cell_type": "markdown",
   "metadata": {},
   "source": [
    "### Modeling"
   ]
  },
  {
   "cell_type": "code",
   "execution_count": 28,
   "metadata": {},
   "outputs": [],
   "source": [
    "def model_training_rf(training_data,testing_data):\n",
    "  # splits train and validation set\n",
    "  X = training_data.drop(labels=['msno','is_churn'],axis=1)\n",
    "  Y = training_data['is_churn']\n",
    "  X_train, X_val, Y_train, Y_val = train_test_split(X, Y, test_size=0.2,random_state = 2)\n",
    "  # Training ~ 01:45s\n",
    "  model = RandomForestClassifier(random_state=2,n_estimators=300,\n",
    "                           min_samples_split=0.05,n_jobs=-1,class_weight={0 :0.45,1 :0.55})\n",
    "  model.fit(X_train,Y_train)\n",
    "  \n",
    "  # caculating E_val\n",
    "\n",
    "  model_probs = model.predict_proba(X_val)\n",
    "    # [:,1] to show the prob to is_churn = 1\n",
    "  model_val_score = log_loss(Y_val,model_probs[:,1])\n",
    "  \n",
    "  # predict on testing set\n",
    "  model_pred_testing_set = model.predict_proba(testing_data.drop(labels=['msno','is_churn'],axis=1))\n",
    "  model_pred_testing_set = model_pred_testing_set[:,1] # take out the prob if is_churn = 1\n",
    "  submission = pd.DataFrame({\"msno\": testing_data.msno})\n",
    "  submission.insert(1,column='is_churn',value=model_pred_testing_set)\n",
    "  \n",
    "  return model, model_val_score, submission"
   ]
  },
  {
   "cell_type": "code",
   "execution_count": 29,
   "metadata": {},
   "outputs": [],
   "source": [
    "def model_training_xgb(training_data,testing_data):\n",
    "  # splits train and validation set\n",
    "  X = training_data.drop(labels=['msno','is_churn'],axis=1)\n",
    "  Y = training_data['is_churn']\n",
    "  X_train, X_val, Y_train, Y_val = train_test_split(X, Y, test_size=0.2,random_state = 2)\n",
    "  # model\n",
    "  xgb_watchlist = [(X_train, Y_train), (X_val, Y_val)]\n",
    "  model = xgb.XGBClassifier(learning_rate=0.08, max_depth=4,n_estimators=300,\\\n",
    "                 subsample=0.5, seed=2,missing=-1)\n",
    "  model.fit(X_train, Y_train,eval_set=xgb_watchlist,eval_metric='logloss',\n",
    "            early_stopping_rounds=20,verbose=70)\n",
    "  # caculating E_val\n",
    "\n",
    "  model_probs = model.predict_proba(X_val)\n",
    "    # [:,1] to show the prob to is_churn = 1\n",
    "  model_val_score = log_loss(Y_val,model_probs[:,1])\n",
    "  \n",
    "  # predict on testing set\n",
    "  model_pred_testing_set = model.predict_proba(testing_data.drop(labels=['msno','is_churn'],axis=1))\n",
    "  model_pred_testing_set = model_pred_testing_set[:,1] # take out the prob if is_churn = 1\n",
    "  submission = pd.DataFrame({\"msno\": testing_data.msno})\n",
    "  submission.insert(1,column='is_churn',value=model_pred_testing_set)\n",
    "  \n",
    "  return model, model_val_score, submission"
   ]
  },
  {
   "cell_type": "code",
   "execution_count": 36,
   "metadata": {},
   "outputs": [
    {
     "name": "stdout",
     "output_type": "stream",
     "text": [
      "Index(['msno', 'is_churn', 'six_month_day_listen', 'six_month_satis', 'city',\n",
      "       'bd', 'gender', 'registered_via', 'registration_init_time'],\n",
      "      dtype='object')\n",
      "Index(['msno', 'is_churn', 'six_month_day_listen', 'six_month_satis', 'city',\n",
      "       'bd', 'gender', 'registered_via', 'registration_init_time'],\n",
      "      dtype='object')\n"
     ]
    }
   ],
   "source": [
    "df_train, df_sub = df_data[:len(df_train)], df_data[len(df_train):]\n",
    "print(df_train.columns)\n",
    "print(df_sub.columns)\n",
    "reg_via_fts = ['msno','is_churn','six_month_day_listen', 'six_month_satis','registered_via']"
   ]
  },
  {
   "cell_type": "code",
   "execution_count": 37,
   "metadata": {},
   "outputs": [],
   "source": [
    "reg_via_model, reg_via_val_score,\\\n",
    "reg_via_pred = model_training_rf(df_train[reg_via_fts],df_sub[reg_via_fts])"
   ]
  },
  {
   "cell_type": "code",
   "execution_count": 38,
   "metadata": {},
   "outputs": [
    {
     "name": "stdout",
     "output_type": "stream",
     "text": [
      "[0]\tvalidation_0-logloss:0.629554\tvalidation_1-logloss:0.629492\n",
      "Multiple eval metrics have been passed: 'validation_1-logloss' will be used for early stopping.\n",
      "\n",
      "Will train until validation_1-logloss hasn't improved in 20 rounds.\n",
      "[70]\tvalidation_0-logloss:0.165479\tvalidation_1-logloss:0.164147\n",
      "Stopping. Best iteration:\n",
      "[96]\tvalidation_0-logloss:0.16525\tvalidation_1-logloss:0.164031\n",
      "\n"
     ]
    }
   ],
   "source": [
    "reg_via_model_xgb, reg_via_val_score_xgb,\\\n",
    "reg_via_pred_xgb = model_training_xgb(df_train[reg_via_fts],df_sub[reg_via_fts])"
   ]
  },
  {
   "cell_type": "code",
   "execution_count": 43,
   "metadata": {},
   "outputs": [
    {
     "name": "stdout",
     "output_type": "stream",
     "text": [
      "day_listen + user_letent_satisfaction logloss val:  0.192158\n",
      "reg_via log_loss val xgb:  0.164043\n",
      "reg_via log_loss val rf:  0.167576\n",
      "-------------------- LB --------------------\n",
      "reg_via log_loss LB :  0.13264\n"
     ]
    }
   ],
   "source": [
    "print('day_listen + user_letent_satisfaction logloss val: ',0.192158)\n",
    "print('reg_via log_loss val xgb: ',np.around(reg_via_val_score_xgb,decimals=6))\n",
    "print('reg_via log_loss val rf: ',np.around(reg_via_val_score,decimals=6))\n",
    "print('-'*20,'LB','-'*20)\n",
    "print('reg_via log_loss LB : ',0.13264)"
   ]
  },
  {
   "cell_type": "code",
   "execution_count": 41,
   "metadata": {},
   "outputs": [],
   "source": [
    "reg_via_pred_xgb.to_csv(\"/content/datalab/sub_reg_via_xgb_pred.csv\", index=False)"
   ]
  },
  {
   "cell_type": "code",
   "execution_count": 42,
   "metadata": {},
   "outputs": [
    {
     "name": "stdout",
     "output_type": "stream",
     "text": [
      "Copying file:///content/datalab/sub_reg_via_xgb_pred.csv [Content-Type=text/csv]...\n",
      "- [1 files][ 49.1 MiB/ 49.1 MiB]                                                \n",
      "Operation completed over 1 objects/49.1 MiB.                                     \n"
     ]
    }
   ],
   "source": [
    "!gsutil cp '/content/datalab/sub_reg_via_xgb_pred.csv' 'gs://kk_data/submission/sub_reg_via_xgb_pred.csv';"
   ]
  },
  {
   "cell_type": "code",
   "execution_count": 68,
   "metadata": {},
   "outputs": [],
   "source": [
    "'''fig, ax = plt.subplots(figsize=(8,6))\n",
    "xgb.plot_importance(reg_via_model_xgb,importance_type='gain',ax=ax,xlabel='structure gain')\n",
    "# importance --> index --> sort\n",
    "indices = np.argsort(reg_via_model.feature_importances_)[::-1]\n",
    "# plot\n",
    "g = sns.barplot(y = df_train[reg_via_fts].drop(labels=['msno','is_churn'],axis=1).columns[indices], \n",
    "                x = reg_via_model.feature_importances_[indices],\n",
    "               orient='h')\n",
    "g.set_xlabel(\"Relative Importance\", fontsize = 12)\n",
    "# g.set_ylabel(\"Features\", fontsize = 12)\n",
    "# reg_via_model.feature_importances_''';"
   ]
  },
  {
   "cell_type": "markdown",
   "metadata": {},
   "source": [
    "## Age"
   ]
  },
  {
   "cell_type": "code",
   "execution_count": 44,
   "metadata": {},
   "outputs": [
    {
     "data": {
      "text/html": [
       "<div>\n",
       "<style scoped>\n",
       "    .dataframe tbody tr th:only-of-type {\n",
       "        vertical-align: middle;\n",
       "    }\n",
       "\n",
       "    .dataframe tbody tr th {\n",
       "        vertical-align: top;\n",
       "    }\n",
       "\n",
       "    .dataframe thead th {\n",
       "        text-align: right;\n",
       "    }\n",
       "</style>\n",
       "<table border=\"1\" class=\"dataframe\">\n",
       "  <thead>\n",
       "    <tr style=\"text-align: right;\">\n",
       "      <th></th>\n",
       "      <th>bd</th>\n",
       "    </tr>\n",
       "  </thead>\n",
       "  <tbody>\n",
       "    <tr>\n",
       "      <th>count</th>\n",
       "      <td>1572841.000</td>\n",
       "    </tr>\n",
       "    <tr>\n",
       "      <th>mean</th>\n",
       "      <td>12.073</td>\n",
       "    </tr>\n",
       "    <tr>\n",
       "      <th>std</th>\n",
       "      <td>18.998</td>\n",
       "    </tr>\n",
       "    <tr>\n",
       "      <th>min</th>\n",
       "      <td>-3152.000</td>\n",
       "    </tr>\n",
       "    <tr>\n",
       "      <th>25%</th>\n",
       "      <td>0.000</td>\n",
       "    </tr>\n",
       "    <tr>\n",
       "      <th>50%</th>\n",
       "      <td>0.000</td>\n",
       "    </tr>\n",
       "    <tr>\n",
       "      <th>75%</th>\n",
       "      <td>26.000</td>\n",
       "    </tr>\n",
       "    <tr>\n",
       "      <th>max</th>\n",
       "      <td>2016.000</td>\n",
       "    </tr>\n",
       "  </tbody>\n",
       "</table>\n",
       "</div>"
      ],
      "text/plain": [
       "               bd\n",
       "count 1572841.000\n",
       "mean       12.073\n",
       "std        18.998\n",
       "min     -3152.000\n",
       "25%         0.000\n",
       "50%         0.000\n",
       "75%        26.000\n",
       "max      2016.000"
      ]
     },
     "metadata": {},
     "output_type": "display_data"
    },
    {
     "name": "stdout",
     "output_type": "stream",
     "text": [
      "Ages between 0 ~ 90   :  0.350   \n"
     ]
    }
   ],
   "source": [
    "display(df_data[['bd']].describe())\n",
    "# how many % of meanful values? \n",
    "meaningful = (df_data.bd > 0 ) & (df_data.bd < 90)\n",
    "print('Ages between 0 ~ 90   :  %.3f   ' %( len(df_data[meaningful]) / len(df_data) ))"
   ]
  },
  {
   "cell_type": "code",
   "execution_count": 45,
   "metadata": {},
   "outputs": [
    {
     "data": {
      "image/png": "[encoded data removed]",
      "text/plain": [
       "<matplotlib.figure.Figure at 0x7f5c95db36a0>"
      ]
     },
     "metadata": {},
     "output_type": "display_data"
    }
   ],
   "source": [
    "sns.set(font_scale=1.56)\n",
    "from pandas.plotting import table\n",
    "\n",
    "# create fig and ax \n",
    "with sns.axes_style('white'):\n",
    "\n",
    "    fig, [ax1, ax2] = plt.subplots(1,2, figsize=(25,10))\n",
    "# distribution\n",
    "    NOT_churn = ( (df_data.is_churn == 0) & (df_data.bd > 0 ) & (df_data.bd < 90) )\n",
    "    churn = ( (df_data.is_churn == 1) & (df_data.bd > 0 ) & (df_data.bd < 90) )\n",
    "    bins= 25\n",
    "    sns.distplot(df_data.loc[NOT_churn,'bd'],kde=False,label='NOT_churn',ax=ax1,norm_hist=True,bins=bins)\n",
    "    sns.distplot(df_data.loc[churn,'bd'],kde=False,label='churn',ax=ax1,norm_hist=True,bins=bins)\n",
    "    ax1.legend()\n",
    "    ax1.axvline(26,linestyle='dashed',c='black',alpha=.5)\n",
    "\n",
    "# feature engineering\n",
    "# create feature  bd<26 == 1, bd>26 ==0 , other = -1\n",
    "    condition = df_data.bd < 26\n",
    "    df_data['age_under_26'] = df_data.bd.apply(lambda x: 1 if 0 < x <= 26 else 0 if 26 < x <= 90 else -1)\n",
    "\n",
    "# prepare table (% of each value)\n",
    "    df_percent = pd.DataFrame( df_data['age_under_26'].value_counts().sort_index() / len(df_data) ).round(3) \n",
    "# barplot with percent table\n",
    "    sns.barplot(x='age_under_26',y='is_churn',data=df_data,ax=ax2)\n",
    "    ax2.axhline(0.049,linestyle='dashed', c='black',alpha = .3)\n",
    "    table(ax2, df_percent,bbox=[0.035, 0.72, 0.2, 0.27])"
   ]
  },
  {
   "cell_type": "markdown",
   "metadata": {},
   "source": [
    "### Modeling"
   ]
  },
  {
   "cell_type": "code",
   "execution_count": 46,
   "metadata": {},
   "outputs": [
    {
     "name": "stdout",
     "output_type": "stream",
     "text": [
      "Index(['msno', 'is_churn', 'six_month_day_listen', 'six_month_satis', 'city',\n",
      "       'bd', 'gender', 'registered_via', 'registration_init_time',\n",
      "       'age_under_26'],\n",
      "      dtype='object')\n",
      "Index(['msno', 'is_churn', 'six_month_day_listen', 'six_month_satis', 'city',\n",
      "       'bd', 'gender', 'registered_via', 'registration_init_time',\n",
      "       'age_under_26'],\n",
      "      dtype='object')\n"
     ]
    }
   ],
   "source": [
    "# split and prepare features \n",
    "df_train = df_data[:len(df_train)]\n",
    "df_sub = df_data[len(df_train):]\n",
    "print(df_train.columns)\n",
    "print(df_sub.columns)\n",
    "age_fts = reg_via_fts + ['age_under_26']\n",
    "exclude_list = ['msno','is_churn']"
   ]
  },
  {
   "cell_type": "code",
   "execution_count": 48,
   "metadata": {},
   "outputs": [
    {
     "name": "stdout",
     "output_type": "stream",
     "text": [
      "training using features: ['six_month_day_listen', 'six_month_satis', 'registered_via', 'age_under_26']\n",
      "[0]\tvalidation_0-logloss:0.629484\tvalidation_1-logloss:0.629412\n",
      "Multiple eval metrics have been passed: 'validation_1-logloss' will be used for early stopping.\n",
      "\n",
      "Will train until validation_1-logloss hasn't improved in 20 rounds.\n",
      "[70]\tvalidation_0-logloss:0.163379\tvalidation_1-logloss:0.161816\n",
      "Stopping. Best iteration:\n",
      "[118]\tvalidation_0-logloss:0.162942\tvalidation_1-logloss:0.161544\n",
      "\n"
     ]
    }
   ],
   "source": [
    "print('training using features:' ,[fts for fts in age_fts if fts not in exclude_list])\n",
    "age_model_xgb, age_val_score_xgb,\\\n",
    "age_pred_xgb = model_training_xgb(df_train[age_fts],df_sub[age_fts])"
   ]
  },
  {
   "cell_type": "code",
   "execution_count": 49,
   "metadata": {},
   "outputs": [
    {
     "data": {
      "text/plain": [
       "<matplotlib.axes._subplots.AxesSubplot at 0x7f5c864aeba8>"
      ]
     },
     "execution_count": 49,
     "metadata": {},
     "output_type": "execute_result"
    },
    {
     "data": {
      "image/png": "[encoded data removed]",
      "text/plain": [
       "<matplotlib.figure.Figure at 0x7f5c97629208>"
      ]
     },
     "metadata": {},
     "output_type": "display_data"
    }
   ],
   "source": [
    "fig, ax = plt.subplots(figsize=(12,8))\n",
    "xgb.plot_importance(age_model_xgb,importance_type='gain',ax=ax,xlabel='structure gain')"
   ]
  },
  {
   "cell_type": "code",
   "execution_count": 51,
   "metadata": {},
   "outputs": [
    {
     "name": "stdout",
     "output_type": "stream",
     "text": [
      "Copying file:///content/datalab/sub_age_xgb_pred.csv [Content-Type=text/csv]...\n",
      "- [1 files][ 49.0 MiB/ 49.0 MiB]                                                \n",
      "Operation completed over 1 objects/49.0 MiB.                                     \n",
      "reg_via logloss val:  0.164043\n",
      "reg_via logloss LB:  0.13264\n",
      "--------------------  + age --------------------\n",
      "age log_loss LB :  0.161515\n",
      "age log_loss LB :  0.13161\n"
     ]
    }
   ],
   "source": [
    "age_pred_xgb.to_csv(\"/content/datalab/sub_age_xgb_pred.csv\", index=False)\n",
    "!gsutil cp '/content/datalab/sub_age_xgb_pred.csv' 'gs://kk_data/submission/sub_age_xgb_pred.csv';\n",
    "\n",
    "print('reg_via logloss val: ',0.164043)\n",
    "print('reg_via logloss LB: ',0.13264)\n",
    "print('-'*20,' + age','-'*20)\n",
    "print('age log_loss LB : ',0.161515)\n",
    "print('age log_loss LB : ',0.13161)"
   ]
  },
  {
   "cell_type": "markdown",
   "metadata": {},
   "source": [
    "# Transactions features\n",
    "## IO"
   ]
  },
  {
   "cell_type": "code",
   "execution_count": 52,
   "metadata": {},
   "outputs": [],
   "source": [
    "'''\n",
    "# first time you for merging data\n",
    "%gcs read --object gs://kk_data/transactions.csv -v trans\n",
    "\n",
    "%gcs read --object gs://kk_data/transactions_v2.csv -v trans_v2\n",
    "\n",
    "%%time\n",
    "df_trans = pd.read_csv(StringIO(trans))\n",
    "df_trans_v2 = pd.read_csv(StringIO(trans_v2))\n",
    "df_trans_all = pd.concat([df_trans,df_trans_v2])\n",
    "df_train_trans = pd.merge(df_train[['msno','is_churn']],df_trans_all,how='left',on=['msno'])\n",
    "df_sub_trans = pd.merge(df_sub[['msno','is_churn']],df_trans_all,how='left',on=['msno'])\n",
    "\n",
    "df_train_trans.to_csv(\"/content/datalab/df_train_trans_merged.csv\", index=False)\n",
    "!gsutil cp '/content/datalab/df_train_trans_merged.csv' 'gs://kk_data/df_train_trans_merged.csv';\n",
    "\n",
    "df_sub_trans.to_csv(\"/content/datalab/df_sub_trans_merged.csv\", index=False)\n",
    "!gsutil cp '/content/datalab/df_sub_trans_merged.csv' 'gs://kk_data/df_sub_trans_merged.csv';\n",
    "''';"
   ]
  },
  {
   "cell_type": "code",
   "execution_count": 53,
   "metadata": {},
   "outputs": [],
   "source": [
    "%gcs read --object gs://kk_data/df_train_trans_merged.csv -v trans"
   ]
  },
  {
   "cell_type": "code",
   "execution_count": 54,
   "metadata": {},
   "outputs": [],
   "source": [
    "%gcs read --object gs://kk_data/df_sub_trans_merged.csv -v sub_trans"
   ]
  },
  {
   "cell_type": "code",
   "execution_count": 55,
   "metadata": {},
   "outputs": [
    {
     "name": "stdout",
     "output_type": "stream",
     "text": [
      "CPU times: user 31.9 s, sys: 4.75 s, total: 36.7 s\n",
      "Wall time: 36.7 s\n"
     ]
    }
   ],
   "source": [
    "%%time\n",
    "df_train_trans = pd.read_csv(StringIO(trans))\n",
    "df_sub_trans = pd.read_csv(StringIO(sub_trans))"
   ]
  },
  {
   "cell_type": "code",
   "execution_count": 56,
   "metadata": {},
   "outputs": [
    {
     "data": {
      "text/plain": [
       "((14622996, 10), (14545180, 10))"
      ]
     },
     "execution_count": 56,
     "metadata": {},
     "output_type": "execute_result"
    }
   ],
   "source": [
    "df_train_trans.shape, df_sub_trans.shape"
   ]
  },
  {
   "cell_type": "code",
   "execution_count": 57,
   "metadata": {},
   "outputs": [],
   "source": [
    "def dtype_compressor(df):\n",
    "  #object \n",
    "  # when unique ratio > 0.5, catogory stands less memory than object\n",
    "  converted_obj = pd.DataFrame()\n",
    "  df_obj = df.select_dtypes(include=['object'])\n",
    "  for col in df_obj.columns:\n",
    "    converted_obj.loc[:,col] = df_obj.loc[:,col].astype('category')\n",
    "\n",
    "  # numbers\n",
    "  df_down_num = pd.DataFrame()\n",
    "  df_num = df.select_dtypes(include=['number'])\n",
    "  for col in df_num.columns:\n",
    "    df_down_num.loc[:,col] = pd.to_numeric(df_num.loc[:,col],downcast='signed')\n",
    "\n",
    "  # merge\n",
    "  df = pd.concat([converted_obj,df_down_num],axis=1)\n",
    "  \n",
    "  del converted_obj, df_obj, df_down_num, df_num  \n",
    "  \n",
    "  return df"
   ]
  },
  {
   "cell_type": "code",
   "execution_count": 58,
   "metadata": {},
   "outputs": [],
   "source": [
    "def fast_datetime(s):\n",
    "    dates = {date:pd.to_datetime(date,format='%Y%m%d') for date in s.unique()}\n",
    "    return s.map(dates)"
   ]
  },
  {
   "cell_type": "code",
   "execution_count": 59,
   "metadata": {},
   "outputs": [],
   "source": [
    "# rename the columns\n",
    "date_rename = {'transaction_date':'trans_date', 'membership_expire_date':'mem_expire_date'}\n",
    "df_train_trans.rename(columns=date_rename,inplace=True)\n",
    "df_sub_trans.rename(columns=date_rename,inplace=True)\n",
    "\n",
    "# converting\n",
    "df_train_trans = dtype_compressor(df_train_trans)\n",
    "df_sub_trans = dtype_compressor(df_sub_trans)\n",
    "# 1 mins 40 s (with apply approach)\n",
    "# vectorlized 15s\n",
    "d = ['trans_date', 'mem_expire_date']\n",
    "for col in d:\n",
    "  df_train_trans[col] = fast_datetime(df_train_trans[col])\n",
    "  df_sub_trans[col] = fast_datetime(df_sub_trans[col])\n",
    "# took 6s \n",
    "# total about 20~30s for single dataframe"
   ]
  },
  {
   "cell_type": "code",
   "execution_count": 60,
   "metadata": {},
   "outputs": [
    {
     "name": "stdout",
     "output_type": "stream",
     "text": [
      "Traning_set missing:\n",
      " msno                 0.000\n",
      "is_churn             0.000\n",
      "payment_method_id    0.000\n",
      "payment_plan_days    0.000\n",
      "plan_list_price      0.000\n",
      "actual_amount_paid   0.000\n",
      "is_auto_renew        0.000\n",
      "trans_date           0.000\n",
      "mem_expire_date      0.000\n",
      "is_cancel            0.000\n",
      "dtype: float64\n",
      "\n",
      "____________________________________________________________\n",
      "\n",
      "Testing_set missing:\n",
      " msno                 0.000\n",
      "is_churn             1.000\n",
      "payment_method_id    0.000\n",
      "payment_plan_days    0.000\n",
      "plan_list_price      0.000\n",
      "actual_amount_paid   0.000\n",
      "is_auto_renew        0.000\n",
      "trans_date           0.000\n",
      "mem_expire_date      0.000\n",
      "is_cancel            0.000\n",
      "dtype: float64\n"
     ]
    }
   ],
   "source": [
    "df_sub_trans.is_churn = np.NaN\n",
    "print(\"Traning_set missing:\\n\",np.around(df_train_trans.isnull().sum() / df_train_trans.shape[0],decimals=3))\n",
    "print(''*60)\n",
    "print(\"_\"*60)\n",
    "print(''*60)\n",
    "print(\"Testing_set missing:\\n\",np.around(df_sub_trans.isnull().sum() / df_sub_trans.shape[0],decimals=3))\n",
    "# no missing value! we can use trasactions table to filling members (12.3%), uerlogs (23%)"
   ]
  },
  {
   "cell_type": "markdown",
   "metadata": {},
   "source": [
    "## Glance at transactions"
   ]
  },
  {
   "cell_type": "code",
   "execution_count": 61,
   "metadata": {},
   "outputs": [
    {
     "data": {
      "text/html": [
       "<div>\n",
       "<style scoped>\n",
       "    .dataframe tbody tr th:only-of-type {\n",
       "        vertical-align: middle;\n",
       "    }\n",
       "\n",
       "    .dataframe tbody tr th {\n",
       "        vertical-align: top;\n",
       "    }\n",
       "\n",
       "    .dataframe thead th {\n",
       "        text-align: right;\n",
       "    }\n",
       "</style>\n",
       "<table border=\"1\" class=\"dataframe\">\n",
       "  <thead>\n",
       "    <tr style=\"text-align: right;\">\n",
       "      <th></th>\n",
       "      <th>msno</th>\n",
       "      <th>is_churn</th>\n",
       "      <th>payment_method_id</th>\n",
       "      <th>payment_plan_days</th>\n",
       "      <th>plan_list_price</th>\n",
       "      <th>actual_amount_paid</th>\n",
       "      <th>is_auto_renew</th>\n",
       "      <th>trans_date</th>\n",
       "      <th>mem_expire_date</th>\n",
       "      <th>is_cancel</th>\n",
       "    </tr>\n",
       "  </thead>\n",
       "  <tbody>\n",
       "    <tr>\n",
       "      <th>8365578</th>\n",
       "      <td>+++hVY1rZox/33YtvDgmKA2Frg/2qhkz12B9ylCvh8o=</td>\n",
       "      <td>0</td>\n",
       "      <td>41</td>\n",
       "      <td>30</td>\n",
       "      <td>99</td>\n",
       "      <td>99</td>\n",
       "      <td>1</td>\n",
       "      <td>2016-11-16</td>\n",
       "      <td>2016-12-15</td>\n",
       "      <td>0</td>\n",
       "    </tr>\n",
       "    <tr>\n",
       "      <th>8365580</th>\n",
       "      <td>+++hVY1rZox/33YtvDgmKA2Frg/2qhkz12B9ylCvh8o=</td>\n",
       "      <td>0</td>\n",
       "      <td>41</td>\n",
       "      <td>30</td>\n",
       "      <td>99</td>\n",
       "      <td>99</td>\n",
       "      <td>1</td>\n",
       "      <td>2016-12-15</td>\n",
       "      <td>2017-01-15</td>\n",
       "      <td>0</td>\n",
       "    </tr>\n",
       "    <tr>\n",
       "      <th>8365577</th>\n",
       "      <td>+++hVY1rZox/33YtvDgmKA2Frg/2qhkz12B9ylCvh8o=</td>\n",
       "      <td>0</td>\n",
       "      <td>41</td>\n",
       "      <td>30</td>\n",
       "      <td>99</td>\n",
       "      <td>99</td>\n",
       "      <td>1</td>\n",
       "      <td>2017-01-15</td>\n",
       "      <td>2017-02-15</td>\n",
       "      <td>0</td>\n",
       "    </tr>\n",
       "    <tr>\n",
       "      <th>8365579</th>\n",
       "      <td>+++hVY1rZox/33YtvDgmKA2Frg/2qhkz12B9ylCvh8o=</td>\n",
       "      <td>0</td>\n",
       "      <td>41</td>\n",
       "      <td>30</td>\n",
       "      <td>99</td>\n",
       "      <td>99</td>\n",
       "      <td>1</td>\n",
       "      <td>2017-02-15</td>\n",
       "      <td>2017-03-15</td>\n",
       "      <td>0</td>\n",
       "    </tr>\n",
       "    <tr>\n",
       "      <th>8365581</th>\n",
       "      <td>+++hVY1rZox/33YtvDgmKA2Frg/2qhkz12B9ylCvh8o=</td>\n",
       "      <td>0</td>\n",
       "      <td>41</td>\n",
       "      <td>30</td>\n",
       "      <td>99</td>\n",
       "      <td>99</td>\n",
       "      <td>1</td>\n",
       "      <td>2017-03-15</td>\n",
       "      <td>2017-04-15</td>\n",
       "      <td>0</td>\n",
       "    </tr>\n",
       "  </tbody>\n",
       "</table>\n",
       "</div>"
      ],
      "text/plain": [
       "                                                 msno  is_churn  \\\n",
       "8365578  +++hVY1rZox/33YtvDgmKA2Frg/2qhkz12B9ylCvh8o=         0   \n",
       "8365580  +++hVY1rZox/33YtvDgmKA2Frg/2qhkz12B9ylCvh8o=         0   \n",
       "8365577  +++hVY1rZox/33YtvDgmKA2Frg/2qhkz12B9ylCvh8o=         0   \n",
       "8365579  +++hVY1rZox/33YtvDgmKA2Frg/2qhkz12B9ylCvh8o=         0   \n",
       "8365581  +++hVY1rZox/33YtvDgmKA2Frg/2qhkz12B9ylCvh8o=         0   \n",
       "\n",
       "         payment_method_id  payment_plan_days  plan_list_price  \\\n",
       "8365578                 41                 30               99   \n",
       "8365580                 41                 30               99   \n",
       "8365577                 41                 30               99   \n",
       "8365579                 41                 30               99   \n",
       "8365581                 41                 30               99   \n",
       "\n",
       "         actual_amount_paid  is_auto_renew trans_date mem_expire_date  \\\n",
       "8365578                  99              1 2016-11-16      2016-12-15   \n",
       "8365580                  99              1 2016-12-15      2017-01-15   \n",
       "8365577                  99              1 2017-01-15      2017-02-15   \n",
       "8365579                  99              1 2017-02-15      2017-03-15   \n",
       "8365581                  99              1 2017-03-15      2017-04-15   \n",
       "\n",
       "         is_cancel  \n",
       "8365578          0  \n",
       "8365580          0  \n",
       "8365577          0  \n",
       "8365579          0  \n",
       "8365581          0  "
      ]
     },
     "execution_count": 61,
     "metadata": {},
     "output_type": "execute_result"
    }
   ],
   "source": [
    "# sort first for easier exploration\n",
    "df_train_trans = df_train_trans.sort_values(by=['msno','trans_date'])\n",
    "df_sub_trans = df_sub_trans.sort_values(by=['msno','trans_date'])\n",
    "df_train_trans.head()"
   ]
  },
  {
   "cell_type": "markdown",
   "metadata": {},
   "source": [
    "## Preprocessing\n",
    "### Date Outlier"
   ]
  },
  {
   "cell_type": "code",
   "execution_count": 62,
   "metadata": {},
   "outputs": [
    {
     "data": {
      "text/html": [
       "<table style=\"display:inline\" border=\"1\" class=\"dataframe\">\n",
       "  <thead>\n",
       "    <tr style=\"text-align: right;\">\n",
       "      <th></th>\n",
       "      <th>membership_int</th>\n",
       "      <th>payment_plan_days</th>\n",
       "    </tr>\n",
       "  </thead>\n",
       "  <tbody>\n",
       "    <tr>\n",
       "      <th>count</th>\n",
       "      <td>14622996.000</td>\n",
       "      <td>14622996.000</td>\n",
       "    </tr>\n",
       "    <tr>\n",
       "      <th>mean</th>\n",
       "      <td>36.552</td>\n",
       "      <td>30.071</td>\n",
       "    </tr>\n",
       "    <tr>\n",
       "      <th>std</th>\n",
       "      <td>85.576</td>\n",
       "      <td>18.187</td>\n",
       "    </tr>\n",
       "    <tr>\n",
       "      <th>min</th>\n",
       "      <td>-17217.000</td>\n",
       "      <td>0.000</td>\n",
       "    </tr>\n",
       "    <tr>\n",
       "      <th>25%</th>\n",
       "      <td>30.000</td>\n",
       "      <td>30.000</td>\n",
       "    </tr>\n",
       "    <tr>\n",
       "      <th>50%</th>\n",
       "      <td>31.000</td>\n",
       "      <td>30.000</td>\n",
       "    </tr>\n",
       "    <tr>\n",
       "      <th>75%</th>\n",
       "      <td>31.000</td>\n",
       "      <td>30.000</td>\n",
       "    </tr>\n",
       "    <tr>\n",
       "      <th>max</th>\n",
       "      <td>2796.000</td>\n",
       "      <td>450.000</td>\n",
       "    </tr>\n",
       "  </tbody>\n",
       "</table style=\"display:inline\"><table style=\"display:inline\" border=\"1\" class=\"dataframe\">\n",
       "  <thead>\n",
       "    <tr style=\"text-align: right;\">\n",
       "      <th></th>\n",
       "      <th>membership_int</th>\n",
       "      <th>payment_plan_days</th>\n",
       "    </tr>\n",
       "  </thead>\n",
       "  <tbody>\n",
       "    <tr>\n",
       "      <th>count</th>\n",
       "      <td>14545180.000</td>\n",
       "      <td>14545180.000</td>\n",
       "    </tr>\n",
       "    <tr>\n",
       "      <th>mean</th>\n",
       "      <td>36.286</td>\n",
       "      <td>29.950</td>\n",
       "    </tr>\n",
       "    <tr>\n",
       "      <th>std</th>\n",
       "      <td>103.010</td>\n",
       "      <td>17.229</td>\n",
       "    </tr>\n",
       "    <tr>\n",
       "      <th>min</th>\n",
       "      <td>-17217.000</td>\n",
       "      <td>0.000</td>\n",
       "    </tr>\n",
       "    <tr>\n",
       "      <th>25%</th>\n",
       "      <td>30.000</td>\n",
       "      <td>30.000</td>\n",
       "    </tr>\n",
       "    <tr>\n",
       "      <th>50%</th>\n",
       "      <td>31.000</td>\n",
       "      <td>30.000</td>\n",
       "    </tr>\n",
       "    <tr>\n",
       "      <th>75%</th>\n",
       "      <td>31.000</td>\n",
       "      <td>30.000</td>\n",
       "    </tr>\n",
       "    <tr>\n",
       "      <th>max</th>\n",
       "      <td>2796.000</td>\n",
       "      <td>450.000</td>\n",
       "    </tr>\n",
       "  </tbody>\n",
       "</table style=\"display:inline\">"
      ]
     },
     "metadata": {},
     "output_type": "display_data"
    }
   ],
   "source": [
    "# sort first for easier exploration\n",
    "df_train_trans = df_train_trans.sort_values(by=['msno','trans_date'])\n",
    "df_sub_trans = df_sub_trans.sort_values(by=['msno','trans_date'])\n",
    "\n",
    "# build membership\n",
    "df_train_trans = df_train_trans.eval('membership = mem_expire_date - trans_date')\n",
    "df_sub_trans = df_sub_trans.eval('membership = mem_expire_date - trans_date')\n",
    "\n",
    "# now vectorlized\n",
    "df_train_trans['membership_int'] = df_train_trans.membership / np.timedelta64(1,'D')\n",
    "df_sub_trans['membership_int'] = df_sub_trans.membership / np.timedelta64(1,'D')\n",
    "\n",
    "\n",
    "# glance \n",
    "pd.set_option('display.float_format', lambda x: '%.3f' % x)\n",
    "display_side_by_side(df_train_trans[['membership_int','payment_plan_days']].describe(),\\\n",
    "                    df_sub_trans[['membership_int','payment_plan_days']].describe())"
   ]
  },
  {
   "cell_type": "code",
   "execution_count": 63,
   "metadata": {},
   "outputs": [
    {
     "name": "stdout",
     "output_type": "stream",
     "text": [
      "_______________  (the training set) df_train_trans  _______________\n",
      "\n",
      "______________________________  < -30 days ______________________________\n",
      "is_cancel = 0\n",
      "\n",
      "0       179\n",
      "30     1184\n",
      "60       74\n",
      "120       6\n",
      "180       6\n",
      "240      12\n",
      "Name: payment_plan_days, dtype: int64\n",
      "\n",
      "is_cancel = 0 , plan_days = 0\n",
      "0        1\n",
      "149    178\n",
      "Name: actual_amount_paid, dtype: int64\n",
      "\n",
      "______________________________  > 450 days ______________________________\n",
      "is_cancel = 0\n",
      "\n",
      "0       3207\n",
      "1         12\n",
      "10         2\n",
      "14         1\n",
      "30     74547\n",
      "90         1\n",
      "180        3\n",
      "195        2\n",
      "360       14\n",
      "365        2\n",
      "395      142\n",
      "400        9\n",
      "410      108\n",
      "450       75\n",
      "Name: payment_plan_days, dtype: int64\n",
      "\n",
      "is_cancel = 0 & plan_days = 0\n",
      "\n",
      "100       17\n",
      "119      252\n",
      "129      268\n",
      "149     2657\n",
      "1599      11\n",
      "1788       2\n",
      "Name: actual_amount_paid, dtype: int64\n"
     ]
    }
   ],
   "source": [
    "# Summarization\n",
    "print(\"_\"*15,\" (the training set) df_train_trans \", \"_\"*15)\n",
    "print(''*60)\n",
    "print(\"_\"*30,\" < -30 days\", \"_\"*30)\n",
    "print('is_cancel = 0')\n",
    "min_date = df_train_trans.membership_int.min()\n",
    "con = ((df_train_trans.membership_int.between(min_date, -30)) & (df_train_trans.is_cancel == 0))\n",
    "print(''*60)\n",
    "print(df_train_trans.loc[con,'payment_plan_days'].value_counts().sort_index())\n",
    "are_0_plan_days = df_train_trans.payment_plan_days.isin([0])\n",
    "print(''*60)\n",
    "print(\"is_cancel = 0 , plan_days = 0\" ) \n",
    "print(df_train_trans.loc[con & are_0_plan_days, 'actual_amount_paid'].value_counts().sort_index())\n",
    "# 1449 means 30 days plan , only 1 paid zero, place 30 days also\n",
    "print(''*60)\n",
    "print(\"_\"*30,\" > 450 days\", \"_\"*30)\n",
    "print('is_cancel = 0')\n",
    "print(''*60)\n",
    "print(df_train_trans.loc[df_train_trans.membership > pd.Timedelta('450 days'), 'payment_plan_days'].value_counts().sort_index())\n",
    "print(''*60)\n",
    "print('is_cancel = 0 & plan_days = 0')\n",
    "print(''*60)\n",
    "con = (df_train_trans.payment_plan_days == 0) & (df_train_trans.membership_int > 450)\n",
    "print(df_train_trans.loc[con, 'actual_amount_paid'].value_counts().sort_index())\n",
    "# 100,119,129,149 --> 30days \n",
    "#1599.1788 --> 400 days"
   ]
  },
  {
   "cell_type": "code",
   "execution_count": 64,
   "metadata": {},
   "outputs": [],
   "source": [
    "def fast_time_delta(s):\n",
    "    intervals = {interval:pd.to_timedelta(interval,unit='D') for interval in s.unique()}\n",
    "    return s.map(intervals)\n",
    "\n",
    "# ------------------------------------------negtive min_date ~ -30 days-------------------------------------------------------------\n",
    "# is_cancel = 1\n",
    "  # Clean up by replaceing trans_date \n",
    "min_date = df_train_trans.membership_int.min()\n",
    "con = ((df_train_trans.membership_int.between(min_date, -30)) & (df_train_trans.is_cancel == 1))\n",
    "df_train_trans.loc[con, 'mem_expire_date'] = df_train_trans.loc[con, 'trans_date'] \n",
    "# is_cancel = 0\n",
    "  # Clean up use:\n",
    "    # engineered payment_plan_days_time_delta --> plan_days_td\n",
    "    # payment_plan_days not 0 --> expire = trans + plan_days_td\n",
    "    # payment_plan_days is 0  --> expire = trans + 30 days (explored first with actual_amount_paid)\n",
    "    # the actual_amount_paid could be check on Summarization above\n",
    "\n",
    "df_train_trans['plan_days_td'] = fast_time_delta(df_train_trans.payment_plan_days)\n",
    "\n",
    "\n",
    "  # not_0_plan_days\n",
    "con = ((df_train_trans.membership_int.between(min_date,-30)) & (df_train_trans.is_cancel == 0))\n",
    "not_0_plan_days = ~ (df_train_trans.payment_plan_days.isin([0]))\n",
    "df_train_trans.loc[con & not_0_plan_days,'mem_expire_date'] = df_train_trans.loc[con & not_0_plan_days,'trans_date'] + \\\n",
    "df_train_trans.loc[con & not_0_plan_days,'plan_days_td']\n",
    "\n",
    "  # are_0_plan_days\n",
    "are_0_plan_days = df_train_trans.payment_plan_days.isin([0])\n",
    "df_train_trans.loc[con & are_0_plan_days,'mem_expire_date'] = df_train_trans.loc[con & are_0_plan_days,'trans_date'] + pd.Timedelta('30 days')\n",
    "\n",
    "#  -----------------------------------------positive 450 days ~ max_date-------------------------------------------------------------\n",
    "\n",
    "\n",
    "# is_cancel = 1\n",
    "  # Clean up by replaceing trans_date \n",
    "max_date = df_train_trans.membership_int.max()\n",
    "con = ((df_train_trans.membership_int.between(450, max_date)) & (df_train_trans.is_cancel == 1))\n",
    "df_train_trans.loc[con, 'mem_expire_date'] = df_train_trans.loc[con, 'trans_date'] \n",
    "\n",
    "# is_cancel = 0\n",
    "  # Clean up use:\n",
    "    # payment_plan_days not 0 --> expire = trans + plan_days_td\n",
    "    # payment_plan_days is 0 \n",
    "      # the  30 days case --> expire = trans + 30 days\n",
    "      # the 400 days case --> expire = trnas + 400 days\n",
    "\n",
    "\n",
    "# payment_plan_day not 0\n",
    "con = ((df_train_trans.membership_int.between(450,max_date)) & (df_train_trans.is_cancel == 0))\n",
    "not_0_plan_days = ~ (df_train_trans.payment_plan_days.isin([0]))\n",
    "df_train_trans.loc[con & not_0_plan_days,'mem_expire_date'] = df_train_trans.loc[con & not_0_plan_days,'trans_date'] + \\\n",
    "df_train_trans.loc[con & not_0_plan_days,'plan_days_td']\n",
    "\n",
    "# plan_days = 0 infer by actual_amount_paid\n",
    "# the 30 days case\n",
    "\n",
    "con = (df_train_trans.payment_plan_days == 0) & (df_train_trans.membership_int > 450)\n",
    "\n",
    "paid_30_days = df_train_trans.actual_amount_paid.isin([100,119,129,149])\n",
    "df_train_trans.loc[con & paid_30_days , 'mem_expire_date'] = \\\n",
    "df_train_trans.loc[con & paid_30_days, 'trans_date'] + pd.Timedelta('30 days')\n",
    "\n",
    "# plan_days = 0 infer by actual_amount_paid\n",
    "# the 400 days case\n",
    "paid_400_days = df_train_trans.actual_amount_paid.isin([1599,1788])\n",
    "df_train_trans.loc[con & paid_400_days , 'mem_expire_date'] = \\\n",
    "df_train_trans.loc[con & paid_400_days, 'trans_date'] + pd.Timedelta('400 days')"
   ]
  },
  {
   "cell_type": "code",
   "execution_count": 65,
   "metadata": {},
   "outputs": [
    {
     "name": "stdout",
     "output_type": "stream",
     "text": [
      "_______________  (the testing set) df_sub_trans  _______________\n",
      "\n",
      "______________________________  < -30 days ______________________________\n",
      "is_cancel = 0\n",
      "\n",
      "0       175\n",
      "30     1165\n",
      "60      236\n",
      "120       9\n",
      "180       6\n",
      "240       7\n",
      "Name: payment_plan_days, dtype: int64\n",
      "\n",
      "is_cancel = 0 , plan_days = 0\n",
      "0        1\n",
      "149    174\n",
      "Name: actual_amount_paid, dtype: int64\n",
      "\n",
      "______________________________  > 450 days ______________________________\n",
      "is_cancel = 0\n",
      "\n",
      "0       3185\n",
      "1          8\n",
      "10        14\n",
      "14         3\n",
      "30     74535\n",
      "31         1\n",
      "100        5\n",
      "180        3\n",
      "195        3\n",
      "360       36\n",
      "365        1\n",
      "395      141\n",
      "400        9\n",
      "410      101\n",
      "450       41\n",
      "Name: payment_plan_days, dtype: int64\n",
      "\n",
      "is_cancel = 0 & plan_days = 0\n",
      "\n",
      "100       16\n",
      "119      254\n",
      "129      268\n",
      "149     2641\n",
      "1599       6\n",
      "Name: actual_amount_paid, dtype: int64\n"
     ]
    }
   ],
   "source": [
    "# Summirization\n",
    "print(\"_\"*15,\" (the testing set) df_sub_trans \", \"_\"*15)\n",
    "print(''*60)\n",
    "print(\"_\"*30,\" < -30 days\", \"_\"*30)\n",
    "print('is_cancel = 0')\n",
    "min_date = df_sub_trans.membership_int.min()\n",
    "con = ((df_sub_trans.membership_int.between(min_date, -30)) & (df_sub_trans.is_cancel == 0))\n",
    "print(''*60)\n",
    "print(df_sub_trans.loc[con,'payment_plan_days'].value_counts().sort_index())\n",
    "are_0_plan_days = df_sub_trans.payment_plan_days.isin([0])\n",
    "print(''*60)\n",
    "print(\"is_cancel = 0 , plan_days = 0\" ) \n",
    "print(df_sub_trans.loc[con & are_0_plan_days, 'actual_amount_paid'].value_counts().sort_index())\n",
    "# 1449 means 30 days plan , only 1 paid zero, place 30 days also\n",
    "print(''*60)\n",
    "print(\"_\"*30,\" > 450 days\", \"_\"*30)\n",
    "print('is_cancel = 0')\n",
    "print(''*60)\n",
    "print(df_sub_trans.loc[df_sub_trans.membership > pd.Timedelta('450 days'), 'payment_plan_days'].value_counts().sort_index())\n",
    "print(''*60)\n",
    "print('is_cancel = 0 & plan_days = 0')\n",
    "print(''*60)\n",
    "con = (df_sub_trans.payment_plan_days == 0) & (df_sub_trans.membership_int > 450)\n",
    "print(df_sub_trans.loc[con, 'actual_amount_paid'].value_counts().sort_index())\n",
    "# 100,119,129,149 --> 30days \n",
    "#1599.1788 --> 400 days"
   ]
  },
  {
   "cell_type": "code",
   "execution_count": 66,
   "metadata": {},
   "outputs": [],
   "source": [
    "# ------------------------------------------negtive min_date ~ -30 days-------------------------------------------------------------\n",
    "# is_cancel = 1\n",
    "  # Clean up by replaceing trans_date \n",
    "min_date = df_sub_trans.membership_int.min()\n",
    "con = ((df_sub_trans.membership_int.between(min_date, -30)) & (df_sub_trans.is_cancel == 1))\n",
    "df_sub_trans.loc[con, 'mem_expire_date'] = df_sub_trans.loc[con, 'trans_date'] \n",
    "# is_cancel = 0\n",
    "  # Clean up use:\n",
    "    # engineered payment_plan_days_time_delta --> plan_days_td\n",
    "    # payment_plan_days not 0 --> expire = trans + plan_days_td\n",
    "    # payment_plan_days is 0  --> expire = trans + 30 days (explored first with actual_amount_paid)\n",
    "    # the actual_amount_paid could be check on Summirization above\n",
    "\n",
    "df_sub_trans['plan_days_td'] = fast_time_delta(df_sub_trans.payment_plan_days)\n",
    "\n",
    "\n",
    "  # not_0_plan_days\n",
    "con = ((df_sub_trans.membership_int.between(min_date,-30)) & (df_sub_trans.is_cancel == 0))\n",
    "not_0_plan_days = ~ (df_sub_trans.payment_plan_days.isin([0]))\n",
    "df_sub_trans.loc[con & not_0_plan_days,'mem_expire_date'] = df_sub_trans.loc[con & not_0_plan_days,'trans_date'] + \\\n",
    "df_sub_trans.loc[con & not_0_plan_days,'plan_days_td']\n",
    "\n",
    "  # are_0_plan_days\n",
    "  # the only one record paid 0 just fill with 30 days treated as NOISE\n",
    "are_0_plan_days = df_sub_trans.payment_plan_days.isin([0])\n",
    "df_sub_trans.loc[con & are_0_plan_days,'mem_expire_date'] = df_sub_trans.loc[con & are_0_plan_days,'trans_date'] + pd.Timedelta('30 days')\n",
    "\n",
    "#  -----------------------------------------positive 450 days ~ max_date-------------------------------------------------------------\n",
    "\n",
    "\n",
    "# is_cancel = 1\n",
    "  # Clean up by replaceing trans_date \n",
    "max_date = df_sub_trans.membership_int.max()\n",
    "con = ((df_sub_trans.membership_int.between(450, max_date)) & (df_sub_trans.is_cancel == 1))\n",
    "df_sub_trans.loc[con, 'mem_expire_date'] = df_sub_trans.loc[con, 'trans_date'] \n",
    "\n",
    "# is_cancel = 0\n",
    "  # Clean up use:\n",
    "    # payment_plan_days not 0 --> expire = trans + plan_days_td\n",
    "    # payment_plan_days is 0 \n",
    "      # the  30 days case --> expire = trans + 30 days\n",
    "      # the 400 days case --> expire = trnas + 400 days\n",
    "\n",
    "\n",
    "# payment_plan_day not 0\n",
    "con = ((df_sub_trans.membership_int.between(450,max_date)) & (df_sub_trans.is_cancel == 0))\n",
    "not_0_plan_days = ~ (df_sub_trans.payment_plan_days.isin([0]))\n",
    "df_sub_trans.loc[con & not_0_plan_days,'mem_expire_date'] = df_sub_trans.loc[con & not_0_plan_days,'trans_date'] + \\\n",
    "df_sub_trans.loc[con & not_0_plan_days,'plan_days_td']\n",
    "\n",
    "# plan_days = 0 infer by actual_amount_paid\n",
    "# the 30 days case\n",
    "\n",
    "con = (df_sub_trans.payment_plan_days == 0) & (df_sub_trans.membership_int > 450)\n",
    "\n",
    "paid_30_days = df_sub_trans.actual_amount_paid.isin([100,119,129,149])\n",
    "df_sub_trans.loc[con & paid_30_days , 'mem_expire_date'] = \\\n",
    "df_sub_trans.loc[con & paid_30_days, 'trans_date'] + pd.Timedelta('30 days')\n",
    "\n",
    "# plan_days = 0 infer by actual_amount_paid\n",
    "# the 400 days case\n",
    "paid_400_days = df_sub_trans.actual_amount_paid.isin([1599])\n",
    "df_sub_trans.loc[con & paid_400_days , 'mem_expire_date'] = \\\n",
    "df_sub_trans.loc[con & paid_400_days, 'trans_date'] + pd.Timedelta('400 days')"
   ]
  },
  {
   "cell_type": "markdown",
   "metadata": {},
   "source": [
    "### Drop leaky predictor"
   ]
  },
  {
   "cell_type": "code",
   "execution_count": 67,
   "metadata": {},
   "outputs": [
    {
     "name": "stdout",
     "output_type": "stream",
     "text": [
      "(853747, 13)\n",
      "(0, 13)\n"
     ]
    }
   ],
   "source": [
    "print(df_train_trans[df_train_trans.trans_date > np.datetime64('2017-03-01')].shape)\n",
    "print(df_sub_trans[df_sub_trans.trans_date > np.datetime64('2017-04-01')].shape)"
   ]
  },
  {
   "cell_type": "code",
   "execution_count": 68,
   "metadata": {},
   "outputs": [
    {
     "name": "stdout",
     "output_type": "stream",
     "text": [
      "<class 'pandas.core.frame.DataFrame'>\n",
      "Int64Index: 13769249 entries, 8365578 to 3357563\n",
      "Data columns (total 13 columns):\n",
      "msno                  category\n",
      "is_churn              int8\n",
      "payment_method_id     int8\n",
      "payment_plan_days     int16\n",
      "plan_list_price       int16\n",
      "actual_amount_paid    int16\n",
      "is_auto_renew         int8\n",
      "trans_date            datetime64[ns]\n",
      "mem_expire_date       datetime64[ns]\n",
      "is_cancel             int8\n",
      "membership            timedelta64[ns]\n",
      "membership_int        float64\n",
      "plan_days_td          timedelta64[ns]\n",
      "dtypes: category(1), datetime64[ns](2), float64(1), int16(3), int8(4), timedelta64[ns](2)\n",
      "memory usage: 860.9 MB\n"
     ]
    }
   ],
   "source": [
    "df_train_trans = df_train_trans[ ~ (  df_train_trans.trans_date > np.datetime64('2017-03-01')  ) ]\n",
    "df_train_trans.info()"
   ]
  },
  {
   "cell_type": "markdown",
   "metadata": {},
   "source": [
    "## Features\n",
    "### Last_Last_churn"
   ]
  },
  {
   "cell_type": "code",
   "execution_count": 69,
   "metadata": {},
   "outputs": [],
   "source": [
    "def ll_churn(df):\n",
    "  # to avoid mistake by chance, let's sort first\n",
    "  # at the same time, groupby.cumsum has no argument about ascending, so it's necessary\n",
    "  \n",
    "  df = df.sort_values(by=['msno','trans_date'],ascending=True)\n",
    "  df['next_trans_after'] = df['trans_date'].shift(-1) - df['mem_expire_date']\n",
    "  df['the_same_user'] = df['msno'] == df['msno'].shift(-1)\n",
    "  \n",
    "  # 40 days allow more tolerance about churn\n",
    "  df['churn_record'] = (df['next_trans_after'] > pd.Timedelta('30 days')) & (df['the_same_user'] == True)\n",
    "  \n",
    "  # convert boolen to 1 and 0 \n",
    "  df['churn_record'] = df['churn_record']*1\n",
    "  \n",
    "  # sort_by expire_date\n",
    "  df = df.sort_values(by=['msno','mem_expire_date'],ascending=False)\n",
    "\n",
    "  # take out last_last_churn\n",
    "  ft = df.groupby(by=['msno'],as_index=False).nth(1)[['msno','churn_record']]\n",
    "  ft = ft.rename(columns={'churn_record':'last_last_churn'})\n",
    "  \n",
    "  return ft"
   ]
  },
  {
   "cell_type": "code",
   "execution_count": 70,
   "metadata": {},
   "outputs": [],
   "source": [
    "ft_last_last_churn_train = ll_churn(df_train_trans)\n",
    "ft_last_last_churn_sub = ll_churn(df_sub_trans)"
   ]
  },
  {
   "cell_type": "code",
   "execution_count": 71,
   "metadata": {},
   "outputs": [
    {
     "data": {
      "text/plain": [
       "0    839107\n",
       "1     10605\n",
       "Name: last_last_churn, dtype: int64"
      ]
     },
     "execution_count": 71,
     "metadata": {},
     "output_type": "execute_result"
    }
   ],
   "source": [
    "ft_last_last_churn_train.last_last_churn.value_counts()"
   ]
  },
  {
   "cell_type": "code",
   "execution_count": 72,
   "metadata": {},
   "outputs": [],
   "source": [
    "df_train = pd.merge(df_train,ft_last_last_churn_train,how='left',on=['msno']);\n",
    "df_sub = pd.merge(df_sub,ft_last_last_churn_train,how='left',on=['msno']);"
   ]
  },
  {
   "cell_type": "code",
   "execution_count": 73,
   "metadata": {},
   "outputs": [
    {
     "name": "stdout",
     "output_type": "stream",
     "text": [
      "______________________________ traning set ______________________________\n",
      "\n",
      "0.000     839107\n",
      "-1.000     36788\n",
      "1.000      10605\n",
      "Name: last_last_churn, dtype: int64\n",
      "______________________________ testing set ______________________________\n",
      "\n",
      "0.000     785602\n",
      "-1.000    117405\n",
      "1.000       4464\n",
      "Name: last_last_churn, dtype: int64\n"
     ]
    }
   ],
   "source": [
    "# only one trans_record does not have last_last_churn information\n",
    "df_train.last_last_churn = df_train.last_last_churn.fillna(-1)\n",
    "df_sub.last_last_churn = df_sub.last_last_churn.fillna(-1)\n",
    "print('_'*30, 'traning set', '_'*30)\n",
    "print(''*60)\n",
    "print(df_train.last_last_churn.value_counts())\n",
    "print('_'*30, 'testing set', '_'*30)\n",
    "print(''*60)\n",
    "print(df_sub.last_last_churn.value_counts())"
   ]
  },
  {
   "cell_type": "code",
   "execution_count": 74,
   "metadata": {},
   "outputs": [
    {
     "data": {
      "text/plain": [
       "<matplotlib.lines.Line2D at 0x7f5a56410be0>"
      ]
     },
     "execution_count": 74,
     "metadata": {},
     "output_type": "execute_result"
    },
    {
     "data": {
      "image/png": "[encoded data removed]",
      "text/plain": [
       "<matplotlib.figure.Figure at 0x7f5c20d9dbe0>"
      ]
     },
     "metadata": {},
     "output_type": "display_data"
    }
   ],
   "source": [
    "result_ll_churn = df_train.groupby([\"last_last_churn\"])['is_churn'].mean().reset_index().sort_values('is_churn')\n",
    "fig, ax = plt.subplots(figsize=(12,8))\n",
    "sns.barplot(x='last_last_churn', y='is_churn', data=df_train,ax=ax,order=result_ll_churn['last_last_churn'])\n",
    "ax.axhline(0.049,linestyle='dashed', c='black',alpha = .3)"
   ]
  },
  {
   "cell_type": "markdown",
   "metadata": {},
   "source": [
    "### Modeling"
   ]
  },
  {
   "cell_type": "code",
   "execution_count": 75,
   "metadata": {},
   "outputs": [
    {
     "name": "stdout",
     "output_type": "stream",
     "text": [
      "Index(['msno', 'is_churn', 'six_month_day_listen', 'six_month_satis', 'city',\n",
      "       'bd', 'gender', 'registered_via', 'registration_init_time',\n",
      "       'age_under_26', 'last_last_churn'],\n",
      "      dtype='object')\n",
      "Index(['msno', 'is_churn', 'six_month_day_listen', 'six_month_satis', 'city',\n",
      "       'bd', 'gender', 'registered_via', 'registration_init_time',\n",
      "       'age_under_26', 'last_last_churn'],\n",
      "      dtype='object')\n"
     ]
    }
   ],
   "source": [
    "# split and prepare features \n",
    "print(df_train.columns)\n",
    "print(df_sub.columns)\n",
    "ll_churn_fts = age_fts + ['last_last_churn']\n",
    "exclude_list = ['msno','is_churn']"
   ]
  },
  {
   "cell_type": "code",
   "execution_count": 76,
   "metadata": {},
   "outputs": [
    {
     "name": "stdout",
     "output_type": "stream",
     "text": [
      "training using features: \n",
      " ['six_month_day_listen', 'six_month_satis', 'registered_via', 'age_under_26', 'last_last_churn']\n",
      "[0]\tvalidation_0-logloss:0.628796\tvalidation_1-logloss:0.628753\n",
      "Multiple eval metrics have been passed: 'validation_1-logloss' will be used for early stopping.\n",
      "\n",
      "Will train until validation_1-logloss hasn't improved in 20 rounds.\n",
      "[70]\tvalidation_0-logloss:0.154979\tvalidation_1-logloss:0.153858\n",
      "[140]\tvalidation_0-logloss:0.1543\tvalidation_1-logloss:0.153465\n",
      "Stopping. Best iteration:\n",
      "[176]\tvalidation_0-logloss:0.154085\tvalidation_1-logloss:0.153411\n",
      "\n"
     ]
    }
   ],
   "source": [
    "print('training using features: \\n' ,[fts for fts in ll_churn_fts if fts not in exclude_list])\n",
    "ll_churn_model_xgb, ll_churn_val_score_xgb,\\\n",
    "ll_churn_pred_xgb = model_training_xgb(df_train[ll_churn_fts],df_sub[ll_churn_fts])"
   ]
  },
  {
   "cell_type": "code",
   "execution_count": 77,
   "metadata": {},
   "outputs": [
    {
     "data": {
      "text/plain": [
       "<matplotlib.axes._subplots.AxesSubplot at 0x7f5c963281d0>"
      ]
     },
     "execution_count": 77,
     "metadata": {},
     "output_type": "execute_result"
    },
    {
     "data": {
      "image/png": "[encoded data removed]",
      "text/plain": [
       "<matplotlib.figure.Figure at 0x7f5c864cb860>"
      ]
     },
     "metadata": {},
     "output_type": "display_data"
    }
   ],
   "source": [
    "fig, ax = plt.subplots(figsize=(12,8))\n",
    "xgb.plot_importance(ll_churn_model_xgb,importance_type='gain',ax=ax,xlabel='structure gain')"
   ]
  },
  {
   "cell_type": "code",
   "execution_count": 80,
   "metadata": {},
   "outputs": [
    {
     "name": "stdout",
     "output_type": "stream",
     "text": [
      "Copying file:///content/datalab/sub_ll_churn_xgb_pred.csv [Content-Type=text/csv]...\n",
      "\\ [1 files][ 49.1 MiB/ 49.1 MiB]                                                \n",
      "Operation completed over 1 objects/49.1 MiB.                                     \n",
      "age logloss val:  0.16151\n",
      "age logloss LB:  0.13161\n",
      "--------------------  + ll_churn --------------------\n",
      "ll_churn log_loss LB :  0.15347\n",
      "ll_churn log_loss LB :  0.12698\n"
     ]
    }
   ],
   "source": [
    "ll_churn_pred_xgb.to_csv(\"/content/datalab/sub_ll_churn_xgb_pred.csv\", index=False)\n",
    "!gsutil cp '/content/datalab/sub_ll_churn_xgb_pred.csv' 'gs://kk_data/submission/sub_ll_churn_xgb_pred.csv';\n",
    "\n",
    "print('age logloss val: ',0.16151)\n",
    "print('age logloss LB: ',0.13161)\n",
    "print('-'*20,' + ll_churn','-'*20)\n",
    "print('ll_churn log_loss LB : ',0.15347)\n",
    "print('ll_churn log_loss LB : ',0.12698)"
   ]
  },
  {
   "cell_type": "markdown",
   "metadata": {},
   "source": [
    "## Churn_times"
   ]
  },
  {
   "cell_type": "code",
   "execution_count": 41,
   "metadata": {},
   "outputs": [],
   "source": [
    "def ft_churn_times(df):\n",
    "  # to avoid mistake by chance, let's sort first\n",
    "  # at the same time, groupby.cumsum has no argument about ascending, so it's necessary\n",
    "  \n",
    "  df = df.sort_values(by=['msno','trans_date'],ascending=True)\n",
    "  df['next_trans_after'] = df['trans_date'].shift(-1) - df['mem_expire_date']\n",
    "  df['the_same_user'] = df['msno'] == df['msno'].shift(-1)\n",
    "  \n",
    "  # 40 days allow more tolerance about churn\n",
    "  df['churn_record'] = (df['next_trans_after'] > pd.Timedelta('30 days')) & (df['the_same_user'] == True)\n",
    "  \n",
    "  # convert boolen to 1 and 0 \n",
    "  df['churn_record'] = df['churn_record']*1\n",
    "  # cumsum\n",
    "  df['churn_record_so_far'] = df.groupby(by=['msno'],as_index=False)['churn_record'].cumsum()\n",
    "\n",
    "  # take out using tail instead of head\n",
    "  ft = df.groupby(by=['msno'],as_index=False)[['msno','churn_record_so_far']].tail(1)\n",
    "  ft = ft.rename(columns={'churn_record_so_far':'churn_times'})\n",
    "  return ft"
   ]
  },
  {
   "cell_type": "code",
   "execution_count": 42,
   "metadata": {},
   "outputs": [],
   "source": [
    "ft_churn_times_train = ft_churn_times(df_train_trans)\n",
    "ft_churn_times_sub = ft_churn_times(df_sub_trans)"
   ]
  },
  {
   "cell_type": "code",
   "execution_count": 43,
   "metadata": {},
   "outputs": [
    {
     "name": "stdout",
     "output_type": "stream",
     "text": [
      "0    687938\n",
      "1    163057\n",
      "2     23629\n",
      "3      9127\n",
      "4      2139\n",
      "5       495\n",
      "6       102\n",
      "7        11\n",
      "8         2\n",
      "Name: churn_times, dtype: int64\n",
      "0    707893\n",
      "1    163139\n",
      "2     24086\n",
      "3      9337\n",
      "4      2288\n",
      "5       594\n",
      "6       115\n",
      "7        16\n",
      "8         2\n",
      "9         1\n",
      "Name: churn_times, dtype: int64\n"
     ]
    }
   ],
   "source": [
    "print(ft_churn_times_train.churn_times.value_counts())\n",
    "print(ft_churn_times_sub.churn_times.value_counts())"
   ]
  },
  {
   "cell_type": "code",
   "execution_count": 44,
   "metadata": {},
   "outputs": [],
   "source": [
    "df_train = pd.merge(df_train, ft_churn_times_train, how='left',on=['msno'])\n",
    "df_sub = pd.merge(df_sub, ft_churn_times_sub, how='left',on=['msno'])"
   ]
  },
  {
   "cell_type": "code",
   "execution_count": 45,
   "metadata": {},
   "outputs": [
    {
     "name": "stdout",
     "output_type": "stream",
     "text": [
      "______________________________ All data ______________________________\n",
      "____________________________________________________________\n",
      "0    1395831\n",
      "1     326196\n",
      "2      47715\n",
      "3      24229\n",
      "Name: churn_times_level_code, dtype: int64\n",
      "____________________________________________________________\n",
      "______________________________ training_set ______________________________\n",
      "0    687938\n",
      "1    163057\n",
      "2     23629\n",
      "3     11876\n",
      "Name: churn_times_level_code, dtype: int64\n"
     ]
    },
    {
     "data": {
      "image/png": "[encoded data removed]",
      "text/plain": [
       "<matplotlib.figure.Figure at 0x7f028e3984a8>"
      ]
     },
     "metadata": {},
     "output_type": "display_data"
    }
   ],
   "source": [
    "df_data = df_train.append(df_sub)\n",
    "max_churn_times = max(df_data.churn_times)\n",
    "# cut at churn_times >= 4 group named 4 up --> churn_times_level = 4\n",
    "\n",
    "bins = [-1,0,1,2,max_churn_times]\n",
    "\n",
    "# period = nodes - 1 --> labels = np.arange(len( bins) -1 )\n",
    "df_data['churn_times_level_code'] = pd.cut(df_data.churn_times, bins, labels= np.arange( len( bins) - 1 ) )\n",
    "df_data['churn_times_level_code'] = df_data['churn_times_level_code'].astype('int8')\n",
    "# churn_times 1,2,3,4up\n",
    "fig,ax = plt.subplots(figsize= (12,7) )\n",
    "# barplot of churn rate\n",
    "sns.barplot(x='churn_times_level_code', y='is_churn', data=df_data,ax=ax,alpha=.75)\n",
    "ax.axhline(0.049,linestyle='dashed',c='black',alpha=.3)\n",
    "\n",
    "# value_counts info\n",
    "print('_'*30,'All data','_'*30)\n",
    "print('_'*60)\n",
    "print(df_data['churn_times_level_code'].value_counts())\n",
    "print('_'*60)\n",
    "print('_'*30,'training_set','_'*30)\n",
    "print(df_data[:len(df_train)]['churn_times_level_code'].value_counts())"
   ]
  },
  {
   "cell_type": "markdown",
   "metadata": {},
   "source": [
    "### Modeling"
   ]
  },
  {
   "cell_type": "code",
   "execution_count": 63,
   "metadata": {},
   "outputs": [
    {
     "name": "stdout",
     "output_type": "stream",
     "text": [
      "Index(['msno', 'is_churn', 'day_listen', 'user_latent_satisfaction', 'city',\n",
      "       'bd', 'gender', 'registered_via', 'registration_init_time',\n",
      "       'age_under_26', 'last_last_churn', 'churn_times',\n",
      "       'churn_times_level_code'],\n",
      "      dtype='object')\n",
      "Index(['msno', 'is_churn', 'day_listen', 'user_latent_satisfaction', 'city',\n",
      "       'bd', 'gender', 'registered_via', 'registration_init_time',\n",
      "       'age_under_26', 'last_last_churn', 'churn_times',\n",
      "       'churn_times_level_code'],\n",
      "      dtype='object')\n"
     ]
    }
   ],
   "source": [
    "# split and prepare features \n",
    "df_train, df_sub = df_data[:len(df_train)], df_data[len(df_train):]\n",
    "print(df_train.columns)\n",
    "print(df_sub.columns)\n",
    "churn_times_level_fts = ll_churn_fts + ['churn_times_level_code']\n",
    "exclude_list = ['msno','is_churn']"
   ]
  },
  {
   "cell_type": "code",
   "execution_count": 173,
   "metadata": {},
   "outputs": [
    {
     "name": "stdout",
     "output_type": "stream",
     "text": [
      "training using features: \n",
      " ['day_listen', 'user_latent_satisfaction', 'registered_via', 'age_under_26', 'last_last_churn', 'churn_times_level_code']\n",
      "[0]\tvalidation_0-logloss:0.628785\tvalidation_1-logloss:0.628736\n",
      "Multiple eval metrics have been passed: 'validation_1-logloss' will be used for early stopping.\n",
      "\n",
      "Will train until validation_1-logloss hasn't improved in 20 rounds.\n",
      "[70]\tvalidation_0-logloss:0.153608\tvalidation_1-logloss:0.15263\n",
      "[140]\tvalidation_0-logloss:0.152802\tvalidation_1-logloss:0.152218\n",
      "[210]\tvalidation_0-logloss:0.152382\tvalidation_1-logloss:0.152166\n",
      "Stopping. Best iteration:\n",
      "[215]\tvalidation_0-logloss:0.152359\tvalidation_1-logloss:0.152155\n",
      "\n"
     ]
    }
   ],
   "source": [
    "print('training using features: \\n' ,[fts for fts in churn_times_level_fts if fts not in exclude_list])\n",
    "churn_times_level_model_xgb, churn_times_level_val_score_xgb,\\\n",
    "churn_times_level_pred_xgb = model_training_xgb(df_train[churn_times_level_fts],df_sub[churn_times_level_fts])"
   ]
  },
  {
   "cell_type": "code",
   "execution_count": 174,
   "metadata": {},
   "outputs": [
    {
     "data": {
      "text/plain": [
       "<matplotlib.axes._subplots.AxesSubplot at 0x7fe2120d3c18>"
      ]
     },
     "execution_count": 174,
     "metadata": {},
     "output_type": "execute_result"
    },
    {
     "data": {
      "image/png": "[encoded data removed]",
      "text/plain": [
       "<matplotlib.figure.Figure at 0x7fe1128b0518>"
      ]
     },
     "metadata": {},
     "output_type": "display_data"
    }
   ],
   "source": [
    "fig, ax = plt.subplots(figsize=(12,8))\n",
    "xgb.plot_importance(churn_times_level_model_xgb,importance_type='gain',ax=ax,xlabel='structure gain')"
   ]
  },
  {
   "cell_type": "code",
   "execution_count": 176,
   "metadata": {},
   "outputs": [
    {
     "name": "stdout",
     "output_type": "stream",
     "text": [
      "Copying file:///content/datalab/sub_churn_times_level_xgb_pred.csv [Content-Type=text/csv]...\n",
      "- [1 files][ 49.1 MiB/ 49.1 MiB]                                                \n",
      "Operation completed over 1 objects/49.1 MiB.                                     \n",
      "ll_churn logloss val:  0.15347\n",
      "ll_churn logloss LB:  0.12769\n",
      "--------------------  + churn_times_level --------------------\n",
      "churn_times_level log_loss val :  0.152155\n",
      "churn_times_level log_loss LB :  0.1269\n"
     ]
    }
   ],
   "source": [
    "churn_times_level_pred_xgb.to_csv(\"/content/datalab/sub_churn_times_level_xgb_pred.csv\", index=False)\n",
    "!gsutil cp '/content/datalab/sub_churn_times_level_xgb_pred.csv' 'gs://kk_data/submission/sub_churn_times_level_xgb_pred.csv';\n",
    "\n",
    "print('ll_churn logloss val: ',0.15347)\n",
    "print('ll_churn logloss LB: ',0.12769)\n",
    "print('-'*20,' + churn_times_level','-'*20)\n",
    "print('churn_times_level log_loss val : ',0.152155)\n",
    "print('churn_times_level log_loss LB : ',0.12690)"
   ]
  },
  {
   "cell_type": "markdown",
   "metadata": {},
   "source": [
    "## Auto renew explore"
   ]
  },
  {
   "cell_type": "markdown",
   "metadata": {},
   "source": [
    "* We cannot combine df_train_trans and df_sub_trans for exploration, due to the deplicated msno"
   ]
  },
  {
   "cell_type": "code",
   "execution_count": 47,
   "metadata": {},
   "outputs": [],
   "source": [
    "# since cumsum does not support ascending = False, we resort our data with mem_expire_date first\n",
    "# need to fix sort_problem\n",
    "df_train_trans = df_train_trans.sort_values(by=['msno'],ascending=False).sort_values(by=['mem_expire_date'],ascending=True)\n",
    "# apply function groupby.cumsum()\n",
    "df_train_trans['auto_renew_so_far'] = df_train_trans.groupby(by=['msno'],as_index=False)['is_auto_renew'].cumsum()\n",
    "# resort with latest expire_date first\n",
    "df_train_trans.sort_values(by=['msno','mem_expire_date'],ascending=False,inplace=True);\n",
    "# since cumcount start at 0, we plus one for adjusting\n",
    "df_train_trans['trans_times_so_far'] = df_train_trans.groupby(by=['msno'],as_index=False)['is_auto_renew'].cumcount(ascending=False) + 1"
   ]
  },
  {
   "cell_type": "code",
   "execution_count": 48,
   "metadata": {},
   "outputs": [
    {
     "name": "stderr",
     "output_type": "stream",
     "text": [
      "/usr/local/envs/py3env/lib/python3.5/site-packages/pandas/core/computation/eval.py:321: SettingWithCopyWarning: \n",
      "A value is trying to be set on a copy of a slice from a DataFrame.\n",
      "Try using .loc[row_indexer,col_indexer] = value instead\n",
      "\n",
      "See the caveats in the documentation: http://pandas.pydata.org/pandas-docs/stable/indexing.html#indexing-view-versus-copy\n",
      "  target[parsed_expr.assigner] = ret\n"
     ]
    }
   ],
   "source": [
    "agg_result = df_train_trans.groupby(by=['msno'],as_index=False).head(1)\n",
    "agg_result.eval('ratio_auto_renew = auto_renew_so_far / trans_times_so_far', inplace=True);"
   ]
  },
  {
   "cell_type": "code",
   "execution_count": 49,
   "metadata": {},
   "outputs": [
    {
     "name": "stdout",
     "output_type": "stream",
     "text": [
      "ratio of All auto_renew:0.808\n",
      "ratio of All manual_renew:0.109\n",
      "ratio of Mix manual&auto renew:0.084\n"
     ]
    },
    {
     "data": {
      "image/png": "[encoded data removed]",
      "text/plain": [
       "<matplotlib.figure.Figure at 0x7f03c416f9b0>"
      ]
     },
     "metadata": {},
     "output_type": "display_data"
    }
   ],
   "source": [
    "fig, ax = plt.subplots(figsize=(20,12))\n",
    "sns.distplot(agg_result.ratio_auto_renew,kde=False,ax=ax)\n",
    "ax.set_yscale('squareroot')\n",
    "print('ratio of All auto_renew:%.3f'%((agg_result.ratio_auto_renew == 1 ).sum() / len(agg_result)))\n",
    "print('ratio of All manual_renew:%.3f'%((agg_result.ratio_auto_renew == 0 ).sum() / len(agg_result)))\n",
    "print('ratio of Mix manual&auto renew:%.3f'%(( (agg_result.ratio_auto_renew < 1) & (agg_result.ratio_auto_renew > 0) ).sum() / len(agg_result)))"
   ]
  },
  {
   "cell_type": "code",
   "execution_count": 50,
   "metadata": {},
   "outputs": [
    {
     "name": "stdout",
     "output_type": "stream",
     "text": [
      "All_auto_renew churn_rate: 0.013\n",
      "All_manual_renew churn_rate: 0.287\n"
     ]
    }
   ],
   "source": [
    "print('All_auto_renew churn_rate: %.3f' %(agg_result.query('ratio_auto_renew == 1').is_churn.mean()) )\n",
    "print('All_manual_renew churn_rate: %.3f' %(agg_result.query('ratio_auto_renew == 0').is_churn.mean()) )"
   ]
  },
  {
   "cell_type": "markdown",
   "metadata": {},
   "source": [
    "## Last_auto_renew"
   ]
  },
  {
   "cell_type": "code",
   "execution_count": 55,
   "metadata": {},
   "outputs": [],
   "source": [
    "# Feature Engineering\n",
    "# for safe, sorted first\n",
    "df_train_trans = df_train_trans.sort_values(by=['msno','mem_expire_date'],ascending=False)\n",
    "df_sub_trans = df_sub_trans.sort_values(by=['msno','mem_expire_date'],ascending=False)\n",
    "ft_last_auto_renew_train = df_train_trans[['msno','is_auto_renew']].groupby(by=['msno'],as_index=False).head(1)\n",
    "ft_last_auto_renew_sub = df_sub_trans[['msno','is_auto_renew']].groupby(by=['msno'],as_index=False).head(1)\n",
    "# feature rename\n",
    "ft_last_auto_renew_train.rename(columns={'is_auto_renew':'last_auto_renew'}, inplace=True)\n",
    "ft_last_auto_renew_sub.rename(columns={'is_auto_renew':'last_auto_renew'}, inplace=True)"
   ]
  },
  {
   "cell_type": "code",
   "execution_count": 69,
   "metadata": {},
   "outputs": [],
   "source": [
    "df_train = pd.merge(df_train,ft_last_auto_renew_train,how='left',on=['msno'])\n",
    "df_sub = pd.merge(df_sub,ft_last_auto_renew_sub,how='left',on=['msno'])"
   ]
  },
  {
   "cell_type": "code",
   "execution_count": 70,
   "metadata": {},
   "outputs": [
    {
     "data": {
      "image/png": "[encoded data removed]",
      "text/plain": [
       "<matplotlib.figure.Figure at 0x7f047824d160>"
      ]
     },
     "metadata": {},
     "output_type": "display_data"
    }
   ],
   "source": [
    "with sns.axes_style('white'):\n",
    "  fig, ax = plt.subplots(figsize= (12,8) )\n",
    "# prepare table (% of each value)\n",
    "  df_percent = pd.DataFrame( df_train['last_auto_renew'].value_counts().sort_index() / len(df_train) ).round(3) \n",
    "# barplot with percent table\n",
    "  sns.barplot(x='last_auto_renew',y='is_churn',data=df_train,ax=ax)\n",
    "  ax.axhline(0.049,linestyle='dashed', c='black',alpha = .3)\n",
    "  table(ax, df_percent,bbox=[0.80, 0.72, 0.2, 0.27])"
   ]
  },
  {
   "cell_type": "markdown",
   "metadata": {},
   "source": [
    "### Modeling"
   ]
  },
  {
   "cell_type": "code",
   "execution_count": 101,
   "metadata": {},
   "outputs": [
    {
     "name": "stdout",
     "output_type": "stream",
     "text": [
      "Index(['msno', 'is_churn', 'day_listen', 'user_latent_satisfaction', 'city',\n",
      "       'bd', 'gender', 'registered_via', 'registration_init_time',\n",
      "       'age_under_26', 'last_last_churn', 'churn_times',\n",
      "       'churn_times_level_code', 'last_auto_renew'],\n",
      "      dtype='object')\n",
      "Index(['msno', 'is_churn', 'day_listen', 'user_latent_satisfaction', 'city',\n",
      "       'bd', 'gender', 'registered_via', 'registration_init_time',\n",
      "       'age_under_26', 'last_last_churn', 'churn_times',\n",
      "       'churn_times_level_code', 'last_auto_renew'],\n",
      "      dtype='object')\n"
     ]
    },
    {
     "data": {
      "text/plain": [
       "['msno',\n",
       " 'is_churn',\n",
       " 'day_listen',\n",
       " 'user_latent_satisfaction',\n",
       " 'registered_via',\n",
       " 'age_under_26',\n",
       " 'last_last_churn',\n",
       " 'churn_times_level_code',\n",
       " 'last_auto_renew']"
      ]
     },
     "execution_count": 101,
     "metadata": {},
     "output_type": "execute_result"
    }
   ],
   "source": [
    "# split and prepare features \n",
    "print(df_train.columns)\n",
    "print(df_sub.columns)\n",
    "last_auto_renew_fts = churn_times_level_fts + ['last_auto_renew']\n",
    "exclude_list = ['msno','is_churn']\n",
    "# exclude_list_2 = ['user_latent_satisfaction']\n",
    "# last_auto_renew_fts = [fts for fts in last_auto_renew_fts if fts not in exclude_list_2]\n",
    "last_auto_renew_fts"
   ]
  },
  {
   "cell_type": "code",
   "execution_count": 102,
   "metadata": {},
   "outputs": [],
   "source": [
    "def model_training_xgb(training_data,testing_data):\n",
    "  # splits train and validation set\n",
    "  X = training_data.drop(labels=['msno','is_churn'],axis=1)\n",
    "  Y = training_data['is_churn']\n",
    "  X_train, X_val, Y_train, Y_val = train_test_split(X, Y, test_size=0.2,random_state = 2)\n",
    "  # model\n",
    "  xgb_watchlist = [(X_train, Y_train), (X_val, Y_val)]\n",
    "  model = xgb.XGBClassifier(learning_rate=0.08, max_depth=3,n_estimators=300,\\\n",
    "                 subsample=0.5, seed=2,missing=-1)\n",
    "  model.fit(X_train, Y_train,eval_set=xgb_watchlist,eval_metric='logloss',\n",
    "            early_stopping_rounds=20,verbose=70)\n",
    "  # caculating E_val\n",
    "\n",
    "  model_probs = model.predict_proba(X_val)\n",
    "    # [:,1] to show the prob to is_churn = 1\n",
    "  model_val_score = log_loss(Y_val,model_probs[:,1])\n",
    "  \n",
    "  # predict on testing set\n",
    "  model_pred_testing_set = model.predict_proba(testing_data.drop(labels=['msno','is_churn'],axis=1))\n",
    "  model_pred_testing_set = model_pred_testing_set[:,1] # take out the prob if is_churn = 1\n",
    "  submission = pd.DataFrame({\"msno\": testing_data.msno})\n",
    "  submission.insert(1,column='is_churn',value=model_pred_testing_set)\n",
    "  \n",
    "  return model, model_val_score, submission"
   ]
  },
  {
   "cell_type": "code",
   "execution_count": 103,
   "metadata": {},
   "outputs": [
    {
     "name": "stdout",
     "output_type": "stream",
     "text": [
      "training using features: \n",
      " ['day_listen', 'user_latent_satisfaction', 'registered_via', 'age_under_26', 'last_last_churn', 'churn_times_level_code', 'last_auto_renew']\n",
      "[0]\tvalidation_0-logloss:0.627636\tvalidation_1-logloss:0.627613\n",
      "Multiple eval metrics have been passed: 'validation_1-logloss' will be used for early stopping.\n",
      "\n",
      "Will train until validation_1-logloss hasn't improved in 20 rounds.\n",
      "[70]\tvalidation_0-logloss:0.136862\tvalidation_1-logloss:0.135925\n",
      "[140]\tvalidation_0-logloss:0.135836\tvalidation_1-logloss:0.135235\n",
      "Stopping. Best iteration:\n",
      "[148]\tvalidation_0-logloss:0.135806\tvalidation_1-logloss:0.135229\n",
      "\n"
     ]
    }
   ],
   "source": [
    "print('training using features: \\n' ,[fts for fts in last_auto_renew_fts if fts not in exclude_list])\n",
    "last_auto_renew_model_xgb, last_auto_renew_val_score_xgb,\\\n",
    "last_auto_renew_pred_xgb = model_training_xgb(df_train[last_auto_renew_fts],df_sub[last_auto_renew_fts])"
   ]
  },
  {
   "cell_type": "code",
   "execution_count": 27,
   "metadata": {},
   "outputs": [
    {
     "data": {
      "image/png": "[encoded data removed]",
      "text/plain": [
       "<matplotlib.figure.Figure at 0x7fc4c617aa90>"
      ]
     },
     "metadata": {},
     "output_type": "display_data"
    }
   ],
   "source": [
    "# show values only worked in version 0.8.0\n",
    "fig, ax = plt.subplots(figsize=(12,8))\n",
    "xgb.plot_importance(last_auto_renew_model_xgb,importance_type='gain',\n",
    "                    ax=ax,xlabel='structure gain',show_values=False)\n",
    "ax.set_xscale('squareroot')"
   ]
  },
  {
   "cell_type": "code",
   "execution_count": 104,
   "metadata": {},
   "outputs": [
    {
     "name": "stdout",
     "output_type": "stream",
     "text": [
      "Copying file:///content/datalab/sub_last_auto_renew_xgb_pred.csv [Content-Type=text/csv]...\n",
      "- [1 files][ 49.2 MiB/ 49.2 MiB]                                                \n",
      "Operation completed over 1 objects/49.2 MiB.                                     \n",
      "churn_times_level logloss val:  0.135215\n",
      "churn_times_level logloss LB:  0.1269\n",
      "--------------------  + last_auto_renew --------------------\n",
      "last_auto_renew log_loss val :  0.135229\n",
      "last_auto_renew log_loss LB :  0.12188\n"
     ]
    }
   ],
   "source": [
    "last_auto_renew_pred_xgb.to_csv(\"/content/datalab/sub_last_auto_renew_xgb_pred.csv\", index=False)\n",
    "!gsutil cp '/content/datalab/sub_last_auto_renew_xgb_pred.csv' 'gs://kk_data/submission/sub_last_auto_renew_xgb_pred.csv';\n",
    "\n",
    "print('churn_times_level logloss val: ',0.135215)\n",
    "print('churn_times_level logloss LB: ',0.12690)\n",
    "print('-'*20,' + last_auto_renew','-'*20)\n",
    "print('last_auto_renew log_loss val : ',0.135229)\n",
    "print('last_auto_renew log_loss LB : ',0.12188)"
   ]
  },
  {
   "cell_type": "markdown",
   "metadata": {},
   "source": [
    "# Change Validation Strategy"
   ]
  },
  {
   "cell_type": "markdown",
   "metadata": {},
   "source": [
    "# START FROM HERE"
   ]
  },
  {
   "cell_type": "code",
   "execution_count": 131,
   "metadata": {},
   "outputs": [
    {
     "name": "stdout",
     "output_type": "stream",
     "text": [
      "Copying file:///content/datalab/df_train_tmp.csv [Content-Type=text/csv]...\n",
      "\\ [1 files][ 90.5 MiB/ 90.5 MiB]                                                \n",
      "Operation completed over 1 objects/90.5 MiB.                                     \n",
      "Copying file:///content/datalab/df_sub_tmp.csv [Content-Type=text/csv]...\n",
      "\\ [1 files][ 89.8 MiB/ 89.8 MiB]                                                \n",
      "Operation completed over 1 objects/89.8 MiB.                                     \n",
      "Copying file:///content/datalab/df_train_trans_tmp.csv [Content-Type=text/csv]...\n",
      "==> NOTE: You are uploading one or more large file(s), which would run          \n",
      "significantly faster if you enable parallel composite uploads. This\n",
      "feature can be enabled by editing the\n",
      "\"parallel_composite_upload_threshold\" value in your .boto\n",
      "configuration file. However, note that if you do this large files will\n",
      "be uploaded as `composite objects\n",
      "<https://cloud.google.com/storage/docs/composite-objects>`_,which\n",
      "means that any user who downloads such objects will need to have a\n",
      "compiled crcmod installed (see \"gsutil help crcmod\"). This is because\n",
      "without a compiled crcmod, computing checksums on composite objects is\n",
      "so slow that gsutil disables downloads of composite objects.\n",
      "\n",
      "| [1 files][  1.9 GiB/  1.9 GiB]   70.8 MiB/s                                   \n",
      "Operation completed over 1 objects/1.9 GiB.                                      \n",
      "Copying file:///content/datalab/df_sub_trans_tmp.csv [Content-Type=text/csv]...\n",
      "==> NOTE: You are uploading one or more large file(s), which would run          \n",
      "significantly faster if you enable parallel composite uploads. This\n",
      "feature can be enabled by editing the\n",
      "\"parallel_composite_upload_threshold\" value in your .boto\n",
      "configuration file. However, note that if you do this large files will\n",
      "be uploaded as `composite objects\n",
      "<https://cloud.google.com/storage/docs/composite-objects>`_,which\n",
      "means that any user who downloads such objects will need to have a\n",
      "compiled crcmod installed (see \"gsutil help crcmod\"). This is because\n",
      "without a compiled crcmod, computing checksums on composite objects is\n",
      "so slow that gsutil disables downloads of composite objects.\n",
      "\n",
      "\\ [1 files][  2.0 GiB/  2.0 GiB]   65.9 MiB/s                                   \n",
      "Operation completed over 1 objects/2.0 GiB.                                      \n"
     ]
    }
   ],
   "source": [
    "df_train.to_csv(\"/content/datalab/df_train_tmp.csv\", index=False)\n",
    "!gsutil cp '/content/datalab/df_train_tmp.csv' 'gs://kk_data/df_train_tmp.csv';\n",
    "df_sub.to_csv(\"/content/datalab/df_sub_tmp.csv\", index=False)\n",
    "!gsutil cp '/content/datalab/df_sub_tmp.csv' 'gs://kk_data/df_sub_tmp.csv';\n",
    "df_train_trans.to_csv(\"/content/datalab/df_train_trans_tmp.csv\", index=False)\n",
    "df_sub_trans.to_csv(\"/content/datalab/df_sub_trans_tmp.csv\", index=False)\n",
    "!gsutil cp '/content/datalab/df_train_trans_tmp.csv' 'gs://kk_data/df_train_trans_tmp.csv';\n",
    "!gsutil cp '/content/datalab/df_sub_trans_tmp.csv' 'gs://kk_data/df_sub_trans_tmp.csv';"
   ]
  },
  {
   "cell_type": "code",
   "execution_count": 1,
   "metadata": {},
   "outputs": [
    {
     "name": "stdout",
     "output_type": "stream",
     "text": [
      "Collecting xgboost\n",
      "  Using cached https://files.pythonhosted.org/packages/8f/15/606f81a2b8a8e82eaa10683cb3f3074905ec65d3bcef949e3f0909f165a5/xgboost-0.80-py2.py3-none-manylinux1_x86_64.whl\n",
      "Requirement already satisfied, skipping upgrade: numpy in /usr/local/envs/py3env/lib/python3.5/site-packages (from xgboost) (1.14.0)\n",
      "Requirement already satisfied, skipping upgrade: scipy in /usr/local/envs/py3env/lib/python3.5/site-packages (from xgboost) (1.0.0)\n",
      "Installing collected packages: xgboost\n",
      "  Found existing installation: xgboost 0.6a2\n",
      "    Uninstalling xgboost-0.6a2:\n",
      "      Successfully uninstalled xgboost-0.6a2\n",
      "Successfully installed xgboost-0.80\n"
     ]
    }
   ],
   "source": [
    "!pip install -U xgboost "
   ]
  },
  {
   "cell_type": "code",
   "execution_count": 2,
   "metadata": {},
   "outputs": [],
   "source": [
    "import xgboost as xgb "
   ]
  },
  {
   "cell_type": "code",
   "execution_count": 40,
   "metadata": {},
   "outputs": [
    {
     "data": {
      "text/plain": [
       "'0.80'"
      ]
     },
     "execution_count": 40,
     "metadata": {},
     "output_type": "execute_result"
    }
   ],
   "source": [
    "xgb.__version__"
   ]
  },
  {
   "cell_type": "code",
   "execution_count": 7,
   "metadata": {},
   "outputs": [],
   "source": [
    "%gcs read --object gs://kk_data/df_sub_tmp.csv -v df_sub_str"
   ]
  },
  {
   "cell_type": "code",
   "execution_count": 8,
   "metadata": {},
   "outputs": [],
   "source": [
    "%gcs read --object gs://kk_data/df_train_tmp.csv -v df_train_str"
   ]
  },
  {
   "cell_type": "code",
   "execution_count": 9,
   "metadata": {},
   "outputs": [],
   "source": [
    "%gcs read --object gs://kk_data/df_train_trans_tmp.csv -v df_train_trans_str"
   ]
  },
  {
   "cell_type": "code",
   "execution_count": 10,
   "metadata": {},
   "outputs": [],
   "source": [
    "%gcs read --object gs://kk_data/df_sub_trans_tmp.csv -v df_sub_trans_str"
   ]
  },
  {
   "cell_type": "code",
   "execution_count": 11,
   "metadata": {},
   "outputs": [
    {
     "name": "stdout",
     "output_type": "stream",
     "text": [
      "CPU times: user 1min 5s, sys: 8.02 s, total: 1min 13s\n",
      "Wall time: 1min 13s\n"
     ]
    }
   ],
   "source": [
    "%%time\n",
    "df_train = pd.read_csv(StringIO(df_train_str))\n",
    "df_sub = pd.read_csv(StringIO(df_sub_str))\n",
    "df_train_trans = pd.read_csv(StringIO(df_train_trans_str))\n",
    "df_sub_trans = pd.read_csv(StringIO(df_sub_trans_str))"
   ]
  },
  {
   "cell_type": "code",
   "execution_count": 12,
   "metadata": {},
   "outputs": [
    {
     "data": {
      "text/plain": [
       "((886500, 14), (907471, 14))"
      ]
     },
     "execution_count": 12,
     "metadata": {},
     "output_type": "execute_result"
    }
   ],
   "source": [
    "df_train.shape, df_sub.shape"
   ]
  },
  {
   "cell_type": "code",
   "execution_count": 13,
   "metadata": {},
   "outputs": [
    {
     "data": {
      "text/plain": [
       "((13769249, 15), (14545180, 13))"
      ]
     },
     "execution_count": 13,
     "metadata": {},
     "output_type": "execute_result"
    }
   ],
   "source": [
    "df_train_trans.shape, df_sub_trans.shape"
   ]
  },
  {
   "cell_type": "code",
   "execution_count": 14,
   "metadata": {},
   "outputs": [],
   "source": [
    "# OK Let's go on "
   ]
  },
  {
   "cell_type": "code",
   "execution_count": 15,
   "metadata": {},
   "outputs": [],
   "source": [
    "from sklearn.model_selection import StratifiedKFold"
   ]
  },
  {
   "cell_type": "code",
   "execution_count": 22,
   "metadata": {},
   "outputs": [],
   "source": [
    "def model_training_xgb_skf(training_data,testing_data):\n",
    "  # splits train and validation set using stratifiedKFold\n",
    "  X = training_data.drop(labels=['msno','is_churn'],axis=1)\n",
    "  Y = training_data['is_churn']\n",
    "  skf = StratifiedKFold(n_splits = 5, shuffle = True, random_state = 2)\n",
    "  # model\n",
    "  model = xgb.XGBClassifier(learning_rate=0.08, max_depth=5,n_estimators=300,\\\n",
    "                 subsample=0.5, seed=2,missing=-1,n_jobs=-1)\n",
    "  oof_train_preds = np.zeros(X.shape[0])\n",
    "  sub_test_preds = np.zeros(testing_data.shape[0])\n",
    "  for train_index, val_index in skf.split(X, Y):\n",
    "    X_train, X_val = X.iloc[train_index], X.iloc[val_index]\n",
    "    Y_train, Y_val = Y.iloc[train_index], Y.iloc[val_index]\n",
    "    # training\n",
    "    xgb_watchlist = [(X_train, Y_train), (X_val, Y_val)]\n",
    "    model.fit(X_train, Y_train,eval_set=xgb_watchlist,eval_metric='logloss',\n",
    "            early_stopping_rounds=20,verbose=70)\n",
    "    # predict on validation set\n",
    "    # [:,1] to show the prob to is_churn = 1\n",
    "    proba_oof = model.predict_proba(X_val)[:,1]\n",
    "    oof_train_preds[val_index] = proba_oof\n",
    "  \n",
    "    # predict on testing set\n",
    "    # take out the prob if is_churn = 1\n",
    "    model_pred_testing_set = model.predict_proba(testing_data.drop(labels=['msno','is_churn'],axis=1))[:,1]\n",
    "    sub_test_preds += (model_pred_testing_set / skf.n_splits)\n",
    "  \n",
    "  submission = pd.DataFrame({\"msno\": testing_data.msno})\n",
    "  submission.insert(1,column='is_churn',value=sub_test_preds)\n",
    "  \n",
    "  \n",
    "  model_val_score = log_loss(Y,oof_train_preds)\n",
    "  print('CV: ',model_val_score)\n",
    "  return model, model_val_score, submission"
   ]
  },
  {
   "cell_type": "code",
   "execution_count": 23,
   "metadata": {},
   "outputs": [
    {
     "name": "stdout",
     "output_type": "stream",
     "text": [
      "Index(['msno', 'is_churn', 'day_listen', 'user_latent_satisfaction', 'city',\n",
      "       'bd', 'gender', 'registered_via', 'registration_init_time',\n",
      "       'age_under_26', 'last_last_churn', 'churn_times',\n",
      "       'churn_times_level_code', 'last_auto_renew'],\n",
      "      dtype='object')\n",
      "Index(['msno', 'is_churn', 'day_listen', 'user_latent_satisfaction', 'city',\n",
      "       'bd', 'gender', 'registered_via', 'registration_init_time',\n",
      "       'age_under_26', 'last_last_churn', 'churn_times',\n",
      "       'churn_times_level_code', 'last_auto_renew'],\n",
      "      dtype='object')\n"
     ]
    },
    {
     "data": {
      "text/plain": [
       "['msno',\n",
       " 'is_churn',\n",
       " 'day_listen',\n",
       " 'registered_via',\n",
       " 'age_under_26',\n",
       " 'last_last_churn',\n",
       " 'churn_times',\n",
       " 'churn_times_level_code',\n",
       " 'last_auto_renew']"
      ]
     },
     "execution_count": 23,
     "metadata": {},
     "output_type": "execute_result"
    }
   ],
   "source": [
    "# split and prepare features \n",
    "print(df_train.columns)\n",
    "print(df_sub.columns)\n",
    "last_auto_renew_fts = ['msno', 'is_churn', 'day_listen', 'user_latent_satisfaction',\n",
    "                      'registered_via','age_under_26', 'last_last_churn', 'churn_times',\n",
    "       'churn_times_level_code', 'last_auto_renew']\n",
    "exclude_list = ['msno','is_churn']\n",
    "exclude_list_2 = ['user_latent_satisfaction']\n",
    "last_auto_renew_fts = [fts for fts in last_auto_renew_fts if fts not in exclude_list_2]\n",
    "last_auto_renew_fts"
   ]
  },
  {
   "cell_type": "code",
   "execution_count": 24,
   "metadata": {},
   "outputs": [
    {
     "name": "stdout",
     "output_type": "stream",
     "text": [
      "training using features: \n",
      " ['day_listen', 'registered_via', 'age_under_26', 'last_last_churn', 'churn_times', 'churn_times_level_code', 'last_auto_renew']\n",
      "[0]\tvalidation_0-logloss:0.627442\tvalidation_1-logloss:0.62744\n",
      "Multiple eval metrics have been passed: 'validation_1-logloss' will be used for early stopping.\n",
      "\n",
      "Will train until validation_1-logloss hasn't improved in 20 rounds.\n",
      "[70]\tvalidation_0-logloss:0.135489\tvalidation_1-logloss:0.135629\n",
      "Stopping. Best iteration:\n",
      "[101]\tvalidation_0-logloss:0.135152\tvalidation_1-logloss:0.135517\n",
      "\n",
      "[0]\tvalidation_0-logloss:0.627444\tvalidation_1-logloss:0.627462\n",
      "Multiple eval metrics have been passed: 'validation_1-logloss' will be used for early stopping.\n",
      "\n",
      "Will train until validation_1-logloss hasn't improved in 20 rounds.\n",
      "[70]\tvalidation_0-logloss:0.135355\tvalidation_1-logloss:0.136118\n",
      "[140]\tvalidation_0-logloss:0.134807\tvalidation_1-logloss:0.135984\n",
      "Stopping. Best iteration:\n",
      "[125]\tvalidation_0-logloss:0.134874\tvalidation_1-logloss:0.135972\n",
      "\n",
      "[0]\tvalidation_0-logloss:0.627465\tvalidation_1-logloss:0.627465\n",
      "Multiple eval metrics have been passed: 'validation_1-logloss' will be used for early stopping.\n",
      "\n",
      "Will train until validation_1-logloss hasn't improved in 20 rounds.\n",
      "[70]\tvalidation_0-logloss:0.13568\tvalidation_1-logloss:0.135014\n",
      "[140]\tvalidation_0-logloss:0.13512\tvalidation_1-logloss:0.134762\n",
      "Stopping. Best iteration:\n",
      "[149]\tvalidation_0-logloss:0.135078\tvalidation_1-logloss:0.134752\n",
      "\n",
      "[0]\tvalidation_0-logloss:0.627405\tvalidation_1-logloss:0.627441\n",
      "Multiple eval metrics have been passed: 'validation_1-logloss' will be used for early stopping.\n",
      "\n",
      "Will train until validation_1-logloss hasn't improved in 20 rounds.\n",
      "[70]\tvalidation_0-logloss:0.135142\tvalidation_1-logloss:0.136894\n",
      "Stopping. Best iteration:\n",
      "[107]\tvalidation_0-logloss:0.134761\tvalidation_1-logloss:0.136793\n",
      "\n",
      "[0]\tvalidation_0-logloss:0.627471\tvalidation_1-logloss:0.627462\n",
      "Multiple eval metrics have been passed: 'validation_1-logloss' will be used for early stopping.\n",
      "\n",
      "Will train until validation_1-logloss hasn't improved in 20 rounds.\n",
      "[70]\tvalidation_0-logloss:0.13549\tvalidation_1-logloss:0.135589\n",
      "[140]\tvalidation_0-logloss:0.134939\tvalidation_1-logloss:0.135436\n",
      "Stopping. Best iteration:\n",
      "[132]\tvalidation_0-logloss:0.134971\tvalidation_1-logloss:0.135428\n",
      "\n",
      "CV:  0.1356924590258254\n",
      "CPU times: user 19min 41s, sys: 27.4 s, total: 20min 8s\n",
      "Wall time: 2min 34s\n"
     ]
    }
   ],
   "source": [
    "%%time\n",
    "print('training using features: \\n' ,[fts for fts in last_auto_renew_fts if fts not in exclude_list])\n",
    "last_auto_renew_model_xgb, last_auto_renew_val_score_xgb,\\\n",
    "last_auto_renew_pred_xgb = model_training_xgb_skf(df_train[last_auto_renew_fts],df_sub[last_auto_renew_fts])"
   ]
  },
  {
   "cell_type": "code",
   "execution_count": 25,
   "metadata": {},
   "outputs": [
    {
     "name": "stdout",
     "output_type": "stream",
     "text": [
      "Copying file:///content/datalab/sub_last_auto_renew_xgb_pred.csv [Content-Type=text/csv]...\n",
      "- [1 files][ 56.8 MiB/ 56.8 MiB]                                                \n",
      "Operation completed over 1 objects/56.8 MiB.                                     \n",
      "churn_times_level logloss val:  0.135215\n",
      "churn_times_level logloss LB:  0.1269\n",
      "--------------------  + last_auto_renew --------------------\n",
      "last_auto_renew log_loss CV(without user_latent_satis) :  0.13569\n",
      "last_auto_renew log_loss LB :  X\n"
     ]
    }
   ],
   "source": [
    "last_auto_renew_pred_xgb.to_csv(\"/content/datalab/sub_last_auto_renew_xgb_pred.csv\", index=False)\n",
    "!gsutil cp '/content/datalab/sub_last_auto_renew_xgb_pred.csv' 'gs://kk_data/submission/sub_last_auto_renew_xgb_pred.csv';\n",
    "\n",
    "print('churn_times_level logloss val: ',0.135215)\n",
    "print('churn_times_level logloss LB: ',0.12690)\n",
    "print('-'*20,' + last_auto_renew','-'*20)\n",
    "print('last_auto_renew log_loss CV(without user_latent_satis) : ',0.13569)\n",
    "print('last_auto_renew log_loss LB : ',0.12139)"
   ]
  },
  {
   "cell_type": "markdown",
   "metadata": {},
   "source": [
    "## Switch_to_manual"
   ]
  },
  {
   "cell_type": "code",
   "execution_count": 33,
   "metadata": {},
   "outputs": [],
   "source": [
    "def ft_switch_to_manual(df):\n",
    "  # construct last_auto_renew\n",
    "  agg_result = df.groupby(by=['msno'],as_index=False)[['msno','is_churn','is_auto_renew']].nth(0)\\\n",
    "  .rename(columns={'is_auto_renew':'last_auto_renew'})\n",
    "  # construct last_last_auto_renew with record >= 2\n",
    "  tem = df.groupby(by=['msno'],as_index=False)[['msno','is_auto_renew']].nth(1)\\\n",
    "  .rename(columns = {'is_auto_renew':'last_last_auto_renew'})\n",
    "  # merge them\n",
    "  agg_result = pd.merge(agg_result,tem,how='left',on=['msno'])\n",
    "\n",
    "  # feature switch_to_manual\n",
    "  con1 = (agg_result.last_last_auto_renew == 1.0) & (agg_result.last_auto_renew == 0)\n",
    "  agg_result.loc[con1,'switch_to_manual'] = 1\n",
    "  # if last_last_record = NaN, place swich_to_manual = 1 - last_record \n",
    "  # e.g. last_last = NaN , last_auto_renew = 0 ,then switch_to_manual = 1\n",
    "  con2 = (agg_result.last_last_auto_renew.isnull())\n",
    "  agg_result.loc[con2,'switch_to_manual'] = 1 - agg_result.loc[con2,'last_auto_renew'] \n",
    "  # others assign to 0\n",
    "  agg_result.switch_to_manual.fillna(0,inplace=True)\n",
    "  \n",
    "  return agg_result"
   ]
  },
  {
   "cell_type": "code",
   "execution_count": 34,
   "metadata": {},
   "outputs": [],
   "source": [
    "ft_switch_to_manual_train = ft_switch_to_manual(df_train_trans)\n",
    "ft_switch_to_manual_sub = ft_switch_to_manual(df_sub_trans)"
   ]
  },
  {
   "cell_type": "code",
   "execution_count": 35,
   "metadata": {},
   "outputs": [
    {
     "data": {
      "text/plain": [
       "0.0    0.9795\n",
       "1.0    0.0205\n",
       "Name: switch_to_manual, dtype: float64"
      ]
     },
     "execution_count": 35,
     "metadata": {},
     "output_type": "execute_result"
    }
   ],
   "source": [
    "np.around(ft_switch_to_manual_train['switch_to_manual'].value_counts() / len(ft_switch_to_manual_train),decimals=4)"
   ]
  },
  {
   "cell_type": "code",
   "execution_count": 36,
   "metadata": {},
   "outputs": [],
   "source": [
    "df_train = pd.merge(df_train,ft_switch_to_manual_train[['msno','switch_to_manual']]\\\n",
    "                    ,how='left',on=['msno'])\n",
    "df_sub = pd.merge(df_sub,ft_switch_to_manual_sub[['msno','switch_to_manual']]\\\n",
    "                  ,how='left',on=['msno'])\n",
    "# all(tem[['msno','is_auto_renew']].sort_values(by=['msno'],ascending=False).is_auto_renew.values == ft_last_auto_renew_train.is_auto_renew.values )"
   ]
  },
  {
   "cell_type": "code",
   "execution_count": 42,
   "metadata": {},
   "outputs": [
    {
     "data": {
      "image/png": "[encoded data removed]",
      "text/plain": [
       "<matplotlib.figure.Figure at 0x7fc4c610ee10>"
      ]
     },
     "metadata": {},
     "output_type": "display_data"
    }
   ],
   "source": [
    "with sns.axes_style('white'):\n",
    "  fig, ax = plt.subplots(figsize= (12,8) )\n",
    "# prepare table (% of each value)\n",
    "  df_percent = pd.DataFrame( df_train['switch_to_manual'].value_counts().sort_index() / len(df_train) ).round(3) \n",
    "# barplot with percent table\n",
    "  sns.barplot(x='switch_to_manual',y='is_churn',data=df_train,ax=ax)\n",
    "  ax.axhline(0.049,linestyle='dashed', c='black',alpha = .3)\n",
    "  table(ax, df_percent,bbox=[0.035, 0.72, 0.2, 0.27])"
   ]
  },
  {
   "cell_type": "markdown",
   "metadata": {},
   "source": [
    "### Modeling"
   ]
  },
  {
   "cell_type": "code",
   "execution_count": 50,
   "metadata": {},
   "outputs": [
    {
     "name": "stdout",
     "output_type": "stream",
     "text": [
      "Index(['msno', 'is_churn', 'day_listen', 'user_latent_satisfaction', 'city',\n",
      "       'bd', 'gender', 'registered_via', 'registration_init_time',\n",
      "       'age_under_26', 'last_last_churn', 'churn_times',\n",
      "       'churn_times_level_code', 'last_auto_renew', 'switch_to_manual'],\n",
      "      dtype='object')\n",
      "Index(['msno', 'is_churn', 'day_listen', 'user_latent_satisfaction', 'city',\n",
      "       'bd', 'gender', 'registered_via', 'registration_init_time',\n",
      "       'age_under_26', 'last_last_churn', 'churn_times',\n",
      "       'churn_times_level_code', 'last_auto_renew', 'switch_to_manual'],\n",
      "      dtype='object')\n",
      "------------------------------------------------------------\n",
      "\n"
     ]
    },
    {
     "data": {
      "text/plain": [
       "['msno',\n",
       " 'is_churn',\n",
       " 'day_listen',\n",
       " 'registered_via',\n",
       " 'age_under_26',\n",
       " 'last_last_churn',\n",
       " 'churn_times_level_code',\n",
       " 'last_auto_renew',\n",
       " 'switch_to_manual']"
      ]
     },
     "execution_count": 50,
     "metadata": {},
     "output_type": "execute_result"
    }
   ],
   "source": [
    "# split and prepare features \n",
    "print(df_train.columns)\n",
    "print(df_sub.columns)\n",
    "print('-'*60)\n",
    "print(''*60)\n",
    "uid_target = ['msno','is_churn']\n",
    "exclude_list = ['user_latent_satisfaction', 'city',\n",
    "       'bd', 'gender','registration_init_time', 'churn_times']\n",
    "\n",
    "switch_to_manual_fts = [fts for fts in df_train.columns \\\n",
    "if fts not in exclude_list]\n",
    "switch_to_manual_fts"
   ]
  },
  {
   "cell_type": "code",
   "execution_count": 52,
   "metadata": {},
   "outputs": [
    {
     "name": "stdout",
     "output_type": "stream",
     "text": [
      "training using features: \n",
      " ['day_listen', 'registered_via', 'age_under_26', 'last_last_churn', 'churn_times_level_code', 'last_auto_renew', 'switch_to_manual']\n",
      "[0]\tvalidation_0-logloss:0.627442\tvalidation_1-logloss:0.627439\n",
      "Multiple eval metrics have been passed: 'validation_1-logloss' will be used for early stopping.\n",
      "\n",
      "Will train until validation_1-logloss hasn't improved in 20 rounds.\n",
      "[70]\tvalidation_0-logloss:0.135413\tvalidation_1-logloss:0.135542\n",
      "Stopping. Best iteration:\n",
      "[93]\tvalidation_0-logloss:0.135119\tvalidation_1-logloss:0.135425\n",
      "\n",
      "[0]\tvalidation_0-logloss:0.627443\tvalidation_1-logloss:0.627461\n",
      "Multiple eval metrics have been passed: 'validation_1-logloss' will be used for early stopping.\n",
      "\n",
      "Will train until validation_1-logloss hasn't improved in 20 rounds.\n",
      "[70]\tvalidation_0-logloss:0.135267\tvalidation_1-logloss:0.136136\n",
      "Stopping. Best iteration:\n",
      "[92]\tvalidation_0-logloss:0.134985\tvalidation_1-logloss:0.13603\n",
      "\n",
      "[0]\tvalidation_0-logloss:0.627465\tvalidation_1-logloss:0.627465\n",
      "Multiple eval metrics have been passed: 'validation_1-logloss' will be used for early stopping.\n",
      "\n",
      "Will train until validation_1-logloss hasn't improved in 20 rounds.\n",
      "[70]\tvalidation_0-logloss:0.135605\tvalidation_1-logloss:0.134911\n",
      "[140]\tvalidation_0-logloss:0.135037\tvalidation_1-logloss:0.134696\n",
      "Stopping. Best iteration:\n",
      "[125]\tvalidation_0-logloss:0.135107\tvalidation_1-logloss:0.134685\n",
      "\n",
      "[0]\tvalidation_0-logloss:0.627405\tvalidation_1-logloss:0.627441\n",
      "Multiple eval metrics have been passed: 'validation_1-logloss' will be used for early stopping.\n",
      "\n",
      "Will train until validation_1-logloss hasn't improved in 20 rounds.\n",
      "[70]\tvalidation_0-logloss:0.135087\tvalidation_1-logloss:0.136811\n",
      "Stopping. Best iteration:\n",
      "[98]\tvalidation_0-logloss:0.134755\tvalidation_1-logloss:0.136696\n",
      "\n",
      "[0]\tvalidation_0-logloss:0.627471\tvalidation_1-logloss:0.627462\n",
      "Multiple eval metrics have been passed: 'validation_1-logloss' will be used for early stopping.\n",
      "\n",
      "Will train until validation_1-logloss hasn't improved in 20 rounds.\n",
      "[70]\tvalidation_0-logloss:0.135428\tvalidation_1-logloss:0.13549\n",
      "Stopping. Best iteration:\n",
      "[113]\tvalidation_0-logloss:0.135008\tvalidation_1-logloss:0.135321\n",
      "\n",
      "CV:  0.1356314413702707\n"
     ]
    }
   ],
   "source": [
    "print('training using features: \\n' ,[fts for fts in switch_to_manual_fts if fts not in uid_target])\n",
    "switch_to_manual_model_xgb, switch_to_manual_val_score_xgb,\\\n",
    "switch_to_manual_pred_xgb = model_training_xgb_skf(df_train[switch_to_manual_fts],df_sub[switch_to_manual_fts])"
   ]
  },
  {
   "cell_type": "code",
   "execution_count": 54,
   "metadata": {},
   "outputs": [
    {
     "data": {
      "image/png": "[encoded data removed]",
      "text/plain": [
       "<matplotlib.figure.Figure at 0x7fc4b5cd6978>"
      ]
     },
     "metadata": {},
     "output_type": "display_data"
    }
   ],
   "source": [
    "# show values only worked in version 0.8.0\n",
    "fig, ax = plt.subplots(figsize=(12,8))\n",
    "xgb.plot_importance(switch_to_manual_model_xgb,importance_type='gain',\n",
    "                    ax=ax,xlabel='structure gain',show_values=False)\n",
    "ax.set_xscale('squareroot')"
   ]
  },
  {
   "cell_type": "code",
   "execution_count": 55,
   "metadata": {},
   "outputs": [
    {
     "name": "stdout",
     "output_type": "stream",
     "text": [
      "Copying file:///content/datalab/sub_switch_to_manual_xgb_pred.csv [Content-Type=text/csv]...\n",
      "- [1 files][ 56.7 MiB/ 56.7 MiB]                                                \n",
      "Operation completed over 1 objects/56.7 MiB.                                     \n",
      "churn_times_level logloss val:  0.13569\n",
      "churn_times_level logloss LB:  0.12139\n",
      "--------------------  + switch_to_manual --------------------\n",
      "switch_to_manual log_loss CV :  0.13563\n",
      "switch_to_manual log_loss LB :  X\n"
     ]
    }
   ],
   "source": [
    "switch_to_manual_pred_xgb.to_csv(\"/content/datalab/sub_switch_to_manual_xgb_pred.csv\", index=False)\n",
    "!gsutil cp '/content/datalab/sub_switch_to_manual_xgb_pred.csv' 'gs://kk_data/submission/sub_switch_to_manual_xgb_pred.csv';\n",
    "\n",
    "print('last_auto_renew logloss val: ',0.13569)\n",
    "print('last_auto_renew logloss LB: ',0.12139)\n",
    "print('-'*20,' + switch_to_manual','-'*20)\n",
    "print('switch_to_manual log_loss CV : ',0.13563)\n",
    "print('switch_to_manual log_loss LB : ','X')"
   ]
  },
  {
   "cell_type": "markdown",
   "metadata": {},
   "source": [
    "## Trans_times"
   ]
  },
  {
   "cell_type": "code",
   "execution_count": 56,
   "metadata": {},
   "outputs": [],
   "source": [
    "# Feature Engineering and merge\n",
    "ft_trans_times_train = df_train_trans[['msno','trans_date']].groupby(by=['msno'],as_index=False).count().\\\n",
    "rename(columns={'trans_date':'trans_times'});\n",
    "ft_trans_times_sub = df_sub_trans[['msno','trans_date']].groupby(by=['msno'],as_index=False).count().\\\n",
    "rename(columns={'trans_date':'trans_times'});\n",
    "df_train = pd.merge(df_train, ft_trans_times_train, how='left', on=['msno'])\n",
    "df_sub = pd.merge(df_sub, ft_trans_times_sub,how='left', on=['msno'])"
   ]
  },
  {
   "cell_type": "code",
   "execution_count": null,
   "metadata": {},
   "outputs": [],
   "source": [
    "sns.set(font_scale=1.56)\n",
    "\n",
    "# create fig and ax \n",
    "with sns.axes_style('white'):\n",
    "\n",
    "    fig, [ax1, ax2] = plt.subplots(1,2, figsize=(25,10))\n",
    "# distribution\n",
    "    NOT_churn = ( (df_data.is_churn == 0) & (df_data.bd > 0 ) & (df_data.bd < 90) )\n",
    "    churn = ( (df_data.is_churn == 1) & (df_data.bd > 0 ) & (df_data.bd < 90) )\n",
    "    bins= 25\n",
    "    sns.distplot(df_data.loc[NOT_churn,'bd'],kde=False,label='NOT_churn',ax=ax1,norm_hist=True,bins=bins)\n",
    "    sns.distplot(df_data.loc[churn,'bd'],kde=False,label='churn',ax=ax1,norm_hist=True,bins=bins)\n",
    "    ax1.legend()\n",
    "    ax1.axvline(26,linestyle='dashed',c='black',alpha=.5)\n",
    "\n",
    "# feature engineering\n",
    "# create feature  bd<26 == 1, bd>26 ==0 , other = -1\n",
    "    condition = df_data.bd < 26\n",
    "    df_data['age_under_26'] = df_data.bd.apply(lambda x: 1 if 0 < x <= 26 else 0 if 26 < x <= 90 else -1)\n",
    "\n",
    "# prepare table (% of each value)\n",
    "    df_percent = pd.DataFrame( df_data['age_under_26'].value_counts().sort_index() / len(df_data) ).round(3) \n",
    "# barplot with percent table\n",
    "    sns.barplot(x='age_under_26',y='is_churn',data=df_data,ax=ax2)\n",
    "    ax2.axhline(0.049,linestyle='dashed', c='black',alpha = .3)\n",
    "    table(ax2, df_percent,bbox=[0.035, 0.72, 0.2, 0.27])"
   ]
  },
  {
   "cell_type": "code",
   "execution_count": 58,
   "metadata": {},
   "outputs": [
    {
     "data": {
      "image/png": "[encoded data removed]",
      "text/plain": [
       "<matplotlib.figure.Figure at 0x7fc4b5c46278>"
      ]
     },
     "metadata": {},
     "output_type": "display_data"
    }
   ],
   "source": [
    "df_data = df_train.append(df_sub)\n",
    "sns.set(font_scale=1.56)\n",
    "# create fig and ax \n",
    "with sns.axes_style('white'):\n",
    "\n",
    "  fig, [ax1, ax2] = plt.subplots(1,2, figsize=(25,10))\n",
    "    \n",
    "  sns.distplot(df_data.loc[(df_data.is_churn == 0), 'trans_times'],kde=False, label='NOT_churn',ax=ax1,norm_hist=True)\n",
    "  sns.distplot(df_data.loc[(df_data.is_churn == 1), 'trans_times'],kde=False, label='churn',ax=ax1,norm_hist=True)\n",
    "  ax1.legend()\n",
    "  ax1.set_yscale('log')\n",
    "\n",
    "  # feature enineering\n",
    "  # New, Trying, OneYear, TwoYear, Stable\n",
    "  max_trans = df_data.trans_times.max()\n",
    "  bins = [0,1,6,12,24,max_trans]\n",
    "\n",
    "  # period = nodes - 1 --> labels = np.arange(len( bins) -1 )\n",
    "  df_data['client_level_code'] = pd.cut(df_data.trans_times, bins, labels= np.arange( len( bins) - 1 ) )\n",
    "  df_data['client_level_code'] = df_data['client_level_code'].astype('int8')\n",
    "\n",
    "  # prepare table (% of each value)\n",
    "  df_percent = pd.DataFrame( df_data['client_level_code'].value_counts().sort_index() / len(df_data) ).round(3) \n",
    "  # barplot of churn rate\n",
    "  sns.barplot(x='client_level_code',y='is_churn',data=df_data,ax=ax2)\n",
    "  ax2.axhline(0.049,linestyle='dashed', c='black',alpha = .3)\n",
    "  table(ax2, df_percent,bbox=[0.80, 0.72, 0.2, 0.27])"
   ]
  },
  {
   "cell_type": "markdown",
   "metadata": {},
   "source": [
    "## Modeling"
   ]
  },
  {
   "cell_type": "code",
   "execution_count": 60,
   "metadata": {},
   "outputs": [
    {
     "name": "stdout",
     "output_type": "stream",
     "text": [
      "Index(['msno', 'is_churn', 'day_listen', 'user_latent_satisfaction', 'city',\n",
      "       'bd', 'gender', 'registered_via', 'registration_init_time',\n",
      "       'age_under_26', 'last_last_churn', 'churn_times',\n",
      "       'churn_times_level_code', 'last_auto_renew', 'switch_to_manual',\n",
      "       'trans_times', 'client_level_code'],\n",
      "      dtype='object')\n",
      "Index(['msno', 'is_churn', 'day_listen', 'user_latent_satisfaction', 'city',\n",
      "       'bd', 'gender', 'registered_via', 'registration_init_time',\n",
      "       'age_under_26', 'last_last_churn', 'churn_times',\n",
      "       'churn_times_level_code', 'last_auto_renew', 'switch_to_manual',\n",
      "       'trans_times', 'client_level_code'],\n",
      "      dtype='object')\n",
      "------------------------------------------------------------\n",
      "\n"
     ]
    },
    {
     "data": {
      "text/plain": [
       "['msno',\n",
       " 'is_churn',\n",
       " 'day_listen',\n",
       " 'registered_via',\n",
       " 'age_under_26',\n",
       " 'last_last_churn',\n",
       " 'churn_times_level_code',\n",
       " 'last_auto_renew',\n",
       " 'switch_to_manual',\n",
       " 'client_level_code']"
      ]
     },
     "execution_count": 60,
     "metadata": {},
     "output_type": "execute_result"
    }
   ],
   "source": [
    "# split and prepare features \n",
    "df_train, df_sub = df_data[:len(df_train)], df_data[len(df_train):]\n",
    "print(df_train.columns)\n",
    "print(df_sub.columns)\n",
    "print('-'*60)\n",
    "print(''*60)\n",
    "uid_target = ['msno','is_churn']\n",
    "exclude_list = ['user_latent_satisfaction', 'city',\n",
    "       'bd', 'gender','registration_init_time', 'churn_times','trans_times']\n",
    "\n",
    "client_level_code_fts = [fts for fts in df_train.columns \\\n",
    "if fts not in exclude_list]\n",
    "client_level_code_fts"
   ]
  },
  {
   "cell_type": "code",
   "execution_count": 64,
   "metadata": {},
   "outputs": [],
   "source": [
    "def model_training_xgb_skf(training_data,testing_data):\n",
    "  # splits train and validation set using stratifiedKFold\n",
    "  X = training_data.drop(labels=['msno','is_churn'],axis=1)\n",
    "  Y = training_data['is_churn']\n",
    "  skf = StratifiedKFold(n_splits = 5, shuffle = True, random_state = 2)\n",
    "  # model\n",
    "  model = xgb.XGBClassifier(learning_rate=0.08, max_depth=5,n_estimators=300,\\\n",
    "                 subsample=0.5, seed=2,missing=-1,n_jobs=-1)\n",
    "  oof_train_preds = np.zeros(X.shape[0])\n",
    "  sub_test_preds = np.zeros(testing_data.shape[0])\n",
    "  for train_index, val_index in skf.split(X, Y):\n",
    "    X_train, X_val = X.iloc[train_index], X.iloc[val_index]\n",
    "    Y_train, Y_val = Y.iloc[train_index], Y.iloc[val_index]\n",
    "    # training\n",
    "    xgb_watchlist = [(X_train, Y_train), (X_val, Y_val)]\n",
    "    model.fit(X_train, Y_train,eval_set=xgb_watchlist,eval_metric='logloss',\n",
    "            early_stopping_rounds=20,verbose=70)\n",
    "    # predict on validation set\n",
    "    # [:,1] to show the prob to is_churn = 1\n",
    "    proba_oof = model.predict_proba(X_val)[:,1]\n",
    "    oof_train_preds[val_index] = proba_oof\n",
    "  \n",
    "    # predict on testing set\n",
    "    # take out the prob if is_churn = 1\n",
    "    model_pred_testing_set = model.predict_proba(testing_data.drop(labels=['msno','is_churn'],axis=1))[:,1]\n",
    "    sub_test_preds += (model_pred_testing_set / skf.n_splits)\n",
    "  \n",
    "  submission = pd.DataFrame({\"msno\": testing_data.msno})\n",
    "  submission.insert(1,column='is_churn',value=sub_test_preds)\n",
    "  \n",
    "  \n",
    "  model_val_score = log_loss(Y,oof_train_preds)\n",
    "  print('CV: ',model_val_score)\n",
    "  return model, model_val_score, submission"
   ]
  },
  {
   "cell_type": "code",
   "execution_count": 65,
   "metadata": {},
   "outputs": [
    {
     "name": "stdout",
     "output_type": "stream",
     "text": [
      "training using features: \n",
      " ['day_listen', 'registered_via', 'age_under_26', 'last_last_churn', 'churn_times_level_code', 'last_auto_renew', 'switch_to_manual', 'client_level_code']\n",
      "[0]\tvalidation_0-logloss:0.659597\tvalidation_1-logloss:0.659599\n",
      "Multiple eval metrics have been passed: 'validation_1-logloss' will be used for early stopping.\n",
      "\n",
      "Will train until validation_1-logloss hasn't improved in 20 rounds.\n",
      "[70]\tvalidation_0-logloss:0.146969\tvalidation_1-logloss:0.147133\n",
      "[140]\tvalidation_0-logloss:0.13418\tvalidation_1-logloss:0.134693\n",
      "Stopping. Best iteration:\n",
      "[176]\tvalidation_0-logloss:0.1338\tvalidation_1-logloss:0.134522\n",
      "\n",
      "[0]\tvalidation_0-logloss:0.659595\tvalidation_1-logloss:0.659605\n",
      "Multiple eval metrics have been passed: 'validation_1-logloss' will be used for early stopping.\n",
      "\n",
      "Will train until validation_1-logloss hasn't improved in 20 rounds.\n",
      "[70]\tvalidation_0-logloss:0.146817\tvalidation_1-logloss:0.147555\n",
      "[140]\tvalidation_0-logloss:0.13401\tvalidation_1-logloss:0.135313\n",
      "[210]\tvalidation_0-logloss:0.133416\tvalidation_1-logloss:0.135159\n",
      "Stopping. Best iteration:\n",
      "[217]\tvalidation_0-logloss:0.133381\tvalidation_1-logloss:0.135155\n",
      "\n",
      "[0]\tvalidation_0-logloss:0.659603\tvalidation_1-logloss:0.659609\n",
      "Multiple eval metrics have been passed: 'validation_1-logloss' will be used for early stopping.\n",
      "\n",
      "Will train until validation_1-logloss hasn't improved in 20 rounds.\n",
      "[70]\tvalidation_0-logloss:0.14708\tvalidation_1-logloss:0.146768\n",
      "[140]\tvalidation_0-logloss:0.134299\tvalidation_1-logloss:0.134198\n",
      "Stopping. Best iteration:\n",
      "[181]\tvalidation_0-logloss:0.133877\tvalidation_1-logloss:0.133991\n",
      "\n",
      "[0]\tvalidation_0-logloss:0.659577\tvalidation_1-logloss:0.659601\n",
      "Multiple eval metrics have been passed: 'validation_1-logloss' will be used for early stopping.\n",
      "\n",
      "Will train until validation_1-logloss hasn't improved in 20 rounds.\n",
      "[70]\tvalidation_0-logloss:0.146654\tvalidation_1-logloss:0.148039\n",
      "[140]\tvalidation_0-logloss:0.133824\tvalidation_1-logloss:0.135988\n",
      "Stopping. Best iteration:\n",
      "[182]\tvalidation_0-logloss:0.133394\tvalidation_1-logloss:0.135879\n",
      "\n",
      "[0]\tvalidation_0-logloss:0.659598\tvalidation_1-logloss:0.659596\n",
      "Multiple eval metrics have been passed: 'validation_1-logloss' will be used for early stopping.\n",
      "\n",
      "Will train until validation_1-logloss hasn't improved in 20 rounds.\n",
      "[70]\tvalidation_0-logloss:0.146995\tvalidation_1-logloss:0.147039\n",
      "[140]\tvalidation_0-logloss:0.134192\tvalidation_1-logloss:0.134599\n",
      "[210]\tvalidation_0-logloss:0.133588\tvalidation_1-logloss:0.134431\n",
      "Stopping. Best iteration:\n",
      "[212]\tvalidation_0-logloss:0.133576\tvalidation_1-logloss:0.134427\n",
      "\n",
      "CV:  0.13479497122875375\n"
     ]
    }
   ],
   "source": [
    "print('training using features: \\n' ,[fts for fts in client_level_code_fts if fts not in uid_target])\n",
    "client_level_code_model_xgb, client_level_code_val_score_xgb,\\\n",
    "client_level_code_pred_xgb = model_training_xgb_skf(df_train[client_level_code_fts],df_sub[client_level_code_fts])"
   ]
  },
  {
   "cell_type": "code",
   "execution_count": 62,
   "metadata": {},
   "outputs": [
    {
     "name": "stdout",
     "output_type": "stream",
     "text": [
      "Copying file:///content/datalab/sub_client_level_code_xgb_pred.csv [Content-Type=text/csv]...\n",
      "- [1 files][ 56.8 MiB/ 56.8 MiB]                                                \n",
      "Operation completed over 1 objects/56.8 MiB.                                     \n",
      "switch_to_manual logloss val:  0.13563\n",
      "switch_to_manual logloss LB:  0.12133\n",
      "--------------------  + client_level_code --------------------\n",
      "client_level_code log_loss CV :  0.1348\n",
      "client_level_code log_loss LB :  X\n"
     ]
    }
   ],
   "source": [
    "client_level_code_pred_xgb.to_csv(\"/content/datalab/sub_client_level_code_xgb_pred.csv\", index=False)\n",
    "!gsutil cp '/content/datalab/sub_client_level_code_xgb_pred.csv' 'gs://kk_data/submission/sub_client_level_code_xgb_pred.csv';\n",
    "\n",
    "print('switch_to_manual logloss val: ',0.13563)\n",
    "print('switch_to_manual logloss LB: ',0.12133)\n",
    "print('-'*20,' + client_level_code','-'*20)\n",
    "print('client_level_code log_loss CV : ',0.13480)\n",
    "print('client_level_code log_loss LB : ','X')"
   ]
  },
  {
   "cell_type": "code",
   "execution_count": null,
   "metadata": {},
   "outputs": [],
   "source": []
  }
 ],
 "metadata": {
  "kernelspec": {
   "display_name": "Python 3",
   "language": "python",
   "name": "python3"
  },
  "language_info": {
   "codemirror_mode": {
    "name": "ipython",
    "version": 3
   },
   "file_extension": ".py",
   "mimetype": "text/x-python",
   "name": "python",
   "nbconvert_exporter": "python",
   "pygments_lexer": "ipython3",
   "version": "3.5.5"
  }
 },
 "nbformat": 4,
 "nbformat_minor": 2
}

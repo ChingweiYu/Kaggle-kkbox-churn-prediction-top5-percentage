{
 "cells": [
  {
   "cell_type": "markdown",
   "metadata": {},
   "source": [
    "# Take a glance"
   ]
  },
  {
   "cell_type": "code",
   "execution_count": 1,
   "metadata": {},
   "outputs": [
    {
     "data": {
      "text/html": [
       "<ul><li>kkbox-210108.kk_Data.members</li><li>kkbox-210108.kk_Data.submission</li><li>kkbox-210108.kk_Data.transactions</li><li>kkbox-210108.kk_Data.user_label_201703</li><li>kkbox-210108.kk_Data.user_logs</li></ul>"
      ],
      "text/plain": [
       "<IPython.core.display.HTML object>"
      ]
     },
     "execution_count": 1,
     "metadata": {},
     "output_type": "execute_result"
    }
   ],
   "source": [
    "%bq tables list"
   ]
  },
  {
   "cell_type": "code",
   "execution_count": 2,
   "metadata": {},
   "outputs": [
    {
     "data": {
      "text/html": [
       "\n",
       "    <div class=\"bqtv\" id=\"1_153726062243\"><table><tr><th>msno</th><th>is_churn</th></tr><tr><td>++4RuqBw0Ss6bQU4oMxaRlbBPoWzoEiIZaxPM04Y4+U=</td><td>0</td></tr><tr><td>+/HS8LzrRGXolKbxRzDLqrmwuXqPOYixBIPXkyNcKNI=</td><td>0</td></tr><tr><td>+/g9O3USecrC8npzaFHXW/2XJ7fB80SineiUoCg7M6o=</td><td>0</td></tr><tr><td>+/namlXq+u3izRjHCFJV4MgqcXcLidZYszVsROOq/y4=</td><td>0</td></tr><tr><td>+0/X9tkmyHyet9X80G6GTrDFHnJqvai8d1ZPhayT0os=</td><td>0</td></tr><tr><td>+09YGn842g6h2EZUXe0VWeC4bBoCbDGfUboitc0vIHw=</td><td>0</td></tr><tr><td>+0l+FDuhyjaZnu0APnrg5L9QqgaRw4RmdQMvqOtKDmU=</td><td>0</td></tr><tr><td>+0l/WkoOIugT69NYawwewSLZjIJ17kHIpDdWqcp53RI=</td><td>0</td></tr><tr><td>+2Df04hr61UUJijMM2xR97gtoQWWDJpnJVKQ7VMYN9o=</td><td>0</td></tr><tr><td>+2KZws+cYLzerLNA6dgCOpxKysRv4BQ8SiKtA0rV4QE=</td><td>0</td></tr><tr><td>+2eLsQv6T46iKwO+m+r6OFI2X3Oc9dGBMdti2COAe4w=</td><td>0</td></tr><tr><td>+2oK/qWmYvAnfNZsVV5pdsJ9n6d/LZn6CdwiJajGZas=</td><td>0</td></tr><tr><td>+2sYXqnHWBACTG4Pyd0rBECqU/XZtiW9HfYdGztJXdk=</td><td>0</td></tr><tr><td>+2vC1rM36Emx77UanRb3cUohWiIf7knfVIDO2+R78BE=</td><td>0</td></tr><tr><td>+2yahLNmcSv1yBBIAaq14RZRW+zOWh1cwg2smgNjgTY=</td><td>0</td></tr><tr><td>+4XdQOd2lqwKAzUkLHKqaJcUvrtKNo0FKRAGQ+Us9vw=</td><td>0</td></tr><tr><td>+5DvJ9JGZqYFJ+tSvRBtGe6MRLSFdtOVNHdfqnCpxD0=</td><td>0</td></tr><tr><td>+5iq4ECBqIcAbIVw0OZv0JImbEhu9Oqvk8UeEWWZIbc=</td><td>0</td></tr><tr><td>+5tihO+uXoVrXxlMxutWHyamHh1+drX5O3C/cup1VuQ=</td><td>0</td></tr><tr><td>+A0cjGlj9lHusZoz5Qyu7chfM9cryPbiP+UY6VaaREo=</td><td>0</td></tr><tr><td>+ATFgONEGyBD3TL5vKQZRvWB9SiucXxKx452KhMaBuw=</td><td>0</td></tr><tr><td>+BCR+SCp6VTFmGOiaEV8pbgWSas/BO7c/7t5CEGDz1M=</td><td>0</td></tr><tr><td>+C+D7ghIInae/G+6glbbsrslGxrxVPlr34lYCf0+lKs=</td><td>0</td></tr><tr><td>+CrGxwBBuor4ongyv2jlf440xp0C2GkRIKyGatZC+6c=</td><td>0</td></tr><tr><td>+CxpeunCurqn2VGy3EbAHCqJh0wboZHSLaBvuSSVzsc=</td><td>0</td></tr></table></div>\n",
       "    <br />(rows: 886500, kkbox-210108.kk_Data.user_label_201703)<br />\n",
       "    <script src=\"/static/components/requirejs/require.js\"></script>\n",
       "    <script>\n",
       "      require.config({\n",
       "        paths: {\n",
       "          base: '/static/base',\n",
       "          d3: '//cdnjs.cloudflare.com/ajax/libs/d3/3.4.13/d3',\n",
       "          plotly: 'https://cdn.plot.ly/plotly-1.5.1.min.js?noext',\n",
       "          jquery: '//ajax.googleapis.com/ajax/libs/jquery/2.0.0/jquery.min'\n",
       "        },\n",
       "        map: {\n",
       "          '*': {\n",
       "            datalab: 'nbextensions/gcpdatalab'\n",
       "          }\n",
       "        },\n",
       "        shim: {\n",
       "          plotly: {\n",
       "            deps: ['d3', 'jquery'],\n",
       "            exports: 'plotly'\n",
       "          }\n",
       "        }\n",
       "      });\n",
       "\n",
       "      require(['datalab/charting', 'datalab/element!1_153726062243', 'base/js/events',\n",
       "          'datalab/style!/nbextensions/gcpdatalab/charting.css'],\n",
       "        function(charts, dom, events) {\n",
       "          charts.render('gcharts', dom, events, 'paged_table', [], {\"rows\": [{\"c\": [{\"v\": \"++4RuqBw0Ss6bQU4oMxaRlbBPoWzoEiIZaxPM04Y4+U=\"}, {\"v\": 0}]}, {\"c\": [{\"v\": \"+/HS8LzrRGXolKbxRzDLqrmwuXqPOYixBIPXkyNcKNI=\"}, {\"v\": 0}]}, {\"c\": [{\"v\": \"+/g9O3USecrC8npzaFHXW/2XJ7fB80SineiUoCg7M6o=\"}, {\"v\": 0}]}, {\"c\": [{\"v\": \"+/namlXq+u3izRjHCFJV4MgqcXcLidZYszVsROOq/y4=\"}, {\"v\": 0}]}, {\"c\": [{\"v\": \"+0/X9tkmyHyet9X80G6GTrDFHnJqvai8d1ZPhayT0os=\"}, {\"v\": 0}]}, {\"c\": [{\"v\": \"+09YGn842g6h2EZUXe0VWeC4bBoCbDGfUboitc0vIHw=\"}, {\"v\": 0}]}, {\"c\": [{\"v\": \"+0l+FDuhyjaZnu0APnrg5L9QqgaRw4RmdQMvqOtKDmU=\"}, {\"v\": 0}]}, {\"c\": [{\"v\": \"+0l/WkoOIugT69NYawwewSLZjIJ17kHIpDdWqcp53RI=\"}, {\"v\": 0}]}, {\"c\": [{\"v\": \"+2Df04hr61UUJijMM2xR97gtoQWWDJpnJVKQ7VMYN9o=\"}, {\"v\": 0}]}, {\"c\": [{\"v\": \"+2KZws+cYLzerLNA6dgCOpxKysRv4BQ8SiKtA0rV4QE=\"}, {\"v\": 0}]}, {\"c\": [{\"v\": \"+2eLsQv6T46iKwO+m+r6OFI2X3Oc9dGBMdti2COAe4w=\"}, {\"v\": 0}]}, {\"c\": [{\"v\": \"+2oK/qWmYvAnfNZsVV5pdsJ9n6d/LZn6CdwiJajGZas=\"}, {\"v\": 0}]}, {\"c\": [{\"v\": \"+2sYXqnHWBACTG4Pyd0rBECqU/XZtiW9HfYdGztJXdk=\"}, {\"v\": 0}]}, {\"c\": [{\"v\": \"+2vC1rM36Emx77UanRb3cUohWiIf7knfVIDO2+R78BE=\"}, {\"v\": 0}]}, {\"c\": [{\"v\": \"+2yahLNmcSv1yBBIAaq14RZRW+zOWh1cwg2smgNjgTY=\"}, {\"v\": 0}]}, {\"c\": [{\"v\": \"+4XdQOd2lqwKAzUkLHKqaJcUvrtKNo0FKRAGQ+Us9vw=\"}, {\"v\": 0}]}, {\"c\": [{\"v\": \"+5DvJ9JGZqYFJ+tSvRBtGe6MRLSFdtOVNHdfqnCpxD0=\"}, {\"v\": 0}]}, {\"c\": [{\"v\": \"+5iq4ECBqIcAbIVw0OZv0JImbEhu9Oqvk8UeEWWZIbc=\"}, {\"v\": 0}]}, {\"c\": [{\"v\": \"+5tihO+uXoVrXxlMxutWHyamHh1+drX5O3C/cup1VuQ=\"}, {\"v\": 0}]}, {\"c\": [{\"v\": \"+A0cjGlj9lHusZoz5Qyu7chfM9cryPbiP+UY6VaaREo=\"}, {\"v\": 0}]}, {\"c\": [{\"v\": \"+ATFgONEGyBD3TL5vKQZRvWB9SiucXxKx452KhMaBuw=\"}, {\"v\": 0}]}, {\"c\": [{\"v\": \"+BCR+SCp6VTFmGOiaEV8pbgWSas/BO7c/7t5CEGDz1M=\"}, {\"v\": 0}]}, {\"c\": [{\"v\": \"+C+D7ghIInae/G+6glbbsrslGxrxVPlr34lYCf0+lKs=\"}, {\"v\": 0}]}, {\"c\": [{\"v\": \"+CrGxwBBuor4ongyv2jlf440xp0C2GkRIKyGatZC+6c=\"}, {\"v\": 0}]}, {\"c\": [{\"v\": \"+CxpeunCurqn2VGy3EbAHCqJh0wboZHSLaBvuSSVzsc=\"}, {\"v\": 0}]}], \"cols\": [{\"type\": \"string\", \"label\": \"msno\", \"id\": \"msno\"}, {\"type\": \"number\", \"label\": \"is_churn\", \"id\": \"is_churn\"}]},\n",
       "            {\n",
       "              pageSize: 25,\n",
       "              cssClassNames:  {\n",
       "                tableRow: 'gchart-table-row',\n",
       "                headerRow: 'gchart-table-headerrow',\n",
       "                oddTableRow: 'gchart-table-oddrow',\n",
       "                selectedTableRow: 'gchart-table-selectedrow',\n",
       "                hoverTableRow: 'gchart-table-hoverrow',\n",
       "                tableCell: 'gchart-table-cell',\n",
       "                headerCell: 'gchart-table-headercell',\n",
       "                rowNumberCell: 'gchart-table-rownumcell'\n",
       "              }\n",
       "            },\n",
       "            {source_index: 0, fields: 'msno,is_churn'},\n",
       "            0,\n",
       "            886500);\n",
       "        }\n",
       "      );\n",
       "    </script>\n",
       "  "
      ],
      "text/plain": [
       "BigQuery Table - name: kkbox-210108.kk_Data.user_label_201703"
      ]
     },
     "execution_count": 2,
     "metadata": {},
     "output_type": "execute_result"
    }
   ],
   "source": [
    "%bq tables view -n kkbox-210108.kk_Data.user_label_201703"
   ]
  },
  {
   "cell_type": "code",
   "execution_count": 70,
   "metadata": {},
   "outputs": [],
   "source": [
    "%bq query -n check\n",
    "# -- uni, not_null, quantiles\n",
    "SELECT COUNT(DISTINCT msno) AS uni_msno, COUNT(msno) AS not_null_msno,\n",
    "       APPROX_QUANTILES(is_churn, 3) AS is_churn_quantiles\n",
    "FROM `kkbox-210108.kk_Data.user_label_201703`"
   ]
  },
  {
   "cell_type": "code",
   "execution_count": 71,
   "metadata": {},
   "outputs": [
    {
     "data": {
      "text/html": [
       "\n",
       "    <p>Dry run information:    47MB to process, results not cached</p>\n",
       "    "
      ],
      "text/plain": [
       "<google.datalab.bigquery._query_stats.QueryStats at 0x7fae82753190>"
      ]
     },
     "execution_count": 71,
     "metadata": {},
     "output_type": "execute_result"
    }
   ],
   "source": [
    "%bq dryrun -q check"
   ]
  },
  {
   "cell_type": "code",
   "execution_count": 69,
   "metadata": {},
   "outputs": [
    {
     "data": {
      "text/html": [
       "\n",
       "    <div class=\"bqtv\" id=\"10_153725962352\"><table><tr><th>uni_msno</th><th>not_null_msno</th><th>is_churn_quantiles</th></tr><tr><td>886500</td><td>886500</td><td>[0, 0, 0, 1]</td></tr></table></div>\n",
       "    <br />(rows: 1, time: 6.8s,    47MB processed, job: job_xKOeVIiGTzChwV_aZDKBo4AQRRsS)<br />\n",
       "    <script src=\"/static/components/requirejs/require.js\"></script>\n",
       "    <script>\n",
       "      require.config({\n",
       "        paths: {\n",
       "          base: '/static/base',\n",
       "          d3: '//cdnjs.cloudflare.com/ajax/libs/d3/3.4.13/d3',\n",
       "          plotly: 'https://cdn.plot.ly/plotly-1.5.1.min.js?noext',\n",
       "          jquery: '//ajax.googleapis.com/ajax/libs/jquery/2.0.0/jquery.min'\n",
       "        },\n",
       "        map: {\n",
       "          '*': {\n",
       "            datalab: 'nbextensions/gcpdatalab'\n",
       "          }\n",
       "        },\n",
       "        shim: {\n",
       "          plotly: {\n",
       "            deps: ['d3', 'jquery'],\n",
       "            exports: 'plotly'\n",
       "          }\n",
       "        }\n",
       "      });\n",
       "\n",
       "      require(['datalab/charting', 'datalab/element!10_153725962352', 'base/js/events',\n",
       "          'datalab/style!/nbextensions/gcpdatalab/charting.css'],\n",
       "        function(charts, dom, events) {\n",
       "          charts.render('gcharts', dom, events, 'table', [], {\"rows\": [{\"c\": [{\"v\": 886500}, {\"v\": 886500}, {\"v\": [0, 0, 0, 1]}]}], \"cols\": [{\"type\": \"number\", \"id\": \"uni_msno\", \"label\": \"uni_msno\"}, {\"type\": \"number\", \"id\": \"not_null_msno\", \"label\": \"not_null_msno\"}, {\"type\": \"string\", \"id\": \"is_churn_quantiles\", \"label\": \"is_churn_quantiles\"}]},\n",
       "            {\n",
       "              pageSize: 25,\n",
       "              cssClassNames:  {\n",
       "                tableRow: 'gchart-table-row',\n",
       "                headerRow: 'gchart-table-headerrow',\n",
       "                oddTableRow: 'gchart-table-oddrow',\n",
       "                selectedTableRow: 'gchart-table-selectedrow',\n",
       "                hoverTableRow: 'gchart-table-hoverrow',\n",
       "                tableCell: 'gchart-table-cell',\n",
       "                headerCell: 'gchart-table-headercell',\n",
       "                rowNumberCell: 'gchart-table-rownumcell'\n",
       "              }\n",
       "            },\n",
       "            {source_index: 9, fields: 'uni_msno,not_null_msno,is_churn_quantiles'},\n",
       "            0,\n",
       "            1);\n",
       "        }\n",
       "      );\n",
       "    </script>\n",
       "  "
      ],
      "text/plain": [
       "QueryResultsTable job_xKOeVIiGTzChwV_aZDKBo4AQRRsS"
      ]
     },
     "execution_count": 69,
     "metadata": {},
     "output_type": "execute_result"
    }
   ],
   "source": [
    "%bq execute -q check"
   ]
  },
  {
   "cell_type": "code",
   "execution_count": 78,
   "metadata": {},
   "outputs": [],
   "source": [
    "%bq query -n agg_result \n",
    "# is_churn distribution\n",
    "SELECT COUNT(msno) AS is_churn_count\n",
    "FROM `kkbox-210108.kk_Data.user_label_201703`\n",
    "GROUP BY is_churn"
   ]
  },
  {
   "cell_type": "code",
   "execution_count": 79,
   "metadata": {},
   "outputs": [
    {
     "data": {
      "text/html": [
       "\n",
       "    <p>Dry run information:    47MB to process, results not cached</p>\n",
       "    "
      ],
      "text/plain": [
       "<google.datalab.bigquery._query_stats.QueryStats at 0x7fae826a3b50>"
      ]
     },
     "execution_count": 79,
     "metadata": {},
     "output_type": "execute_result"
    }
   ],
   "source": [
    "%bq dryrun -q agg_result"
   ]
  },
  {
   "cell_type": "code",
   "execution_count": 18,
   "metadata": {},
   "outputs": [],
   "source": [
    "# python packages\n",
    "import numpy as np \n",
    "import pandas as pd \n",
    "import matplotlib.pyplot as plt\n",
    "import seaborn as sns\n",
    "%matplotlib inline\n",
    "# ignore warning\n",
    "import warnings\n",
    "warnings.filterwarnings(\"ignore\")"
   ]
  },
  {
   "cell_type": "code",
   "execution_count": 28,
   "metadata": {},
   "outputs": [],
   "source": [
    "# square scale\n",
    "import matplotlib.scale as mscale\n",
    "import matplotlib.pyplot as plt\n",
    "import matplotlib.transforms as mtransforms\n",
    "import matplotlib.ticker as ticker\n",
    "import numpy as np\n",
    "\n",
    "class SquareRootScale(mscale.ScaleBase):\n",
    "    \"\"\"\n",
    "    ScaleBase class for generating square root scale.\n",
    "    \"\"\"\n",
    "\n",
    "    name = 'squareroot'\n",
    "\n",
    "    def __init__(self, axis, **kwargs):\n",
    "        mscale.ScaleBase.__init__(self)\n",
    "\n",
    "    def set_default_locators_and_formatters(self, axis):\n",
    "        axis.set_major_locator(ticker.AutoLocator())\n",
    "        axis.set_major_formatter(ticker.ScalarFormatter())\n",
    "        axis.set_minor_locator(ticker.NullLocator())\n",
    "        axis.set_minor_formatter(ticker.NullFormatter())\n",
    "\n",
    "    def limit_range_for_scale(self, vmin, vmax, minpos):\n",
    "        return  max(0., vmin), vmax\n",
    "\n",
    "    class SquareRootTransform(mtransforms.Transform):\n",
    "        input_dims = 1\n",
    "        output_dims = 1\n",
    "        is_separable = True\n",
    "\n",
    "        def transform_non_affine(self, a): \n",
    "            return np.array(a)**0.5\n",
    "\n",
    "        def inverted(self):\n",
    "            return SquareRootScale.InvertedSquareRootTransform()\n",
    "\n",
    "    class InvertedSquareRootTransform(mtransforms.Transform):\n",
    "        input_dims = 1\n",
    "        output_dims = 1\n",
    "        is_separable = True\n",
    "\n",
    "        def transform(self, a):\n",
    "            return np.array(a)**2\n",
    "\n",
    "        def inverted(self):\n",
    "            return SquareRootScale.SquareRootTransform()\n",
    "\n",
    "    def get_transform(self):\n",
    "        return self.SquareRootTransform()\n",
    "\n",
    "mscale.register_scale(SquareRootScale)\n",
    "'''\n",
    "fig, ax = plt.subplots(1)\n",
    "\n",
    "ax.plot(np.arange(0, 9)**2, label='$y=x^2$')\n",
    "ax.legend()\n",
    "\n",
    "ax.set_yscale('squareroot')\n",
    "ax.set_yticks(np.arange(0,9,2)**2)\n",
    "ax.set_yticks(np.arange(0,8.5,0.5)**2, minor=True)\n",
    "\n",
    "plt.show()\n",
    "''';"
   ]
  },
  {
   "cell_type": "code",
   "execution_count": 4,
   "metadata": {},
   "outputs": [
    {
     "name": "stdout",
     "output_type": "stream",
     "text": [
      "Requesting query... ok.\n",
      "Job ID: fad83037-a38f-41d4-ab50-fe1200e2d239\n",
      "Query running...\n",
      "Query done.\n",
      "Processed: 45.7 MB Billed: 46.0 MB\n",
      "Standard price: $0.00 USD\n",
      "\n",
      "Retrieving results...\n",
      "Got 2 rows.\n",
      "\n",
      "Total time taken 3.11 s.\n",
      "Finished at 2018-09-18 08:50:37.\n"
     ]
    }
   ],
   "source": [
    "# pandas\n",
    "query = \"\"\" \n",
    "SELECT COUNT(msno) AS is_churn_count\n",
    "FROM `kkbox-210108.kk_Data.user_label_201703`\n",
    "GROUP BY is_churn\n",
    "        \"\"\"\n",
    "df = pd.read_gbq(query,project_id='kkbox-210108',dialect='standard')"
   ]
  },
  {
   "cell_type": "code",
   "execution_count": 29,
   "metadata": {},
   "outputs": [
    {
     "data": {
      "image/png": "[encoded data removed]",
      "text/plain": [
       "<matplotlib.figure.Figure at 0x7f33b2be8908>"
      ]
     },
     "metadata": {},
     "output_type": "display_data"
    }
   ],
   "source": [
    "# give labels\n",
    "df_is_churn = df.reset_index().rename(columns={'index':'labels'})\n",
    "# plot\n",
    "ax = df_is_churn.plot(kind='bar', x='labels',y='is_churn_count',legend=False,figsize=(8,5))\n",
    "plt.xticks(rotation=0)\n",
    "ax.set_yscale('squareroot')\n",
    "# ticks the ratio\n",
    "for p in ax.patches[:4]:\n",
    "    ax.annotate('%.3f' % (p.get_height()/ df_is_churn.is_churn_count.sum()), (p.get_x() * 1.005, p.get_height() * 1.005))"
   ]
  },
  {
   "cell_type": "code",
   "execution_count": 4,
   "metadata": {},
   "outputs": [
    {
     "data": {
      "text/html": [
       "\n",
       "    <div class=\"bqtv\" id=\"2_153725438218\"><table><tr><th>msno</th><th>date</th><th>num_25</th><th>num_50</th><th>num_75</th><th>num_985</th><th>num_100</th><th>num_unq</th><th>total_secs</th></tr><tr><td>8nSyuVdv8qR4aHr1hUx1FXoIuxpZluW+kR/d0ounuYA=</td><td>20160512</td><td>24</td><td>2</td><td>1</td><td>1</td><td>53</td><td>61</td><td>15019.365</td></tr><tr><td>d2GtIMHD45Ri5/Ksa86X4FYWCZMM3fZ4WRDKjbhp15A=</td><td>20160205</td><td>81</td><td>2</td><td>4</td><td>3</td><td>34</td><td>74</td><td>9600.676</td></tr><tr><td>d2GtIMHD45Ri5/Ksa86X4FYWCZMM3fZ4WRDKjbhp15A=</td><td>20161124</td><td>37</td><td>4</td><td>4</td><td>2</td><td>48</td><td>83</td><td>12778.431</td></tr><tr><td>d2GtIMHD45Ri5/Ksa86X4FYWCZMM3fZ4WRDKjbhp15A=</td><td>20170114</td><td>113</td><td>22</td><td>8</td><td>3</td><td>40</td><td>163</td><td>14347.198</td></tr><tr><td>kb3qHtlz+K4Ume8TF4FQi9xwrTZqzFFvBDZsdYvyQ0A=</td><td>20161217</td><td>32</td><td>1</td><td>0</td><td>1</td><td>30</td><td>58</td><td>7391.719</td></tr><tr><td>B/eZk3P+A98+vport4EL6KBRhYiioS+F1uVJSGmAUGw=</td><td>20150720</td><td>22</td><td>2</td><td>0</td><td>2</td><td>38</td><td>52</td><td>10062.741</td></tr><tr><td>ysLUp9Ebqx3RrCNmZAOSmyW7kDZQafvyg7+Ge6lbG3Y=</td><td>20150717</td><td>38</td><td>6</td><td>5</td><td>4</td><td>66</td><td>87</td><td>20265.215</td></tr><tr><td>ysLUp9Ebqx3RrCNmZAOSmyW7kDZQafvyg7+Ge6lbG3Y=</td><td>20160318</td><td>36</td><td>4</td><td>2</td><td>4</td><td>97</td><td>61</td><td>24174.545</td></tr><tr><td>65MC0qTNLb/tG6fPv0IN7AzLqma4IkDHe1SEB8TedA8=</td><td>20150411</td><td>42</td><td>24</td><td>13</td><td>6</td><td>85</td><td>131</td><td>26109.762</td></tr><tr><td>aDyAkp8ZPYJUAVISQZ9oe1/2Ub1iDbq1Z9B6lBaTGRk=</td><td>20150107</td><td>23</td><td>12</td><td>3</td><td>7</td><td>60</td><td>90</td><td>19544.564</td></tr><tr><td>hXBw2UrphMglzTCevQhiO3MxweaxWheKbUy63y9L1KU=</td><td>20160725</td><td>25</td><td>8</td><td>2</td><td>6</td><td>27</td><td>52</td><td>8100.914</td></tr><tr><td>SaDQjFXhE3OTKa4nphNdFUTGXHz4CnvamDimkIlu+iE=</td><td>20151230</td><td>24</td><td>2</td><td>2</td><td>2</td><td>141</td><td>148</td><td>37411.15</td></tr><tr><td>SaDQjFXhE3OTKa4nphNdFUTGXHz4CnvamDimkIlu+iE=</td><td>20160222</td><td>31</td><td>3</td><td>4</td><td>0</td><td>97</td><td>125</td><td>26303.642</td></tr><tr><td>SaDQjFXhE3OTKa4nphNdFUTGXHz4CnvamDimkIlu+iE=</td><td>20160418</td><td>43</td><td>5</td><td>1</td><td>2</td><td>63</td><td>101</td><td>17315.789</td></tr><tr><td>3UVpd9pHoKk8oMIIrTqKaoOasIH2iQFLboGZJvAzwKY=</td><td>20160408</td><td>25</td><td>4</td><td>3</td><td>8</td><td>35</td><td>65</td><td>12209.435</td></tr><tr><td>xo1owQF/ASAxQQytAwHxoWBdQTDAw9123LZ/mEG1SG4=</td><td>20170215</td><td>22</td><td>2</td><td>4</td><td>1</td><td>38</td><td>52</td><td>11012.843</td></tr><tr><td>NhQeRGDNlefA7sIPQOWdZtToftl1sG6fyVfwccXwGdE=</td><td>20150704</td><td>45</td><td>15</td><td>4</td><td>5</td><td>18</td><td>72</td><td>7911.527</td></tr><tr><td>yOphCa1K43qe9z2shmdjutvB6gRfpbdrifCh1U7Vz/M=</td><td>20150509</td><td>40</td><td>1</td><td>0</td><td>1</td><td>35</td><td>55</td><td>9400.082</td></tr><tr><td>yOphCa1K43qe9z2shmdjutvB6gRfpbdrifCh1U7Vz/M=</td><td>20151025</td><td>44</td><td>1</td><td>0</td><td>3</td><td>58</td><td>78</td><td>13128.114</td></tr><tr><td>yOphCa1K43qe9z2shmdjutvB6gRfpbdrifCh1U7Vz/M=</td><td>20151217</td><td>47</td><td>1</td><td>0</td><td>2</td><td>71</td><td>107</td><td>18339.627</td></tr><tr><td>7iriLc53KWyBF37EDWD/B11T84G6jt6B1c5PH8YUnh4=</td><td>20150308</td><td>25</td><td>3</td><td>2</td><td>4</td><td>156</td><td>172</td><td>36691.133</td></tr><tr><td>7iriLc53KWyBF37EDWD/B11T84G6jt6B1c5PH8YUnh4=</td><td>20151130</td><td>63</td><td>19</td><td>13</td><td>11</td><td>175</td><td>152</td><td>47000.279</td></tr><tr><td>7iriLc53KWyBF37EDWD/B11T84G6jt6B1c5PH8YUnh4=</td><td>20160119</td><td>64</td><td>14</td><td>7</td><td>5</td><td>44</td><td>104</td><td>14209.987</td></tr><tr><td>Kc9QWnnfaRtAy6n+LhHckLMHbXYRm0pr/BKFhCM+f58=</td><td>20150208</td><td>30</td><td>7</td><td>4</td><td>4</td><td>35</td><td>59</td><td>11942.761</td></tr><tr><td>Kc9QWnnfaRtAy6n+LhHckLMHbXYRm0pr/BKFhCM+f58=</td><td>20170128</td><td>101</td><td>12</td><td>9</td><td>3</td><td>19</td><td>94</td><td>9082.138</td></tr></table></div>\n",
       "    <br />(rows: 410502905, kkbox-210108.kk_Data.user_logs)<br />\n",
       "    <script src=\"/static/components/requirejs/require.js\"></script>\n",
       "    <script>\n",
       "      require.config({\n",
       "        paths: {\n",
       "          base: '/static/base',\n",
       "          d3: '//cdnjs.cloudflare.com/ajax/libs/d3/3.4.13/d3',\n",
       "          plotly: 'https://cdn.plot.ly/plotly-1.5.1.min.js?noext',\n",
       "          jquery: '//ajax.googleapis.com/ajax/libs/jquery/2.0.0/jquery.min'\n",
       "        },\n",
       "        map: {\n",
       "          '*': {\n",
       "            datalab: 'nbextensions/gcpdatalab'\n",
       "          }\n",
       "        },\n",
       "        shim: {\n",
       "          plotly: {\n",
       "            deps: ['d3', 'jquery'],\n",
       "            exports: 'plotly'\n",
       "          }\n",
       "        }\n",
       "      });\n",
       "\n",
       "      require(['datalab/charting', 'datalab/element!2_153725438218', 'base/js/events',\n",
       "          'datalab/style!/nbextensions/gcpdatalab/charting.css'],\n",
       "        function(charts, dom, events) {\n",
       "          charts.render('gcharts', dom, events, 'paged_table', [], {\"rows\": [{\"c\": [{\"v\": \"8nSyuVdv8qR4aHr1hUx1FXoIuxpZluW+kR/d0ounuYA=\"}, {\"v\": 20160512}, {\"v\": 24}, {\"v\": 2}, {\"v\": 1}, {\"v\": 1}, {\"v\": 53}, {\"v\": 61}, {\"v\": 15019.365}]}, {\"c\": [{\"v\": \"d2GtIMHD45Ri5/Ksa86X4FYWCZMM3fZ4WRDKjbhp15A=\"}, {\"v\": 20160205}, {\"v\": 81}, {\"v\": 2}, {\"v\": 4}, {\"v\": 3}, {\"v\": 34}, {\"v\": 74}, {\"v\": 9600.676}]}, {\"c\": [{\"v\": \"d2GtIMHD45Ri5/Ksa86X4FYWCZMM3fZ4WRDKjbhp15A=\"}, {\"v\": 20161124}, {\"v\": 37}, {\"v\": 4}, {\"v\": 4}, {\"v\": 2}, {\"v\": 48}, {\"v\": 83}, {\"v\": 12778.431}]}, {\"c\": [{\"v\": \"d2GtIMHD45Ri5/Ksa86X4FYWCZMM3fZ4WRDKjbhp15A=\"}, {\"v\": 20170114}, {\"v\": 113}, {\"v\": 22}, {\"v\": 8}, {\"v\": 3}, {\"v\": 40}, {\"v\": 163}, {\"v\": 14347.198}]}, {\"c\": [{\"v\": \"kb3qHtlz+K4Ume8TF4FQi9xwrTZqzFFvBDZsdYvyQ0A=\"}, {\"v\": 20161217}, {\"v\": 32}, {\"v\": 1}, {\"v\": 0}, {\"v\": 1}, {\"v\": 30}, {\"v\": 58}, {\"v\": 7391.719}]}, {\"c\": [{\"v\": \"B/eZk3P+A98+vport4EL6KBRhYiioS+F1uVJSGmAUGw=\"}, {\"v\": 20150720}, {\"v\": 22}, {\"v\": 2}, {\"v\": 0}, {\"v\": 2}, {\"v\": 38}, {\"v\": 52}, {\"v\": 10062.741}]}, {\"c\": [{\"v\": \"ysLUp9Ebqx3RrCNmZAOSmyW7kDZQafvyg7+Ge6lbG3Y=\"}, {\"v\": 20150717}, {\"v\": 38}, {\"v\": 6}, {\"v\": 5}, {\"v\": 4}, {\"v\": 66}, {\"v\": 87}, {\"v\": 20265.215}]}, {\"c\": [{\"v\": \"ysLUp9Ebqx3RrCNmZAOSmyW7kDZQafvyg7+Ge6lbG3Y=\"}, {\"v\": 20160318}, {\"v\": 36}, {\"v\": 4}, {\"v\": 2}, {\"v\": 4}, {\"v\": 97}, {\"v\": 61}, {\"v\": 24174.545}]}, {\"c\": [{\"v\": \"65MC0qTNLb/tG6fPv0IN7AzLqma4IkDHe1SEB8TedA8=\"}, {\"v\": 20150411}, {\"v\": 42}, {\"v\": 24}, {\"v\": 13}, {\"v\": 6}, {\"v\": 85}, {\"v\": 131}, {\"v\": 26109.762}]}, {\"c\": [{\"v\": \"aDyAkp8ZPYJUAVISQZ9oe1/2Ub1iDbq1Z9B6lBaTGRk=\"}, {\"v\": 20150107}, {\"v\": 23}, {\"v\": 12}, {\"v\": 3}, {\"v\": 7}, {\"v\": 60}, {\"v\": 90}, {\"v\": 19544.564}]}, {\"c\": [{\"v\": \"hXBw2UrphMglzTCevQhiO3MxweaxWheKbUy63y9L1KU=\"}, {\"v\": 20160725}, {\"v\": 25}, {\"v\": 8}, {\"v\": 2}, {\"v\": 6}, {\"v\": 27}, {\"v\": 52}, {\"v\": 8100.914}]}, {\"c\": [{\"v\": \"SaDQjFXhE3OTKa4nphNdFUTGXHz4CnvamDimkIlu+iE=\"}, {\"v\": 20151230}, {\"v\": 24}, {\"v\": 2}, {\"v\": 2}, {\"v\": 2}, {\"v\": 141}, {\"v\": 148}, {\"v\": 37411.15}]}, {\"c\": [{\"v\": \"SaDQjFXhE3OTKa4nphNdFUTGXHz4CnvamDimkIlu+iE=\"}, {\"v\": 20160222}, {\"v\": 31}, {\"v\": 3}, {\"v\": 4}, {\"v\": 0}, {\"v\": 97}, {\"v\": 125}, {\"v\": 26303.642}]}, {\"c\": [{\"v\": \"SaDQjFXhE3OTKa4nphNdFUTGXHz4CnvamDimkIlu+iE=\"}, {\"v\": 20160418}, {\"v\": 43}, {\"v\": 5}, {\"v\": 1}, {\"v\": 2}, {\"v\": 63}, {\"v\": 101}, {\"v\": 17315.789}]}, {\"c\": [{\"v\": \"3UVpd9pHoKk8oMIIrTqKaoOasIH2iQFLboGZJvAzwKY=\"}, {\"v\": 20160408}, {\"v\": 25}, {\"v\": 4}, {\"v\": 3}, {\"v\": 8}, {\"v\": 35}, {\"v\": 65}, {\"v\": 12209.435}]}, {\"c\": [{\"v\": \"xo1owQF/ASAxQQytAwHxoWBdQTDAw9123LZ/mEG1SG4=\"}, {\"v\": 20170215}, {\"v\": 22}, {\"v\": 2}, {\"v\": 4}, {\"v\": 1}, {\"v\": 38}, {\"v\": 52}, {\"v\": 11012.843}]}, {\"c\": [{\"v\": \"NhQeRGDNlefA7sIPQOWdZtToftl1sG6fyVfwccXwGdE=\"}, {\"v\": 20150704}, {\"v\": 45}, {\"v\": 15}, {\"v\": 4}, {\"v\": 5}, {\"v\": 18}, {\"v\": 72}, {\"v\": 7911.527}]}, {\"c\": [{\"v\": \"yOphCa1K43qe9z2shmdjutvB6gRfpbdrifCh1U7Vz/M=\"}, {\"v\": 20150509}, {\"v\": 40}, {\"v\": 1}, {\"v\": 0}, {\"v\": 1}, {\"v\": 35}, {\"v\": 55}, {\"v\": 9400.082}]}, {\"c\": [{\"v\": \"yOphCa1K43qe9z2shmdjutvB6gRfpbdrifCh1U7Vz/M=\"}, {\"v\": 20151025}, {\"v\": 44}, {\"v\": 1}, {\"v\": 0}, {\"v\": 3}, {\"v\": 58}, {\"v\": 78}, {\"v\": 13128.114}]}, {\"c\": [{\"v\": \"yOphCa1K43qe9z2shmdjutvB6gRfpbdrifCh1U7Vz/M=\"}, {\"v\": 20151217}, {\"v\": 47}, {\"v\": 1}, {\"v\": 0}, {\"v\": 2}, {\"v\": 71}, {\"v\": 107}, {\"v\": 18339.627}]}, {\"c\": [{\"v\": \"7iriLc53KWyBF37EDWD/B11T84G6jt6B1c5PH8YUnh4=\"}, {\"v\": 20150308}, {\"v\": 25}, {\"v\": 3}, {\"v\": 2}, {\"v\": 4}, {\"v\": 156}, {\"v\": 172}, {\"v\": 36691.133}]}, {\"c\": [{\"v\": \"7iriLc53KWyBF37EDWD/B11T84G6jt6B1c5PH8YUnh4=\"}, {\"v\": 20151130}, {\"v\": 63}, {\"v\": 19}, {\"v\": 13}, {\"v\": 11}, {\"v\": 175}, {\"v\": 152}, {\"v\": 47000.279}]}, {\"c\": [{\"v\": \"7iriLc53KWyBF37EDWD/B11T84G6jt6B1c5PH8YUnh4=\"}, {\"v\": 20160119}, {\"v\": 64}, {\"v\": 14}, {\"v\": 7}, {\"v\": 5}, {\"v\": 44}, {\"v\": 104}, {\"v\": 14209.987}]}, {\"c\": [{\"v\": \"Kc9QWnnfaRtAy6n+LhHckLMHbXYRm0pr/BKFhCM+f58=\"}, {\"v\": 20150208}, {\"v\": 30}, {\"v\": 7}, {\"v\": 4}, {\"v\": 4}, {\"v\": 35}, {\"v\": 59}, {\"v\": 11942.761}]}, {\"c\": [{\"v\": \"Kc9QWnnfaRtAy6n+LhHckLMHbXYRm0pr/BKFhCM+f58=\"}, {\"v\": 20170128}, {\"v\": 101}, {\"v\": 12}, {\"v\": 9}, {\"v\": 3}, {\"v\": 19}, {\"v\": 94}, {\"v\": 9082.138}]}], \"cols\": [{\"type\": \"string\", \"id\": \"msno\", \"label\": \"msno\"}, {\"type\": \"number\", \"id\": \"date\", \"label\": \"date\"}, {\"type\": \"number\", \"id\": \"num_25\", \"label\": \"num_25\"}, {\"type\": \"number\", \"id\": \"num_50\", \"label\": \"num_50\"}, {\"type\": \"number\", \"id\": \"num_75\", \"label\": \"num_75\"}, {\"type\": \"number\", \"id\": \"num_985\", \"label\": \"num_985\"}, {\"type\": \"number\", \"id\": \"num_100\", \"label\": \"num_100\"}, {\"type\": \"number\", \"id\": \"num_unq\", \"label\": \"num_unq\"}, {\"type\": \"number\", \"id\": \"total_secs\", \"label\": \"total_secs\"}]},\n",
       "            {\n",
       "              pageSize: 25,\n",
       "              cssClassNames:  {\n",
       "                tableRow: 'gchart-table-row',\n",
       "                headerRow: 'gchart-table-headerrow',\n",
       "                oddTableRow: 'gchart-table-oddrow',\n",
       "                selectedTableRow: 'gchart-table-selectedrow',\n",
       "                hoverTableRow: 'gchart-table-hoverrow',\n",
       "                tableCell: 'gchart-table-cell',\n",
       "                headerCell: 'gchart-table-headercell',\n",
       "                rowNumberCell: 'gchart-table-rownumcell'\n",
       "              }\n",
       "            },\n",
       "            {source_index: 1, fields: 'msno,date,num_25,num_50,num_75,num_985,num_100,num_unq,total_secs'},\n",
       "            0,\n",
       "            410502905);\n",
       "        }\n",
       "      );\n",
       "    </script>\n",
       "  "
      ],
      "text/plain": [
       "BigQuery Table - name: kkbox-210108.kk_Data.user_logs"
      ]
     },
     "execution_count": 4,
     "metadata": {},
     "output_type": "execute_result"
    }
   ],
   "source": [
    "%bq tables view -n kkbox-210108.kk_Data.user_logs"
   ]
  },
  {
   "cell_type": "code",
   "execution_count": 64,
   "metadata": {},
   "outputs": [],
   "source": [
    "%bq query -n check\n",
    "# -- uni, not_null, quantiles\n",
    "SELECT COUNT(date) AS not_null_date, COUNT(num_25) AS not_null_25,COUNT(num_50) AS not_null_50,\n",
    "       COUNT(num_75) AS not_null_75,COUNT(num_985) AS not_null_985,COUNT(num_100) AS not_null_100,\n",
    "       COUNT(num_unq) AS not_null_nuq, COUNT(total_secs) AS not_null_total_secs\n",
    "FROM `kkbox-210108.kk_Data.user_logs`"
   ]
  },
  {
   "cell_type": "code",
   "execution_count": 65,
   "metadata": {},
   "outputs": [
    {
     "data": {
      "text/html": [
       "\n",
       "    <p>Dry run information:    26GB to process, results not cached</p>\n",
       "    "
      ],
      "text/plain": [
       "<google.datalab.bigquery._query_stats.QueryStats at 0x7f33b2b3c358>"
      ]
     },
     "execution_count": 65,
     "metadata": {},
     "output_type": "execute_result"
    }
   ],
   "source": [
    "%bq dryrun -q check"
   ]
  },
  {
   "cell_type": "code",
   "execution_count": 34,
   "metadata": {},
   "outputs": [
    {
     "data": {
      "text/html": [
       "\n",
       "    <div class=\"bqtv\" id=\"2_153726458728\"><table><tr><th>not_null_date</th><th>not_null_25</th><th>not_null_50</th><th>not_null_75</th><th>not_null_985</th><th>not_null_100</th><th>not_null_nuq</th><th>not_null_total_secs</th></tr><tr><td>410502905</td><td>410502905</td><td>410502905</td><td>410502905</td><td>410502905</td><td>410502905</td><td>410502905</td><td>410502905</td></tr></table></div>\n",
       "    <br />(rows: 1, time: 5.6s,    26GB processed, job: job__7bkbLDCEQpQMLIk4_pkfXFNibJE)<br />\n",
       "    <script src=\"/static/components/requirejs/require.js\"></script>\n",
       "    <script>\n",
       "      require.config({\n",
       "        paths: {\n",
       "          base: '/static/base',\n",
       "          d3: '//cdnjs.cloudflare.com/ajax/libs/d3/3.4.13/d3',\n",
       "          plotly: 'https://cdn.plot.ly/plotly-1.5.1.min.js?noext',\n",
       "          jquery: '//ajax.googleapis.com/ajax/libs/jquery/2.0.0/jquery.min'\n",
       "        },\n",
       "        map: {\n",
       "          '*': {\n",
       "            datalab: 'nbextensions/gcpdatalab'\n",
       "          }\n",
       "        },\n",
       "        shim: {\n",
       "          plotly: {\n",
       "            deps: ['d3', 'jquery'],\n",
       "            exports: 'plotly'\n",
       "          }\n",
       "        }\n",
       "      });\n",
       "\n",
       "      require(['datalab/charting', 'datalab/element!2_153726458728', 'base/js/events',\n",
       "          'datalab/style!/nbextensions/gcpdatalab/charting.css'],\n",
       "        function(charts, dom, events) {\n",
       "          charts.render('gcharts', dom, events, 'table', [], {\"rows\": [{\"c\": [{\"v\": 410502905}, {\"v\": 410502905}, {\"v\": 410502905}, {\"v\": 410502905}, {\"v\": 410502905}, {\"v\": 410502905}, {\"v\": 410502905}, {\"v\": 410502905}]}], \"cols\": [{\"type\": \"number\", \"label\": \"not_null_date\", \"id\": \"not_null_date\"}, {\"type\": \"number\", \"label\": \"not_null_25\", \"id\": \"not_null_25\"}, {\"type\": \"number\", \"label\": \"not_null_50\", \"id\": \"not_null_50\"}, {\"type\": \"number\", \"label\": \"not_null_75\", \"id\": \"not_null_75\"}, {\"type\": \"number\", \"label\": \"not_null_985\", \"id\": \"not_null_985\"}, {\"type\": \"number\", \"label\": \"not_null_100\", \"id\": \"not_null_100\"}, {\"type\": \"number\", \"label\": \"not_null_nuq\", \"id\": \"not_null_nuq\"}, {\"type\": \"number\", \"label\": \"not_null_total_secs\", \"id\": \"not_null_total_secs\"}]},\n",
       "            {\n",
       "              pageSize: 25,\n",
       "              cssClassNames:  {\n",
       "                tableRow: 'gchart-table-row',\n",
       "                headerRow: 'gchart-table-headerrow',\n",
       "                oddTableRow: 'gchart-table-oddrow',\n",
       "                selectedTableRow: 'gchart-table-selectedrow',\n",
       "                hoverTableRow: 'gchart-table-hoverrow',\n",
       "                tableCell: 'gchart-table-cell',\n",
       "                headerCell: 'gchart-table-headercell',\n",
       "                rowNumberCell: 'gchart-table-rownumcell'\n",
       "              }\n",
       "            },\n",
       "            {source_index: 1, fields: 'not_null_date,not_null_25,not_null_50,not_null_75,not_null_985,not_null_100,not_null_nuq,not_null_total_secs'},\n",
       "            0,\n",
       "            1);\n",
       "        }\n",
       "      );\n",
       "    </script>\n",
       "  "
      ],
      "text/plain": [
       "QueryResultsTable job__7bkbLDCEQpQMLIk4_pkfXFNibJE"
      ]
     },
     "execution_count": 34,
     "metadata": {},
     "output_type": "execute_result"
    }
   ],
   "source": [
    "%bq execute -q check"
   ]
  },
  {
   "cell_type": "code",
   "execution_count": 72,
   "metadata": {},
   "outputs": [],
   "source": [
    "%bq query -n check\n",
    "SELECT APPROX_QUANTILES(num_25,3) AS quant \n",
    "FROM `kkbox-210108.kk_Data.user_logs`\n",
    "UNION ALL\n",
    "SELECT APPROX_QUANTILES(num_50,3) AS quant\n",
    "FROM `kkbox-210108.kk_Data.user_logs`"
   ]
  },
  {
   "cell_type": "code",
   "execution_count": 73,
   "metadata": {},
   "outputs": [
    {
     "data": {
      "text/html": [
       "\n",
       "    <p>Dry run information:     6GB to process, results not cached</p>\n",
       "    "
      ],
      "text/plain": [
       "<google.datalab.bigquery._query_stats.QueryStats at 0x7f33c00412b0>"
      ]
     },
     "execution_count": 73,
     "metadata": {},
     "output_type": "execute_result"
    }
   ],
   "source": [
    "%bq dryrun -q check"
   ]
  },
  {
   "cell_type": "code",
   "execution_count": 60,
   "metadata": {},
   "outputs": [],
   "source": [
    "%bq query -n check\n",
    "# -- quantiles ARRAY CTE\n",
    "WITH Quant_ARRAY AS(\n",
    "                   SELECT APPROX_QUANTILES(num_25,3) AS quant \n",
    "                   FROM `kkbox-210108.kk_Data.user_logs`      UNION ALL\n",
    "                   SELECT APPROX_QUANTILES(num_50,3) AS quant \n",
    "                   FROM `kkbox-210108.kk_Data.user_logs`      UNION ALL \n",
    "                   SELECT APPROX_QUANTILES(num_75,3) AS quant \n",
    "                   FROM `kkbox-210108.kk_Data.user_logs`       UNION ALL \n",
    "                   SELECT APPROX_QUANTILES(num_985,3) AS quant \n",
    "                   FROM `kkbox-210108.kk_Data.user_logs`       UNION ALL\n",
    "                   SELECT APPROX_QUANTILES(num_100,3) AS quant \n",
    "                   FROM `kkbox-210108.kk_Data.user_logs`       UNION ALL\n",
    "                   SELECT APPROX_QUANTILES(num_unq,3) AS quant \n",
    "                   FROM `kkbox-210108.kk_Data.user_logs`       UNION ALL\n",
    "                   SELECT APPROX_QUANTILES(total_secs,3) AS quant \n",
    "                   FROM `kkbox-210108.kk_Data.user_logs`)\n",
    "SELECT quant[OFFSET(0)] AS min\n",
    "FROM Quant_ARRAY"
   ]
  },
  {
   "cell_type": "code",
   "execution_count": 61,
   "metadata": {},
   "outputs": [
    {
     "name": "stderr",
     "output_type": "stream",
     "text": [
      "\n",
      "HTTP request failed: Unrecognized name: num_25 at [3:44]"
     ]
    }
   ],
   "source": [
    "%bq dryrun -q check"
   ]
  },
  {
   "cell_type": "code",
   "execution_count": 55,
   "metadata": {},
   "outputs": [
    {
     "data": {
      "text/html": [
       "\n",
       "    <div class=\"bqtv\" id=\"4_153726601091\"><table><tr><th>min</th></tr><tr><td>0</td></tr></table></div>\n",
       "    <br />(rows: 1, time: 7.5s,     3GB processed, job: job_QZAL4U-oD68SI_FTbsHdS-7Ua6PL)<br />\n",
       "    <script src=\"/static/components/requirejs/require.js\"></script>\n",
       "    <script>\n",
       "      require.config({\n",
       "        paths: {\n",
       "          base: '/static/base',\n",
       "          d3: '//cdnjs.cloudflare.com/ajax/libs/d3/3.4.13/d3',\n",
       "          plotly: 'https://cdn.plot.ly/plotly-1.5.1.min.js?noext',\n",
       "          jquery: '//ajax.googleapis.com/ajax/libs/jquery/2.0.0/jquery.min'\n",
       "        },\n",
       "        map: {\n",
       "          '*': {\n",
       "            datalab: 'nbextensions/gcpdatalab'\n",
       "          }\n",
       "        },\n",
       "        shim: {\n",
       "          plotly: {\n",
       "            deps: ['d3', 'jquery'],\n",
       "            exports: 'plotly'\n",
       "          }\n",
       "        }\n",
       "      });\n",
       "\n",
       "      require(['datalab/charting', 'datalab/element!4_153726601091', 'base/js/events',\n",
       "          'datalab/style!/nbextensions/gcpdatalab/charting.css'],\n",
       "        function(charts, dom, events) {\n",
       "          charts.render('gcharts', dom, events, 'table', [], {\"rows\": [{\"c\": [{\"v\": 0}]}], \"cols\": [{\"type\": \"number\", \"label\": \"min\", \"id\": \"min\"}]},\n",
       "            {\n",
       "              pageSize: 25,\n",
       "              cssClassNames:  {\n",
       "                tableRow: 'gchart-table-row',\n",
       "                headerRow: 'gchart-table-headerrow',\n",
       "                oddTableRow: 'gchart-table-oddrow',\n",
       "                selectedTableRow: 'gchart-table-selectedrow',\n",
       "                hoverTableRow: 'gchart-table-hoverrow',\n",
       "                tableCell: 'gchart-table-cell',\n",
       "                headerCell: 'gchart-table-headercell',\n",
       "                rowNumberCell: 'gchart-table-rownumcell'\n",
       "              }\n",
       "            },\n",
       "            {source_index: 3, fields: 'min'},\n",
       "            0,\n",
       "            1);\n",
       "        }\n",
       "      );\n",
       "    </script>\n",
       "  "
      ],
      "text/plain": [
       "QueryResultsTable job_QZAL4U-oD68SI_FTbsHdS-7Ua6PL"
      ]
     },
     "execution_count": 55,
     "metadata": {},
     "output_type": "execute_result"
    }
   ],
   "source": [
    "%bq execute -q check"
   ]
  },
  {
   "cell_type": "code",
   "execution_count": null,
   "metadata": {},
   "outputs": [],
   "source": []
  }
 ],
 "metadata": {
  "kernelspec": {
   "display_name": "Python 3",
   "language": "python",
   "name": "python3"
  },
  "language_info": {
   "codemirror_mode": {
    "name": "ipython",
    "version": 3
   },
   "file_extension": ".py",
   "mimetype": "text/x-python",
   "name": "python",
   "nbconvert_exporter": "python",
   "pygments_lexer": "ipython3",
   "version": "3.5.5"
  }
 },
 "nbformat": 4,
 "nbformat_minor": 2
}

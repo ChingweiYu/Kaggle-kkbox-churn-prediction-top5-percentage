{
 "cells": [
  {
   "cell_type": "code",
   "execution_count": 16,
   "metadata": {},
   "outputs": [
    {
     "name": "stdout",
     "output_type": "stream",
     "text": [
      "0.22.0\n"
     ]
    }
   ],
   "source": [
    "# packages we needed\n",
    "# sotrage\n",
    "# from google.datalab import Context\n",
    "# import google.datalab.bigquery as bq\n",
    "import pandas as pd\n",
    "try:\n",
    "  from StringIO import StringIO\n",
    "except ImportError:\n",
    "  from io import BytesIO as StringIO\n",
    "print(pd.__version__)"
   ]
  },
  {
   "cell_type": "markdown",
   "metadata": {},
   "source": [
    "# Case 1 reading using bigquery magic command"
   ]
  },
  {
   "cell_type": "code",
   "execution_count": 2,
   "metadata": {},
   "outputs": [],
   "source": [
    "%bq query -n query\n",
    "-- user_latent_satisfaction CTE\n",
    "WITH feature AS(\n",
    "                SELECT msno, AVG(single_day_latent_satisfaction) AS user_latent_satisfaction\n",
    "                FROM( \n",
    "                     SELECT msno, ( num_100 / (num_25 + num_50 + num_75 + num_985 + num_100) ) AS single_day_latent_satisfaction\n",
    "                     FROM `kkbox-210108.kk_Data.user_logs`\n",
    "                     WHERE date > 20170201 AND date < 20170228 )\n",
    "                GROUP BY msno)\n",
    "SELECT sub.msno, feature.user_latent_satisfaction\n",
    "FROM `kkbox-210108.kk_Data.submission` AS sub\n",
    "LEFT JOIN feature\n",
    "ON  sub.msno = feature.msno"
   ]
  },
  {
   "cell_type": "code",
   "execution_count": 3,
   "metadata": {},
   "outputs": [],
   "source": [
    "# ~ 1min 20s\n",
    "df_sub_ft_satis = %bq execute -q query --to-dataframe"
   ]
  },
  {
   "cell_type": "markdown",
   "metadata": {},
   "source": [
    "# Case 2 reading using pandas read_gbq"
   ]
  },
  {
   "cell_type": "code",
   "execution_count": 2,
   "metadata": {},
   "outputs": [
    {
     "name": "stdout",
     "output_type": "stream",
     "text": [
      "Requesting query... ok.\n",
      "Job ID: f902dbc5-786e-4ac5-8a5c-a2bc3a51c08f\n",
      "Query running...\n",
      "Query done.\n",
      "Cache hit.\n",
      "\n",
      "Retrieving results...\n",
      "Got 907471 rows.\n",
      "\n",
      "Total time taken 53.27 s.\n",
      "Finished at 2018-09-21 05:20:32.\n"
     ]
    }
   ],
   "source": [
    "# read_gbq\n",
    "# pandas\n",
    "query = \"\"\" \n",
    "-- user_latent_satisfaction CTE\n",
    "WITH feature AS(\n",
    "                SELECT msno, AVG(single_day_latent_satisfaction) AS user_latent_satisfaction\n",
    "                FROM( \n",
    "                     SELECT msno, ( num_100 / (num_25 + num_50 + num_75 + num_985 + num_100) ) AS single_day_latent_satisfaction\n",
    "                     FROM `kkbox-210108.kk_Data.user_logs`\n",
    "                     WHERE date > 20170201 AND date < 20170228 )\n",
    "                GROUP BY msno)\n",
    "SELECT sub.msno, feature.user_latent_satisfaction\n",
    "FROM `kkbox-210108.kk_Data.submission` AS sub\n",
    "LEFT JOIN feature\n",
    "ON  sub.msno = feature.msno\n",
    "        \"\"\"\n",
    "df_sub_ft_satis_2 = pd.read_gbq(query,project_id='kkbox-210108',dialect='standard')"
   ]
  },
  {
   "cell_type": "markdown",
   "metadata": {},
   "source": [
    "# Case 3 reaing by extracting to storage first, then read"
   ]
  },
  {
   "cell_type": "code",
   "execution_count": 4,
   "metadata": {},
   "outputs": [],
   "source": [
    "%bq query -n query\n",
    "-- user_latent_satisfaction CTE\n",
    "WITH feature AS(\n",
    "                SELECT msno, AVG(single_day_latent_satisfaction) AS user_latent_satisfaction\n",
    "                FROM( \n",
    "                     SELECT msno, ( num_100 / (num_25 + num_50 + num_75 + num_985 + num_100) ) AS single_day_latent_satisfaction\n",
    "                     FROM `kkbox-210108.kk_Data.user_logs`\n",
    "                     WHERE date > 20170201 AND date < 20170228 )\n",
    "                GROUP BY msno)\n",
    "SELECT sub.msno, feature.user_latent_satisfaction\n",
    "FROM `kkbox-210108.kk_Data.submission` AS sub\n",
    "LEFT JOIN feature\n",
    "ON  sub.msno = feature.msno"
   ]
  },
  {
   "cell_type": "code",
   "execution_count": 6,
   "metadata": {},
   "outputs": [
    {
     "data": {
      "text/plain": [
       "Job kkbox-210108/job_A6IoQSuIiCNrj_RbevJFQEzdUBzE completed"
      ]
     },
     "execution_count": 6,
     "metadata": {},
     "output_type": "execute_result"
    }
   ],
   "source": [
    "# to storage then read \n",
    "# ~ 18s\n",
    "%bq extract -f csv -H -p 'gs://kk_data/sub_ft_satisfaction.csv' -q query --verbose"
   ]
  },
  {
   "cell_type": "code",
   "execution_count": 10,
   "metadata": {},
   "outputs": [],
   "source": [
    "# ~ 1.5 s \n",
    "%gcs read --object gs://kk_data/sub_ft_satisfaction.csv -v df_sub_ft_satis"
   ]
  },
  {
   "cell_type": "code",
   "execution_count": 11,
   "metadata": {},
   "outputs": [],
   "source": [
    "df_sub_ft_satis = pd.read_csv(StringIO(df_sub_ft_satis))"
   ]
  },
  {
   "cell_type": "markdown",
   "metadata": {},
   "source": [
    "# Summary"
   ]
  },
  {
   "cell_type": "markdown",
   "metadata": {},
   "source": [
    "* In this case (maybe fit yours, or maybe NOT)\n",
    "\n",
    "* testing data Table 1 (~41 millions rows) Table 2 (~907k rows) to dataframe\n",
    "\n",
    "* unsing bigquery magic command ~ 1min 20s\n",
    "\n",
    "* using pandas read_gbq ~ 53s\n",
    "\n",
    "* extracting to storage first, then read ~ 20s"
   ]
  }
 ],
 "metadata": {
  "kernelspec": {
   "display_name": "Python 3",
   "language": "python",
   "name": "python3"
  },
  "language_info": {
   "codemirror_mode": {
    "name": "ipython",
    "version": 3
   },
   "file_extension": ".py",
   "mimetype": "text/x-python",
   "name": "python",
   "nbconvert_exporter": "python",
   "pygments_lexer": "ipython3",
   "version": "3.5.5"
  }
 },
 "nbformat": 4,
 "nbformat_minor": 2
}

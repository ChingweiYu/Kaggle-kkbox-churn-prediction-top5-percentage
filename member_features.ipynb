{
 "cells": [
  {
   "cell_type": "code",
   "execution_count": 34,
   "metadata": {},
   "outputs": [],
   "source": [
    "import pandas as pd\n",
    "import numpy as np\n",
    "import matplotlib.pyplot as plt\n",
    "import seaborn as sns\n",
    "import datetime as dt \n",
    "# dt as time_series operation\n",
    "%matplotlib inline\n",
    "# for display dataframe\n",
    "from IPython.display import display\n",
    "from IPython.display import display_html\n",
    "def display_side_by_side(*args):\n",
    "    html_str=''\n",
    "    for df in args:\n",
    "        html_str+=df.to_html()\n",
    "    display_html(html_str.replace('table','table style=\"display:inline\"'),raw=True)\n",
    "# ignore warning\n",
    "import warnings\n",
    "warnings.simplefilter(action='ignore', category=FutureWarning)\n",
    "warnings.simplefilter(action='ignore', category=UserWarning)\n",
    "# storage\n",
    "from google.datalab import Context\n",
    "import google.datalab.bigquery as bq\n",
    "try:\n",
    "  from StringIO import StringIO\n",
    "except ImportError:\n",
    "  from io import BytesIO as StringIO\n",
    "# ML\n",
    "from sklearn.ensemble import RandomForestClassifier\n",
    "from sklearn.model_selection import train_test_split\n",
    "from sklearn.metrics import log_loss\n",
    "import xgboost as xgb"
   ]
  },
  {
   "cell_type": "code",
   "execution_count": 2,
   "metadata": {
    "codeCollapsed": true
   },
   "outputs": [],
   "source": [
    "# square scale\n",
    "import matplotlib.scale as mscale\n",
    "import matplotlib.pyplot as plt\n",
    "import matplotlib.transforms as mtransforms\n",
    "import matplotlib.ticker as ticker\n",
    "import numpy as np\n",
    "\n",
    "class SquareRootScale(mscale.ScaleBase):\n",
    "    \"\"\"\n",
    "    ScaleBase class for generating square root scale.\n",
    "    \"\"\"\n",
    "\n",
    "    name = 'squareroot'\n",
    "\n",
    "    def __init__(self, axis, **kwargs):\n",
    "        mscale.ScaleBase.__init__(self)\n",
    "\n",
    "    def set_default_locators_and_formatters(self, axis):\n",
    "        axis.set_major_locator(ticker.AutoLocator())\n",
    "        axis.set_major_formatter(ticker.ScalarFormatter())\n",
    "        axis.set_minor_locator(ticker.NullLocator())\n",
    "        axis.set_minor_formatter(ticker.NullFormatter())\n",
    "\n",
    "    def limit_range_for_scale(self, vmin, vmax, minpos):\n",
    "        return  max(0., vmin), vmax\n",
    "\n",
    "    class SquareRootTransform(mtransforms.Transform):\n",
    "        input_dims = 1\n",
    "        output_dims = 1\n",
    "        is_separable = True\n",
    "\n",
    "        def transform_non_affine(self, a): \n",
    "            return np.array(a)**0.5\n",
    "\n",
    "        def inverted(self):\n",
    "            return SquareRootScale.InvertedSquareRootTransform()\n",
    "\n",
    "    class InvertedSquareRootTransform(mtransforms.Transform):\n",
    "        input_dims = 1\n",
    "        output_dims = 1\n",
    "        is_separable = True\n",
    "\n",
    "        def transform(self, a):\n",
    "            return np.array(a)**2\n",
    "\n",
    "        def inverted(self):\n",
    "            return SquareRootScale.SquareRootTransform()\n",
    "\n",
    "    def get_transform(self):\n",
    "        return self.SquareRootTransform()\n",
    "\n",
    "mscale.register_scale(SquareRootScale)\n",
    "'''\n",
    "fig, ax = plt.subplots(1)\n",
    "\n",
    "ax.plot(np.arange(0, 9)**2, label='$y=x^2$')\n",
    "ax.legend()\n",
    "\n",
    "ax.set_yscale('squareroot')\n",
    "ax.set_yticks(np.arange(0,9,2)**2)\n",
    "ax.set_yticks(np.arange(0,8.5,0.5)**2, minor=True)\n",
    "\n",
    "plt.show()\n",
    "''';"
   ]
  },
  {
   "cell_type": "markdown",
   "metadata": {},
   "source": [
    "# IO"
   ]
  },
  {
   "cell_type": "code",
   "execution_count": 3,
   "metadata": {},
   "outputs": [],
   "source": [
    "%gcs read --object gs://kk_data/ft_satisfaction.csv -v df_ft_satis"
   ]
  },
  {
   "cell_type": "code",
   "execution_count": null,
   "metadata": {},
   "outputs": [],
   "source": [
    "%gcs read --object gs://kk_data/ft_day_listen.csv -v df_ft_day_listen"
   ]
  },
  {
   "cell_type": "code",
   "execution_count": 4,
   "metadata": {},
   "outputs": [],
   "source": [
    "df_ft_satis = pd.read_csv(StringIO(df_ft_satis))"
   ]
  },
  {
   "cell_type": "code",
   "execution_count": 5,
   "metadata": {},
   "outputs": [],
   "source": [
    "df_ft_satis = pd.read_csv(StringIO(df_ft_satis))\n",
    "df_ft_day_listen = pd.read_csv(StringIO(df_ft_day_listen))\n",
    "df_train = pd.merge(df_ft_day_listen, df_ft_satis, how='left',on=['msno'])"
   ]
  },
  {
   "cell_type": "code",
   "execution_count": 9,
   "metadata": {},
   "outputs": [],
   "source": [
    "%gcs read --object gs://kk_data/sub_ft_satisfaction.csv -v df_sub_ft_satis"
   ]
  },
  {
   "cell_type": "code",
   "execution_count": 10,
   "metadata": {},
   "outputs": [],
   "source": [
    "%gcs read --object gs://kk_data/sub_ft_day_listen.csv -v df_sub_ft_day_listen"
   ]
  },
  {
   "cell_type": "code",
   "execution_count": 11,
   "metadata": {},
   "outputs": [],
   "source": [
    "df_sub_ft_day_listen = pd.read_csv(StringIO(df_sub_ft_day_listen))\n",
    "df_sub_ft_satis = pd.read_csv(StringIO(df_sub_ft_satis))\n",
    "df_sub = pd.merge(df_sub_ft_day_listen, df_sub_ft_satis, how='left',on=['msno'])"
   ]
  },
  {
   "cell_type": "code",
   "execution_count": 13,
   "metadata": {},
   "outputs": [],
   "source": [
    "df_sub.is_churn = np.nan"
   ]
  },
  {
   "cell_type": "code",
   "execution_count": 15,
   "metadata": {},
   "outputs": [],
   "source": [
    "%gcs read --object gs://kk_data/members_v3.csv -v members"
   ]
  },
  {
   "cell_type": "code",
   "execution_count": 16,
   "metadata": {},
   "outputs": [],
   "source": [
    "df_members =pd.read_csv(StringIO(members))"
   ]
  },
  {
   "cell_type": "code",
   "execution_count": 23,
   "metadata": {},
   "outputs": [
    {
     "name": "stdout",
     "output_type": "stream",
     "text": [
      "---------- missing value summary ----------\n"
     ]
    },
    {
     "data": {
      "text/plain": [
       "msno                        0.000000\n",
       "is_churn                    0.505845\n",
       "day_listen                  0.186747\n",
       "user_latent_satisfaction    0.186747\n",
       "city                        0.123263\n",
       "bd                          0.123263\n",
       "gender                      0.645911\n",
       "registered_via              0.123263\n",
       "registration_init_time      0.123263\n",
       "dtype: float64"
      ]
     },
     "execution_count": 23,
     "metadata": {},
     "output_type": "execute_result"
    }
   ],
   "source": [
    "df_data = df_train.append(df_sub)\n",
    "df_data = pd.merge(df_data, df_members, how='left',on=['msno'])\n",
    "gender_encode = {'male':1, 'female':2}\n",
    "df_data.gender = df_data.gender.map(gender_encode)\n",
    "# missing value \n",
    "print('-'*10,'missing value summary','-'*10)\n",
    "df_data.isnull().sum() / len(df_data)"
   ]
  },
  {
   "cell_type": "markdown",
   "metadata": {},
   "source": [
    "# registered_via"
   ]
  },
  {
   "cell_type": "code",
   "execution_count": 41,
   "metadata": {},
   "outputs": [
    {
     "data": {
      "text/plain": [
       "<matplotlib.lines.Line2D at 0x7f8011e0a2b0>"
      ]
     },
     "execution_count": 41,
     "metadata": {},
     "output_type": "execute_result"
    },
    {
     "data": {
      "image/png": "[encoded data removed]",
      "text/plain": [
       "<matplotlib.figure.Figure at 0x7f8011e98320>"
      ]
     },
     "metadata": {},
     "output_type": "display_data"
    }
   ],
   "source": [
    "# aggregate result in order to sort \n",
    "result_reg = df_data.groupby([\"registered_via\"])['is_churn'].mean().reset_index().sort_values('is_churn')\n",
    "# make plot\n",
    "fig, ax = plt.subplots(figsize=(8,6))\n",
    "sns.barplot(x='registered_via',y='is_churn',data=df_data,order=result_reg['registered_via'],ax=ax,alpha=.75)\n",
    "ax.axhline(0.049,linestyle='dashed', c='black',alpha = .3)"
   ]
  },
  {
   "cell_type": "code",
   "execution_count": 56,
   "metadata": {},
   "outputs": [],
   "source": [
    "df_data.registered_via = df_data.registered_via.fillna(-1)\n",
    "df_data.day_listen = df_data.day_listen.fillna(-1)\n",
    "df_data.user_latent_satisfaction = df_data.user_latent_satisfaction.fillna(-1)"
   ]
  },
  {
   "cell_type": "markdown",
   "metadata": {},
   "source": [
    "## Modeling"
   ]
  },
  {
   "cell_type": "code",
   "execution_count": 57,
   "metadata": {},
   "outputs": [],
   "source": [
    "def model_training_rf(training_data,testing_data):\n",
    "  # splits train and validation set\n",
    "  X = training_data.drop(labels=['msno','is_churn'],axis=1)\n",
    "  Y = training_data['is_churn']\n",
    "  X_train, X_val, Y_train, Y_val = train_test_split(X, Y, test_size=0.2,random_state = 2)\n",
    "  # Training ~ 01:45s\n",
    "  model = RandomForestClassifier(random_state=2,n_estimators=300,\n",
    "                           min_samples_split=0.05,n_jobs=-1,class_weight={0 :0.45,1 :0.55})\n",
    "  model.fit(X_train,Y_train)\n",
    "  \n",
    "  # caculating E_val\n",
    "\n",
    "  model_probs = model.predict_proba(X_val)\n",
    "    # [:,1] to show the prob to is_churn = 1\n",
    "  model_val_score = log_loss(Y_val,model_probs[:,1])\n",
    "  \n",
    "  # predict on testing set\n",
    "  model_pred_testing_set = model.predict_proba(testing_data.drop(labels=['msno','is_churn'],axis=1))\n",
    "  model_pred_testing_set = model_pred_testing_set[:,1] # take out the prob if is_churn = 1\n",
    "  submission = pd.DataFrame({\"msno\": testing_data.msno})\n",
    "  submission.insert(1,column='is_churn',value=model_pred_testing_set)\n",
    "  \n",
    "  return model, model_val_score, submission"
   ]
  },
  {
   "cell_type": "code",
   "execution_count": 54,
   "metadata": {},
   "outputs": [
    {
     "name": "stdout",
     "output_type": "stream",
     "text": [
      "Index(['msno', 'is_churn', 'day_listen', 'user_latent_satisfaction', 'city',\n",
      "       'bd', 'gender', 'registered_via', 'registration_init_time'],\n",
      "      dtype='object')\n",
      "Index(['msno', 'is_churn', 'day_listen', 'user_latent_satisfaction', 'city',\n",
      "       'bd', 'gender', 'registered_via', 'registration_init_time'],\n",
      "      dtype='object')\n"
     ]
    }
   ],
   "source": [
    "df_train, df_sub = df_data[:len(df_train)], df_data[len(df_train):]\n",
    "print(df_train.columns)\n",
    "print(df_sub.columns)\n",
    "reg_via_fts = ['msno','is_churn','day_listen','user_latent_satisfaction','registered_via']"
   ]
  },
  {
   "cell_type": "code",
   "execution_count": 58,
   "metadata": {},
   "outputs": [],
   "source": [
    "reg_via_model, reg_via_val_score,\\\n",
    "reg_via_pred = model_training_rf(df_train[reg_via_fts],df_sub[reg_via_fts])"
   ]
  },
  {
   "cell_type": "code",
   "execution_count": 74,
   "metadata": {},
   "outputs": [
    {
     "name": "stdout",
     "output_type": "stream",
     "text": [
      "day_listen + user_letent_satisfaction logloss val:  0.192158\n",
      "reg_via log_loss val:  0.167227\n",
      "-------------------- LB --------------------\n"
     ]
    }
   ],
   "source": [
    "print('day_listen + user_letent_satisfaction logloss val: ',0.192158)\n",
    "print('reg_via log_loss val: ',np.around(reg_via_val_score,decimals=6))\n",
    "print('-'*20,'LB','-'*20)"
   ]
  },
  {
   "cell_type": "code",
   "execution_count": 69,
   "metadata": {},
   "outputs": [
    {
     "data": {
      "text/plain": [
       "Text(0.5,0,'Relative Importance')"
      ]
     },
     "execution_count": 69,
     "metadata": {},
     "output_type": "execute_result"
    },
    {
     "data": {
      "image/png": "[encoded data removed]",
      "text/plain": [
       "<matplotlib.figure.Figure at 0x7f8011ee0278>"
      ]
     },
     "metadata": {},
     "output_type": "display_data"
    }
   ],
   "source": [
    "# importance --> index --> sort\n",
    "indices = np.argsort(reg_via_model.feature_importances_)[::-1]\n",
    "# plot\n",
    "g = sns.barplot(y = df_train[reg_via_fts].drop(labels=['msno','is_churn'],axis=1).columns[indices], \n",
    "                x = reg_via_model.feature_importances_[indices],\n",
    "               orient='h')\n",
    "g.set_xlabel(\"Relative Importance\", fontsize = 12)\n",
    "# g.set_ylabel(\"Features\", fontsize = 12)\n",
    "# reg_via_model.feature_importances_"
   ]
  },
  {
   "cell_type": "code",
   "execution_count": 59,
   "metadata": {},
   "outputs": [
    {
     "data": {
      "text/plain": [
       "0.16722727152951256"
      ]
     },
     "execution_count": 59,
     "metadata": {},
     "output_type": "execute_result"
    }
   ],
   "source": [
    "print(reg_via_val_score)\n",
    "df_train[reg_via_fts].drop(labels=['msno',is_churn])"
   ]
  },
  {
   "cell_type": "markdown",
   "metadata": {},
   "source": [
    "## RF feature importance"
   ]
  },
  {
   "cell_type": "code",
   "execution_count": null,
   "metadata": {},
   "outputs": [],
   "source": []
  }
 ],
 "metadata": {
  "kernelspec": {
   "display_name": "Python 3",
   "language": "python",
   "name": "python3"
  },
  "language_info": {
   "codemirror_mode": {
    "name": "ipython",
    "version": 3
   },
   "file_extension": ".py",
   "mimetype": "text/x-python",
   "name": "python",
   "nbconvert_exporter": "python",
   "pygments_lexer": "ipython3",
   "version": "3.5.5"
  }
 },
 "nbformat": 4,
 "nbformat_minor": 2
}

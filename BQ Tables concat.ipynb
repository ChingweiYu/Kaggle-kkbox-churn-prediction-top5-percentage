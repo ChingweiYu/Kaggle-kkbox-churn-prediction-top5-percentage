{
 "cells": [
  {
   "cell_type": "markdown",
   "metadata": {},
   "source": [
    "# BQ Tables concat"
   ]
  },
  {
   "cell_type": "markdown",
   "metadata": {},
   "source": [
    "* Check the tables "
   ]
  },
  {
   "cell_type": "code",
   "execution_count": 11,
   "metadata": {},
   "outputs": [
    {
     "data": {
      "text/html": [
       "<ul><li>kkbox-210108.DATASET.members</li><li>kkbox-210108.DATASET.submission</li><li>kkbox-210108.DATASET.transactions</li><li>kkbox-210108.DATASET.transactions_v2</li><li>kkbox-210108.DATASET.user_label_201703</li><li>kkbox-210108.DATASET.user_logs</li><li>kkbox-210108.DATASET.user_logs_v2</li><li>kkbox-210108.kk_Data.members</li><li>kkbox-210108.kk_Data.submission</li><li>kkbox-210108.kk_Data.transactions</li><li>kkbox-210108.kk_Data.user_label_201703</li><li>kkbox-210108.kk_Data.user_logs</li></ul>"
      ],
      "text/plain": [
       "<IPython.core.display.HTML object>"
      ]
     },
     "execution_count": 11,
     "metadata": {},
     "output_type": "execute_result"
    }
   ],
   "source": [
    "%bq tables list"
   ]
  },
  {
   "cell_type": "markdown",
   "metadata": {},
   "source": [
    "## User_logs concat\n",
    "* Check the columns"
   ]
  },
  {
   "cell_type": "code",
   "execution_count": 14,
   "metadata": {},
   "outputs": [
    {
     "data": {
      "text/html": [
       "\n",
       "    <div class=\"bqtv\" id=\"2_153711873632\"><table><tr><th>msno</th><th>date</th><th>num_25</th><th>num_50</th><th>num_75</th><th>num_985</th><th>num_100</th><th>num_unq</th><th>total_secs</th></tr><tr><td>8nSyuVdv8qR4aHr1hUx1FXoIuxpZluW+kR/d0ounuYA=</td><td>20160512</td><td>24</td><td>2</td><td>1</td><td>1</td><td>53</td><td>61</td><td>15019.365</td></tr><tr><td>d2GtIMHD45Ri5/Ksa86X4FYWCZMM3fZ4WRDKjbhp15A=</td><td>20160205</td><td>81</td><td>2</td><td>4</td><td>3</td><td>34</td><td>74</td><td>9600.676</td></tr><tr><td>d2GtIMHD45Ri5/Ksa86X4FYWCZMM3fZ4WRDKjbhp15A=</td><td>20161124</td><td>37</td><td>4</td><td>4</td><td>2</td><td>48</td><td>83</td><td>12778.431</td></tr><tr><td>d2GtIMHD45Ri5/Ksa86X4FYWCZMM3fZ4WRDKjbhp15A=</td><td>20170114</td><td>113</td><td>22</td><td>8</td><td>3</td><td>40</td><td>163</td><td>14347.198</td></tr><tr><td>kb3qHtlz+K4Ume8TF4FQi9xwrTZqzFFvBDZsdYvyQ0A=</td><td>20161217</td><td>32</td><td>1</td><td>0</td><td>1</td><td>30</td><td>58</td><td>7391.719</td></tr><tr><td>B/eZk3P+A98+vport4EL6KBRhYiioS+F1uVJSGmAUGw=</td><td>20150720</td><td>22</td><td>2</td><td>0</td><td>2</td><td>38</td><td>52</td><td>10062.741</td></tr><tr><td>ysLUp9Ebqx3RrCNmZAOSmyW7kDZQafvyg7+Ge6lbG3Y=</td><td>20150717</td><td>38</td><td>6</td><td>5</td><td>4</td><td>66</td><td>87</td><td>20265.215</td></tr><tr><td>ysLUp9Ebqx3RrCNmZAOSmyW7kDZQafvyg7+Ge6lbG3Y=</td><td>20160318</td><td>36</td><td>4</td><td>2</td><td>4</td><td>97</td><td>61</td><td>24174.545</td></tr><tr><td>65MC0qTNLb/tG6fPv0IN7AzLqma4IkDHe1SEB8TedA8=</td><td>20150411</td><td>42</td><td>24</td><td>13</td><td>6</td><td>85</td><td>131</td><td>26109.762</td></tr><tr><td>aDyAkp8ZPYJUAVISQZ9oe1/2Ub1iDbq1Z9B6lBaTGRk=</td><td>20150107</td><td>23</td><td>12</td><td>3</td><td>7</td><td>60</td><td>90</td><td>19544.564</td></tr><tr><td>hXBw2UrphMglzTCevQhiO3MxweaxWheKbUy63y9L1KU=</td><td>20160725</td><td>25</td><td>8</td><td>2</td><td>6</td><td>27</td><td>52</td><td>8100.914</td></tr><tr><td>SaDQjFXhE3OTKa4nphNdFUTGXHz4CnvamDimkIlu+iE=</td><td>20151230</td><td>24</td><td>2</td><td>2</td><td>2</td><td>141</td><td>148</td><td>37411.15</td></tr><tr><td>SaDQjFXhE3OTKa4nphNdFUTGXHz4CnvamDimkIlu+iE=</td><td>20160222</td><td>31</td><td>3</td><td>4</td><td>0</td><td>97</td><td>125</td><td>26303.642</td></tr><tr><td>SaDQjFXhE3OTKa4nphNdFUTGXHz4CnvamDimkIlu+iE=</td><td>20160418</td><td>43</td><td>5</td><td>1</td><td>2</td><td>63</td><td>101</td><td>17315.789</td></tr><tr><td>3UVpd9pHoKk8oMIIrTqKaoOasIH2iQFLboGZJvAzwKY=</td><td>20160408</td><td>25</td><td>4</td><td>3</td><td>8</td><td>35</td><td>65</td><td>12209.435</td></tr><tr><td>xo1owQF/ASAxQQytAwHxoWBdQTDAw9123LZ/mEG1SG4=</td><td>20170215</td><td>22</td><td>2</td><td>4</td><td>1</td><td>38</td><td>52</td><td>11012.843</td></tr><tr><td>NhQeRGDNlefA7sIPQOWdZtToftl1sG6fyVfwccXwGdE=</td><td>20150704</td><td>45</td><td>15</td><td>4</td><td>5</td><td>18</td><td>72</td><td>7911.527</td></tr><tr><td>yOphCa1K43qe9z2shmdjutvB6gRfpbdrifCh1U7Vz/M=</td><td>20150509</td><td>40</td><td>1</td><td>0</td><td>1</td><td>35</td><td>55</td><td>9400.082</td></tr><tr><td>yOphCa1K43qe9z2shmdjutvB6gRfpbdrifCh1U7Vz/M=</td><td>20151025</td><td>44</td><td>1</td><td>0</td><td>3</td><td>58</td><td>78</td><td>13128.114</td></tr><tr><td>yOphCa1K43qe9z2shmdjutvB6gRfpbdrifCh1U7Vz/M=</td><td>20151217</td><td>47</td><td>1</td><td>0</td><td>2</td><td>71</td><td>107</td><td>18339.627</td></tr><tr><td>7iriLc53KWyBF37EDWD/B11T84G6jt6B1c5PH8YUnh4=</td><td>20150308</td><td>25</td><td>3</td><td>2</td><td>4</td><td>156</td><td>172</td><td>36691.133</td></tr><tr><td>7iriLc53KWyBF37EDWD/B11T84G6jt6B1c5PH8YUnh4=</td><td>20151130</td><td>63</td><td>19</td><td>13</td><td>11</td><td>175</td><td>152</td><td>47000.279</td></tr><tr><td>7iriLc53KWyBF37EDWD/B11T84G6jt6B1c5PH8YUnh4=</td><td>20160119</td><td>64</td><td>14</td><td>7</td><td>5</td><td>44</td><td>104</td><td>14209.987</td></tr><tr><td>Kc9QWnnfaRtAy6n+LhHckLMHbXYRm0pr/BKFhCM+f58=</td><td>20150208</td><td>30</td><td>7</td><td>4</td><td>4</td><td>35</td><td>59</td><td>11942.761</td></tr><tr><td>Kc9QWnnfaRtAy6n+LhHckLMHbXYRm0pr/BKFhCM+f58=</td><td>20170128</td><td>101</td><td>12</td><td>9</td><td>3</td><td>19</td><td>94</td><td>9082.138</td></tr></table></div>\n",
       "    <br />(rows: 392106543, kkbox-210108.DATASET.user_logs)<br />\n",
       "    <script src=\"/static/components/requirejs/require.js\"></script>\n",
       "    <script>\n",
       "      require.config({\n",
       "        paths: {\n",
       "          base: '/static/base',\n",
       "          d3: '//cdnjs.cloudflare.com/ajax/libs/d3/3.4.13/d3',\n",
       "          plotly: 'https://cdn.plot.ly/plotly-1.5.1.min.js?noext',\n",
       "          jquery: '//ajax.googleapis.com/ajax/libs/jquery/2.0.0/jquery.min'\n",
       "        },\n",
       "        map: {\n",
       "          '*': {\n",
       "            datalab: 'nbextensions/gcpdatalab'\n",
       "          }\n",
       "        },\n",
       "        shim: {\n",
       "          plotly: {\n",
       "            deps: ['d3', 'jquery'],\n",
       "            exports: 'plotly'\n",
       "          }\n",
       "        }\n",
       "      });\n",
       "\n",
       "      require(['datalab/charting', 'datalab/element!2_153711873632', 'base/js/events',\n",
       "          'datalab/style!/nbextensions/gcpdatalab/charting.css'],\n",
       "        function(charts, dom, events) {\n",
       "          charts.render('gcharts', dom, events, 'paged_table', [], {\"rows\": [{\"c\": [{\"v\": \"8nSyuVdv8qR4aHr1hUx1FXoIuxpZluW+kR/d0ounuYA=\"}, {\"v\": 20160512}, {\"v\": 24}, {\"v\": 2}, {\"v\": 1}, {\"v\": 1}, {\"v\": 53}, {\"v\": 61}, {\"v\": 15019.365}]}, {\"c\": [{\"v\": \"d2GtIMHD45Ri5/Ksa86X4FYWCZMM3fZ4WRDKjbhp15A=\"}, {\"v\": 20160205}, {\"v\": 81}, {\"v\": 2}, {\"v\": 4}, {\"v\": 3}, {\"v\": 34}, {\"v\": 74}, {\"v\": 9600.676}]}, {\"c\": [{\"v\": \"d2GtIMHD45Ri5/Ksa86X4FYWCZMM3fZ4WRDKjbhp15A=\"}, {\"v\": 20161124}, {\"v\": 37}, {\"v\": 4}, {\"v\": 4}, {\"v\": 2}, {\"v\": 48}, {\"v\": 83}, {\"v\": 12778.431}]}, {\"c\": [{\"v\": \"d2GtIMHD45Ri5/Ksa86X4FYWCZMM3fZ4WRDKjbhp15A=\"}, {\"v\": 20170114}, {\"v\": 113}, {\"v\": 22}, {\"v\": 8}, {\"v\": 3}, {\"v\": 40}, {\"v\": 163}, {\"v\": 14347.198}]}, {\"c\": [{\"v\": \"kb3qHtlz+K4Ume8TF4FQi9xwrTZqzFFvBDZsdYvyQ0A=\"}, {\"v\": 20161217}, {\"v\": 32}, {\"v\": 1}, {\"v\": 0}, {\"v\": 1}, {\"v\": 30}, {\"v\": 58}, {\"v\": 7391.719}]}, {\"c\": [{\"v\": \"B/eZk3P+A98+vport4EL6KBRhYiioS+F1uVJSGmAUGw=\"}, {\"v\": 20150720}, {\"v\": 22}, {\"v\": 2}, {\"v\": 0}, {\"v\": 2}, {\"v\": 38}, {\"v\": 52}, {\"v\": 10062.741}]}, {\"c\": [{\"v\": \"ysLUp9Ebqx3RrCNmZAOSmyW7kDZQafvyg7+Ge6lbG3Y=\"}, {\"v\": 20150717}, {\"v\": 38}, {\"v\": 6}, {\"v\": 5}, {\"v\": 4}, {\"v\": 66}, {\"v\": 87}, {\"v\": 20265.215}]}, {\"c\": [{\"v\": \"ysLUp9Ebqx3RrCNmZAOSmyW7kDZQafvyg7+Ge6lbG3Y=\"}, {\"v\": 20160318}, {\"v\": 36}, {\"v\": 4}, {\"v\": 2}, {\"v\": 4}, {\"v\": 97}, {\"v\": 61}, {\"v\": 24174.545}]}, {\"c\": [{\"v\": \"65MC0qTNLb/tG6fPv0IN7AzLqma4IkDHe1SEB8TedA8=\"}, {\"v\": 20150411}, {\"v\": 42}, {\"v\": 24}, {\"v\": 13}, {\"v\": 6}, {\"v\": 85}, {\"v\": 131}, {\"v\": 26109.762}]}, {\"c\": [{\"v\": \"aDyAkp8ZPYJUAVISQZ9oe1/2Ub1iDbq1Z9B6lBaTGRk=\"}, {\"v\": 20150107}, {\"v\": 23}, {\"v\": 12}, {\"v\": 3}, {\"v\": 7}, {\"v\": 60}, {\"v\": 90}, {\"v\": 19544.564}]}, {\"c\": [{\"v\": \"hXBw2UrphMglzTCevQhiO3MxweaxWheKbUy63y9L1KU=\"}, {\"v\": 20160725}, {\"v\": 25}, {\"v\": 8}, {\"v\": 2}, {\"v\": 6}, {\"v\": 27}, {\"v\": 52}, {\"v\": 8100.914}]}, {\"c\": [{\"v\": \"SaDQjFXhE3OTKa4nphNdFUTGXHz4CnvamDimkIlu+iE=\"}, {\"v\": 20151230}, {\"v\": 24}, {\"v\": 2}, {\"v\": 2}, {\"v\": 2}, {\"v\": 141}, {\"v\": 148}, {\"v\": 37411.15}]}, {\"c\": [{\"v\": \"SaDQjFXhE3OTKa4nphNdFUTGXHz4CnvamDimkIlu+iE=\"}, {\"v\": 20160222}, {\"v\": 31}, {\"v\": 3}, {\"v\": 4}, {\"v\": 0}, {\"v\": 97}, {\"v\": 125}, {\"v\": 26303.642}]}, {\"c\": [{\"v\": \"SaDQjFXhE3OTKa4nphNdFUTGXHz4CnvamDimkIlu+iE=\"}, {\"v\": 20160418}, {\"v\": 43}, {\"v\": 5}, {\"v\": 1}, {\"v\": 2}, {\"v\": 63}, {\"v\": 101}, {\"v\": 17315.789}]}, {\"c\": [{\"v\": \"3UVpd9pHoKk8oMIIrTqKaoOasIH2iQFLboGZJvAzwKY=\"}, {\"v\": 20160408}, {\"v\": 25}, {\"v\": 4}, {\"v\": 3}, {\"v\": 8}, {\"v\": 35}, {\"v\": 65}, {\"v\": 12209.435}]}, {\"c\": [{\"v\": \"xo1owQF/ASAxQQytAwHxoWBdQTDAw9123LZ/mEG1SG4=\"}, {\"v\": 20170215}, {\"v\": 22}, {\"v\": 2}, {\"v\": 4}, {\"v\": 1}, {\"v\": 38}, {\"v\": 52}, {\"v\": 11012.843}]}, {\"c\": [{\"v\": \"NhQeRGDNlefA7sIPQOWdZtToftl1sG6fyVfwccXwGdE=\"}, {\"v\": 20150704}, {\"v\": 45}, {\"v\": 15}, {\"v\": 4}, {\"v\": 5}, {\"v\": 18}, {\"v\": 72}, {\"v\": 7911.527}]}, {\"c\": [{\"v\": \"yOphCa1K43qe9z2shmdjutvB6gRfpbdrifCh1U7Vz/M=\"}, {\"v\": 20150509}, {\"v\": 40}, {\"v\": 1}, {\"v\": 0}, {\"v\": 1}, {\"v\": 35}, {\"v\": 55}, {\"v\": 9400.082}]}, {\"c\": [{\"v\": \"yOphCa1K43qe9z2shmdjutvB6gRfpbdrifCh1U7Vz/M=\"}, {\"v\": 20151025}, {\"v\": 44}, {\"v\": 1}, {\"v\": 0}, {\"v\": 3}, {\"v\": 58}, {\"v\": 78}, {\"v\": 13128.114}]}, {\"c\": [{\"v\": \"yOphCa1K43qe9z2shmdjutvB6gRfpbdrifCh1U7Vz/M=\"}, {\"v\": 20151217}, {\"v\": 47}, {\"v\": 1}, {\"v\": 0}, {\"v\": 2}, {\"v\": 71}, {\"v\": 107}, {\"v\": 18339.627}]}, {\"c\": [{\"v\": \"7iriLc53KWyBF37EDWD/B11T84G6jt6B1c5PH8YUnh4=\"}, {\"v\": 20150308}, {\"v\": 25}, {\"v\": 3}, {\"v\": 2}, {\"v\": 4}, {\"v\": 156}, {\"v\": 172}, {\"v\": 36691.133}]}, {\"c\": [{\"v\": \"7iriLc53KWyBF37EDWD/B11T84G6jt6B1c5PH8YUnh4=\"}, {\"v\": 20151130}, {\"v\": 63}, {\"v\": 19}, {\"v\": 13}, {\"v\": 11}, {\"v\": 175}, {\"v\": 152}, {\"v\": 47000.279}]}, {\"c\": [{\"v\": \"7iriLc53KWyBF37EDWD/B11T84G6jt6B1c5PH8YUnh4=\"}, {\"v\": 20160119}, {\"v\": 64}, {\"v\": 14}, {\"v\": 7}, {\"v\": 5}, {\"v\": 44}, {\"v\": 104}, {\"v\": 14209.987}]}, {\"c\": [{\"v\": \"Kc9QWnnfaRtAy6n+LhHckLMHbXYRm0pr/BKFhCM+f58=\"}, {\"v\": 20150208}, {\"v\": 30}, {\"v\": 7}, {\"v\": 4}, {\"v\": 4}, {\"v\": 35}, {\"v\": 59}, {\"v\": 11942.761}]}, {\"c\": [{\"v\": \"Kc9QWnnfaRtAy6n+LhHckLMHbXYRm0pr/BKFhCM+f58=\"}, {\"v\": 20170128}, {\"v\": 101}, {\"v\": 12}, {\"v\": 9}, {\"v\": 3}, {\"v\": 19}, {\"v\": 94}, {\"v\": 9082.138}]}], \"cols\": [{\"type\": \"string\", \"id\": \"msno\", \"label\": \"msno\"}, {\"type\": \"number\", \"id\": \"date\", \"label\": \"date\"}, {\"type\": \"number\", \"id\": \"num_25\", \"label\": \"num_25\"}, {\"type\": \"number\", \"id\": \"num_50\", \"label\": \"num_50\"}, {\"type\": \"number\", \"id\": \"num_75\", \"label\": \"num_75\"}, {\"type\": \"number\", \"id\": \"num_985\", \"label\": \"num_985\"}, {\"type\": \"number\", \"id\": \"num_100\", \"label\": \"num_100\"}, {\"type\": \"number\", \"id\": \"num_unq\", \"label\": \"num_unq\"}, {\"type\": \"number\", \"id\": \"total_secs\", \"label\": \"total_secs\"}]},\n",
       "            {\n",
       "              pageSize: 25,\n",
       "              cssClassNames:  {\n",
       "                tableRow: 'gchart-table-row',\n",
       "                headerRow: 'gchart-table-headerrow',\n",
       "                oddTableRow: 'gchart-table-oddrow',\n",
       "                selectedTableRow: 'gchart-table-selectedrow',\n",
       "                hoverTableRow: 'gchart-table-hoverrow',\n",
       "                tableCell: 'gchart-table-cell',\n",
       "                headerCell: 'gchart-table-headercell',\n",
       "                rowNumberCell: 'gchart-table-rownumcell'\n",
       "              }\n",
       "            },\n",
       "            {source_index: 1, fields: 'msno,date,num_25,num_50,num_75,num_985,num_100,num_unq,total_secs'},\n",
       "            0,\n",
       "            392106543);\n",
       "        }\n",
       "      );\n",
       "    </script>\n",
       "  "
      ],
      "text/plain": [
       "BigQuery Table - name: kkbox-210108.DATASET.user_logs"
      ]
     },
     "execution_count": 14,
     "metadata": {},
     "output_type": "execute_result"
    }
   ],
   "source": [
    "%bq tables view -n kkbox-210108.DATASET.user_logs"
   ]
  },
  {
   "cell_type": "markdown",
   "metadata": {},
   "source": [
    "* Insert using DML Syntax"
   ]
  },
  {
   "cell_type": "code",
   "execution_count": 15,
   "metadata": {},
   "outputs": [],
   "source": [
    "%bq query -n Concat\n",
    "INSERT DATASET.user_logs (msno, date, num_25, num_50, num_75,num_985, num_100, num_unq, total_secs)\n",
    "SELECT msno, date, num_25, num_50, num_75,num_985, num_100, num_unq, total_secs\n",
    "FROM `kkbox-210108.DATASET.user_logs_v2`"
   ]
  },
  {
   "cell_type": "markdown",
   "metadata": {},
   "source": [
    "* Perform a drurun"
   ]
  },
  {
   "cell_type": "code",
   "execution_count": 19,
   "metadata": {},
   "outputs": [
    {
     "data": {
      "text/html": [
       "\n",
       "    <p>Dry run information:     2GB to process, results not cached</p>\n",
       "    "
      ],
      "text/plain": [
       "<google.datalab.bigquery._query_stats.QueryStats at 0x7fa057103cd0>"
      ]
     },
     "execution_count": 19,
     "metadata": {},
     "output_type": "execute_result"
    }
   ],
   "source": [
    "%bq dryrun -q Concat"
   ]
  },
  {
   "cell_type": "markdown",
   "metadata": {},
   "source": [
    "* Execute"
   ]
  },
  {
   "cell_type": "code",
   "execution_count": 20,
   "metadata": {},
   "outputs": [
    {
     "data": {
      "text/html": [
       "\n",
       "    <div class=\"bqtv\" id=\"3_153711895274\"><table><tr><th>msno</th><th>date</th><th>num_25</th><th>num_50</th><th>num_75</th><th>num_985</th><th>num_100</th><th>num_unq</th><th>total_secs</th></tr><tr><td>8nSyuVdv8qR4aHr1hUx1FXoIuxpZluW+kR/d0ounuYA=</td><td>20160512</td><td>24</td><td>2</td><td>1</td><td>1</td><td>53</td><td>61</td><td>15019.365</td></tr><tr><td>d2GtIMHD45Ri5/Ksa86X4FYWCZMM3fZ4WRDKjbhp15A=</td><td>20160205</td><td>81</td><td>2</td><td>4</td><td>3</td><td>34</td><td>74</td><td>9600.676</td></tr><tr><td>d2GtIMHD45Ri5/Ksa86X4FYWCZMM3fZ4WRDKjbhp15A=</td><td>20161124</td><td>37</td><td>4</td><td>4</td><td>2</td><td>48</td><td>83</td><td>12778.431</td></tr><tr><td>d2GtIMHD45Ri5/Ksa86X4FYWCZMM3fZ4WRDKjbhp15A=</td><td>20170114</td><td>113</td><td>22</td><td>8</td><td>3</td><td>40</td><td>163</td><td>14347.198</td></tr><tr><td>kb3qHtlz+K4Ume8TF4FQi9xwrTZqzFFvBDZsdYvyQ0A=</td><td>20161217</td><td>32</td><td>1</td><td>0</td><td>1</td><td>30</td><td>58</td><td>7391.719</td></tr><tr><td>B/eZk3P+A98+vport4EL6KBRhYiioS+F1uVJSGmAUGw=</td><td>20150720</td><td>22</td><td>2</td><td>0</td><td>2</td><td>38</td><td>52</td><td>10062.741</td></tr><tr><td>ysLUp9Ebqx3RrCNmZAOSmyW7kDZQafvyg7+Ge6lbG3Y=</td><td>20150717</td><td>38</td><td>6</td><td>5</td><td>4</td><td>66</td><td>87</td><td>20265.215</td></tr><tr><td>ysLUp9Ebqx3RrCNmZAOSmyW7kDZQafvyg7+Ge6lbG3Y=</td><td>20160318</td><td>36</td><td>4</td><td>2</td><td>4</td><td>97</td><td>61</td><td>24174.545</td></tr><tr><td>65MC0qTNLb/tG6fPv0IN7AzLqma4IkDHe1SEB8TedA8=</td><td>20150411</td><td>42</td><td>24</td><td>13</td><td>6</td><td>85</td><td>131</td><td>26109.762</td></tr><tr><td>aDyAkp8ZPYJUAVISQZ9oe1/2Ub1iDbq1Z9B6lBaTGRk=</td><td>20150107</td><td>23</td><td>12</td><td>3</td><td>7</td><td>60</td><td>90</td><td>19544.564</td></tr><tr><td>hXBw2UrphMglzTCevQhiO3MxweaxWheKbUy63y9L1KU=</td><td>20160725</td><td>25</td><td>8</td><td>2</td><td>6</td><td>27</td><td>52</td><td>8100.914</td></tr><tr><td>SaDQjFXhE3OTKa4nphNdFUTGXHz4CnvamDimkIlu+iE=</td><td>20151230</td><td>24</td><td>2</td><td>2</td><td>2</td><td>141</td><td>148</td><td>37411.15</td></tr><tr><td>SaDQjFXhE3OTKa4nphNdFUTGXHz4CnvamDimkIlu+iE=</td><td>20160222</td><td>31</td><td>3</td><td>4</td><td>0</td><td>97</td><td>125</td><td>26303.642</td></tr><tr><td>SaDQjFXhE3OTKa4nphNdFUTGXHz4CnvamDimkIlu+iE=</td><td>20160418</td><td>43</td><td>5</td><td>1</td><td>2</td><td>63</td><td>101</td><td>17315.789</td></tr><tr><td>3UVpd9pHoKk8oMIIrTqKaoOasIH2iQFLboGZJvAzwKY=</td><td>20160408</td><td>25</td><td>4</td><td>3</td><td>8</td><td>35</td><td>65</td><td>12209.435</td></tr><tr><td>xo1owQF/ASAxQQytAwHxoWBdQTDAw9123LZ/mEG1SG4=</td><td>20170215</td><td>22</td><td>2</td><td>4</td><td>1</td><td>38</td><td>52</td><td>11012.843</td></tr><tr><td>NhQeRGDNlefA7sIPQOWdZtToftl1sG6fyVfwccXwGdE=</td><td>20150704</td><td>45</td><td>15</td><td>4</td><td>5</td><td>18</td><td>72</td><td>7911.527</td></tr><tr><td>yOphCa1K43qe9z2shmdjutvB6gRfpbdrifCh1U7Vz/M=</td><td>20150509</td><td>40</td><td>1</td><td>0</td><td>1</td><td>35</td><td>55</td><td>9400.082</td></tr><tr><td>yOphCa1K43qe9z2shmdjutvB6gRfpbdrifCh1U7Vz/M=</td><td>20151025</td><td>44</td><td>1</td><td>0</td><td>3</td><td>58</td><td>78</td><td>13128.114</td></tr><tr><td>yOphCa1K43qe9z2shmdjutvB6gRfpbdrifCh1U7Vz/M=</td><td>20151217</td><td>47</td><td>1</td><td>0</td><td>2</td><td>71</td><td>107</td><td>18339.627</td></tr><tr><td>7iriLc53KWyBF37EDWD/B11T84G6jt6B1c5PH8YUnh4=</td><td>20150308</td><td>25</td><td>3</td><td>2</td><td>4</td><td>156</td><td>172</td><td>36691.133</td></tr><tr><td>7iriLc53KWyBF37EDWD/B11T84G6jt6B1c5PH8YUnh4=</td><td>20151130</td><td>63</td><td>19</td><td>13</td><td>11</td><td>175</td><td>152</td><td>47000.279</td></tr><tr><td>7iriLc53KWyBF37EDWD/B11T84G6jt6B1c5PH8YUnh4=</td><td>20160119</td><td>64</td><td>14</td><td>7</td><td>5</td><td>44</td><td>104</td><td>14209.987</td></tr><tr><td>Kc9QWnnfaRtAy6n+LhHckLMHbXYRm0pr/BKFhCM+f58=</td><td>20150208</td><td>30</td><td>7</td><td>4</td><td>4</td><td>35</td><td>59</td><td>11942.761</td></tr><tr><td>Kc9QWnnfaRtAy6n+LhHckLMHbXYRm0pr/BKFhCM+f58=</td><td>20170128</td><td>101</td><td>12</td><td>9</td><td>3</td><td>19</td><td>94</td><td>9082.138</td></tr></table></div>\n",
       "    <br />(rows: 410502905, time: 51.7s,     2GB processed, job: job_IIv0YLBeypUb8cvtkRhNJLq4uumc)<br />\n",
       "    <script src=\"/static/components/requirejs/require.js\"></script>\n",
       "    <script>\n",
       "      require.config({\n",
       "        paths: {\n",
       "          base: '/static/base',\n",
       "          d3: '//cdnjs.cloudflare.com/ajax/libs/d3/3.4.13/d3',\n",
       "          plotly: 'https://cdn.plot.ly/plotly-1.5.1.min.js?noext',\n",
       "          jquery: '//ajax.googleapis.com/ajax/libs/jquery/2.0.0/jquery.min'\n",
       "        },\n",
       "        map: {\n",
       "          '*': {\n",
       "            datalab: 'nbextensions/gcpdatalab'\n",
       "          }\n",
       "        },\n",
       "        shim: {\n",
       "          plotly: {\n",
       "            deps: ['d3', 'jquery'],\n",
       "            exports: 'plotly'\n",
       "          }\n",
       "        }\n",
       "      });\n",
       "\n",
       "      require(['datalab/charting', 'datalab/element!3_153711895274', 'base/js/events',\n",
       "          'datalab/style!/nbextensions/gcpdatalab/charting.css'],\n",
       "        function(charts, dom, events) {\n",
       "          charts.render('gcharts', dom, events, 'paged_table', [], {\"rows\": [{\"c\": [{\"v\": \"8nSyuVdv8qR4aHr1hUx1FXoIuxpZluW+kR/d0ounuYA=\"}, {\"v\": 20160512}, {\"v\": 24}, {\"v\": 2}, {\"v\": 1}, {\"v\": 1}, {\"v\": 53}, {\"v\": 61}, {\"v\": 15019.365}]}, {\"c\": [{\"v\": \"d2GtIMHD45Ri5/Ksa86X4FYWCZMM3fZ4WRDKjbhp15A=\"}, {\"v\": 20160205}, {\"v\": 81}, {\"v\": 2}, {\"v\": 4}, {\"v\": 3}, {\"v\": 34}, {\"v\": 74}, {\"v\": 9600.676}]}, {\"c\": [{\"v\": \"d2GtIMHD45Ri5/Ksa86X4FYWCZMM3fZ4WRDKjbhp15A=\"}, {\"v\": 20161124}, {\"v\": 37}, {\"v\": 4}, {\"v\": 4}, {\"v\": 2}, {\"v\": 48}, {\"v\": 83}, {\"v\": 12778.431}]}, {\"c\": [{\"v\": \"d2GtIMHD45Ri5/Ksa86X4FYWCZMM3fZ4WRDKjbhp15A=\"}, {\"v\": 20170114}, {\"v\": 113}, {\"v\": 22}, {\"v\": 8}, {\"v\": 3}, {\"v\": 40}, {\"v\": 163}, {\"v\": 14347.198}]}, {\"c\": [{\"v\": \"kb3qHtlz+K4Ume8TF4FQi9xwrTZqzFFvBDZsdYvyQ0A=\"}, {\"v\": 20161217}, {\"v\": 32}, {\"v\": 1}, {\"v\": 0}, {\"v\": 1}, {\"v\": 30}, {\"v\": 58}, {\"v\": 7391.719}]}, {\"c\": [{\"v\": \"B/eZk3P+A98+vport4EL6KBRhYiioS+F1uVJSGmAUGw=\"}, {\"v\": 20150720}, {\"v\": 22}, {\"v\": 2}, {\"v\": 0}, {\"v\": 2}, {\"v\": 38}, {\"v\": 52}, {\"v\": 10062.741}]}, {\"c\": [{\"v\": \"ysLUp9Ebqx3RrCNmZAOSmyW7kDZQafvyg7+Ge6lbG3Y=\"}, {\"v\": 20150717}, {\"v\": 38}, {\"v\": 6}, {\"v\": 5}, {\"v\": 4}, {\"v\": 66}, {\"v\": 87}, {\"v\": 20265.215}]}, {\"c\": [{\"v\": \"ysLUp9Ebqx3RrCNmZAOSmyW7kDZQafvyg7+Ge6lbG3Y=\"}, {\"v\": 20160318}, {\"v\": 36}, {\"v\": 4}, {\"v\": 2}, {\"v\": 4}, {\"v\": 97}, {\"v\": 61}, {\"v\": 24174.545}]}, {\"c\": [{\"v\": \"65MC0qTNLb/tG6fPv0IN7AzLqma4IkDHe1SEB8TedA8=\"}, {\"v\": 20150411}, {\"v\": 42}, {\"v\": 24}, {\"v\": 13}, {\"v\": 6}, {\"v\": 85}, {\"v\": 131}, {\"v\": 26109.762}]}, {\"c\": [{\"v\": \"aDyAkp8ZPYJUAVISQZ9oe1/2Ub1iDbq1Z9B6lBaTGRk=\"}, {\"v\": 20150107}, {\"v\": 23}, {\"v\": 12}, {\"v\": 3}, {\"v\": 7}, {\"v\": 60}, {\"v\": 90}, {\"v\": 19544.564}]}, {\"c\": [{\"v\": \"hXBw2UrphMglzTCevQhiO3MxweaxWheKbUy63y9L1KU=\"}, {\"v\": 20160725}, {\"v\": 25}, {\"v\": 8}, {\"v\": 2}, {\"v\": 6}, {\"v\": 27}, {\"v\": 52}, {\"v\": 8100.914}]}, {\"c\": [{\"v\": \"SaDQjFXhE3OTKa4nphNdFUTGXHz4CnvamDimkIlu+iE=\"}, {\"v\": 20151230}, {\"v\": 24}, {\"v\": 2}, {\"v\": 2}, {\"v\": 2}, {\"v\": 141}, {\"v\": 148}, {\"v\": 37411.15}]}, {\"c\": [{\"v\": \"SaDQjFXhE3OTKa4nphNdFUTGXHz4CnvamDimkIlu+iE=\"}, {\"v\": 20160222}, {\"v\": 31}, {\"v\": 3}, {\"v\": 4}, {\"v\": 0}, {\"v\": 97}, {\"v\": 125}, {\"v\": 26303.642}]}, {\"c\": [{\"v\": \"SaDQjFXhE3OTKa4nphNdFUTGXHz4CnvamDimkIlu+iE=\"}, {\"v\": 20160418}, {\"v\": 43}, {\"v\": 5}, {\"v\": 1}, {\"v\": 2}, {\"v\": 63}, {\"v\": 101}, {\"v\": 17315.789}]}, {\"c\": [{\"v\": \"3UVpd9pHoKk8oMIIrTqKaoOasIH2iQFLboGZJvAzwKY=\"}, {\"v\": 20160408}, {\"v\": 25}, {\"v\": 4}, {\"v\": 3}, {\"v\": 8}, {\"v\": 35}, {\"v\": 65}, {\"v\": 12209.435}]}, {\"c\": [{\"v\": \"xo1owQF/ASAxQQytAwHxoWBdQTDAw9123LZ/mEG1SG4=\"}, {\"v\": 20170215}, {\"v\": 22}, {\"v\": 2}, {\"v\": 4}, {\"v\": 1}, {\"v\": 38}, {\"v\": 52}, {\"v\": 11012.843}]}, {\"c\": [{\"v\": \"NhQeRGDNlefA7sIPQOWdZtToftl1sG6fyVfwccXwGdE=\"}, {\"v\": 20150704}, {\"v\": 45}, {\"v\": 15}, {\"v\": 4}, {\"v\": 5}, {\"v\": 18}, {\"v\": 72}, {\"v\": 7911.527}]}, {\"c\": [{\"v\": \"yOphCa1K43qe9z2shmdjutvB6gRfpbdrifCh1U7Vz/M=\"}, {\"v\": 20150509}, {\"v\": 40}, {\"v\": 1}, {\"v\": 0}, {\"v\": 1}, {\"v\": 35}, {\"v\": 55}, {\"v\": 9400.082}]}, {\"c\": [{\"v\": \"yOphCa1K43qe9z2shmdjutvB6gRfpbdrifCh1U7Vz/M=\"}, {\"v\": 20151025}, {\"v\": 44}, {\"v\": 1}, {\"v\": 0}, {\"v\": 3}, {\"v\": 58}, {\"v\": 78}, {\"v\": 13128.114}]}, {\"c\": [{\"v\": \"yOphCa1K43qe9z2shmdjutvB6gRfpbdrifCh1U7Vz/M=\"}, {\"v\": 20151217}, {\"v\": 47}, {\"v\": 1}, {\"v\": 0}, {\"v\": 2}, {\"v\": 71}, {\"v\": 107}, {\"v\": 18339.627}]}, {\"c\": [{\"v\": \"7iriLc53KWyBF37EDWD/B11T84G6jt6B1c5PH8YUnh4=\"}, {\"v\": 20150308}, {\"v\": 25}, {\"v\": 3}, {\"v\": 2}, {\"v\": 4}, {\"v\": 156}, {\"v\": 172}, {\"v\": 36691.133}]}, {\"c\": [{\"v\": \"7iriLc53KWyBF37EDWD/B11T84G6jt6B1c5PH8YUnh4=\"}, {\"v\": 20151130}, {\"v\": 63}, {\"v\": 19}, {\"v\": 13}, {\"v\": 11}, {\"v\": 175}, {\"v\": 152}, {\"v\": 47000.279}]}, {\"c\": [{\"v\": \"7iriLc53KWyBF37EDWD/B11T84G6jt6B1c5PH8YUnh4=\"}, {\"v\": 20160119}, {\"v\": 64}, {\"v\": 14}, {\"v\": 7}, {\"v\": 5}, {\"v\": 44}, {\"v\": 104}, {\"v\": 14209.987}]}, {\"c\": [{\"v\": \"Kc9QWnnfaRtAy6n+LhHckLMHbXYRm0pr/BKFhCM+f58=\"}, {\"v\": 20150208}, {\"v\": 30}, {\"v\": 7}, {\"v\": 4}, {\"v\": 4}, {\"v\": 35}, {\"v\": 59}, {\"v\": 11942.761}]}, {\"c\": [{\"v\": \"Kc9QWnnfaRtAy6n+LhHckLMHbXYRm0pr/BKFhCM+f58=\"}, {\"v\": 20170128}, {\"v\": 101}, {\"v\": 12}, {\"v\": 9}, {\"v\": 3}, {\"v\": 19}, {\"v\": 94}, {\"v\": 9082.138}]}], \"cols\": [{\"type\": \"string\", \"id\": \"msno\", \"label\": \"msno\"}, {\"type\": \"number\", \"id\": \"date\", \"label\": \"date\"}, {\"type\": \"number\", \"id\": \"num_25\", \"label\": \"num_25\"}, {\"type\": \"number\", \"id\": \"num_50\", \"label\": \"num_50\"}, {\"type\": \"number\", \"id\": \"num_75\", \"label\": \"num_75\"}, {\"type\": \"number\", \"id\": \"num_985\", \"label\": \"num_985\"}, {\"type\": \"number\", \"id\": \"num_100\", \"label\": \"num_100\"}, {\"type\": \"number\", \"id\": \"num_unq\", \"label\": \"num_unq\"}, {\"type\": \"number\", \"id\": \"total_secs\", \"label\": \"total_secs\"}]},\n",
       "            {\n",
       "              pageSize: 25,\n",
       "              cssClassNames:  {\n",
       "                tableRow: 'gchart-table-row',\n",
       "                headerRow: 'gchart-table-headerrow',\n",
       "                oddTableRow: 'gchart-table-oddrow',\n",
       "                selectedTableRow: 'gchart-table-selectedrow',\n",
       "                hoverTableRow: 'gchart-table-hoverrow',\n",
       "                tableCell: 'gchart-table-cell',\n",
       "                headerCell: 'gchart-table-headercell',\n",
       "                rowNumberCell: 'gchart-table-rownumcell'\n",
       "              }\n",
       "            },\n",
       "            {source_index: 1, fields: 'msno,date,num_25,num_50,num_75,num_985,num_100,num_unq,total_secs'},\n",
       "            0,\n",
       "            410502905);\n",
       "        }\n",
       "      );\n",
       "    </script>\n",
       "  "
      ],
      "text/plain": [
       "QueryResultsTable job_IIv0YLBeypUb8cvtkRhNJLq4uumc"
      ]
     },
     "execution_count": 20,
     "metadata": {},
     "output_type": "execute_result"
    }
   ],
   "source": [
    "%bq execute -q Concat"
   ]
  },
  {
   "cell_type": "code",
   "execution_count": 21,
   "metadata": {},
   "outputs": [
    {
     "data": {
      "text/html": [
       "\n",
       "    <div class=\"bqtv\" id=\"4_153711901091\"><table><tr><th>msno</th><th>date</th><th>num_25</th><th>num_50</th><th>num_75</th><th>num_985</th><th>num_100</th><th>num_unq</th><th>total_secs</th></tr><tr><td>8nSyuVdv8qR4aHr1hUx1FXoIuxpZluW+kR/d0ounuYA=</td><td>20160512</td><td>24</td><td>2</td><td>1</td><td>1</td><td>53</td><td>61</td><td>15019.365</td></tr><tr><td>d2GtIMHD45Ri5/Ksa86X4FYWCZMM3fZ4WRDKjbhp15A=</td><td>20160205</td><td>81</td><td>2</td><td>4</td><td>3</td><td>34</td><td>74</td><td>9600.676</td></tr><tr><td>d2GtIMHD45Ri5/Ksa86X4FYWCZMM3fZ4WRDKjbhp15A=</td><td>20161124</td><td>37</td><td>4</td><td>4</td><td>2</td><td>48</td><td>83</td><td>12778.431</td></tr><tr><td>d2GtIMHD45Ri5/Ksa86X4FYWCZMM3fZ4WRDKjbhp15A=</td><td>20170114</td><td>113</td><td>22</td><td>8</td><td>3</td><td>40</td><td>163</td><td>14347.198</td></tr><tr><td>kb3qHtlz+K4Ume8TF4FQi9xwrTZqzFFvBDZsdYvyQ0A=</td><td>20161217</td><td>32</td><td>1</td><td>0</td><td>1</td><td>30</td><td>58</td><td>7391.719</td></tr><tr><td>B/eZk3P+A98+vport4EL6KBRhYiioS+F1uVJSGmAUGw=</td><td>20150720</td><td>22</td><td>2</td><td>0</td><td>2</td><td>38</td><td>52</td><td>10062.741</td></tr><tr><td>ysLUp9Ebqx3RrCNmZAOSmyW7kDZQafvyg7+Ge6lbG3Y=</td><td>20150717</td><td>38</td><td>6</td><td>5</td><td>4</td><td>66</td><td>87</td><td>20265.215</td></tr><tr><td>ysLUp9Ebqx3RrCNmZAOSmyW7kDZQafvyg7+Ge6lbG3Y=</td><td>20160318</td><td>36</td><td>4</td><td>2</td><td>4</td><td>97</td><td>61</td><td>24174.545</td></tr><tr><td>65MC0qTNLb/tG6fPv0IN7AzLqma4IkDHe1SEB8TedA8=</td><td>20150411</td><td>42</td><td>24</td><td>13</td><td>6</td><td>85</td><td>131</td><td>26109.762</td></tr><tr><td>aDyAkp8ZPYJUAVISQZ9oe1/2Ub1iDbq1Z9B6lBaTGRk=</td><td>20150107</td><td>23</td><td>12</td><td>3</td><td>7</td><td>60</td><td>90</td><td>19544.564</td></tr><tr><td>hXBw2UrphMglzTCevQhiO3MxweaxWheKbUy63y9L1KU=</td><td>20160725</td><td>25</td><td>8</td><td>2</td><td>6</td><td>27</td><td>52</td><td>8100.914</td></tr><tr><td>SaDQjFXhE3OTKa4nphNdFUTGXHz4CnvamDimkIlu+iE=</td><td>20151230</td><td>24</td><td>2</td><td>2</td><td>2</td><td>141</td><td>148</td><td>37411.15</td></tr><tr><td>SaDQjFXhE3OTKa4nphNdFUTGXHz4CnvamDimkIlu+iE=</td><td>20160222</td><td>31</td><td>3</td><td>4</td><td>0</td><td>97</td><td>125</td><td>26303.642</td></tr><tr><td>SaDQjFXhE3OTKa4nphNdFUTGXHz4CnvamDimkIlu+iE=</td><td>20160418</td><td>43</td><td>5</td><td>1</td><td>2</td><td>63</td><td>101</td><td>17315.789</td></tr><tr><td>3UVpd9pHoKk8oMIIrTqKaoOasIH2iQFLboGZJvAzwKY=</td><td>20160408</td><td>25</td><td>4</td><td>3</td><td>8</td><td>35</td><td>65</td><td>12209.435</td></tr><tr><td>xo1owQF/ASAxQQytAwHxoWBdQTDAw9123LZ/mEG1SG4=</td><td>20170215</td><td>22</td><td>2</td><td>4</td><td>1</td><td>38</td><td>52</td><td>11012.843</td></tr><tr><td>NhQeRGDNlefA7sIPQOWdZtToftl1sG6fyVfwccXwGdE=</td><td>20150704</td><td>45</td><td>15</td><td>4</td><td>5</td><td>18</td><td>72</td><td>7911.527</td></tr><tr><td>yOphCa1K43qe9z2shmdjutvB6gRfpbdrifCh1U7Vz/M=</td><td>20150509</td><td>40</td><td>1</td><td>0</td><td>1</td><td>35</td><td>55</td><td>9400.082</td></tr><tr><td>yOphCa1K43qe9z2shmdjutvB6gRfpbdrifCh1U7Vz/M=</td><td>20151025</td><td>44</td><td>1</td><td>0</td><td>3</td><td>58</td><td>78</td><td>13128.114</td></tr><tr><td>yOphCa1K43qe9z2shmdjutvB6gRfpbdrifCh1U7Vz/M=</td><td>20151217</td><td>47</td><td>1</td><td>0</td><td>2</td><td>71</td><td>107</td><td>18339.627</td></tr><tr><td>7iriLc53KWyBF37EDWD/B11T84G6jt6B1c5PH8YUnh4=</td><td>20150308</td><td>25</td><td>3</td><td>2</td><td>4</td><td>156</td><td>172</td><td>36691.133</td></tr><tr><td>7iriLc53KWyBF37EDWD/B11T84G6jt6B1c5PH8YUnh4=</td><td>20151130</td><td>63</td><td>19</td><td>13</td><td>11</td><td>175</td><td>152</td><td>47000.279</td></tr><tr><td>7iriLc53KWyBF37EDWD/B11T84G6jt6B1c5PH8YUnh4=</td><td>20160119</td><td>64</td><td>14</td><td>7</td><td>5</td><td>44</td><td>104</td><td>14209.987</td></tr><tr><td>Kc9QWnnfaRtAy6n+LhHckLMHbXYRm0pr/BKFhCM+f58=</td><td>20150208</td><td>30</td><td>7</td><td>4</td><td>4</td><td>35</td><td>59</td><td>11942.761</td></tr><tr><td>Kc9QWnnfaRtAy6n+LhHckLMHbXYRm0pr/BKFhCM+f58=</td><td>20170128</td><td>101</td><td>12</td><td>9</td><td>3</td><td>19</td><td>94</td><td>9082.138</td></tr></table></div>\n",
       "    <br />(rows: 410502905, kkbox-210108.DATASET.user_logs)<br />\n",
       "    <script src=\"/static/components/requirejs/require.js\"></script>\n",
       "    <script>\n",
       "      require.config({\n",
       "        paths: {\n",
       "          base: '/static/base',\n",
       "          d3: '//cdnjs.cloudflare.com/ajax/libs/d3/3.4.13/d3',\n",
       "          plotly: 'https://cdn.plot.ly/plotly-1.5.1.min.js?noext',\n",
       "          jquery: '//ajax.googleapis.com/ajax/libs/jquery/2.0.0/jquery.min'\n",
       "        },\n",
       "        map: {\n",
       "          '*': {\n",
       "            datalab: 'nbextensions/gcpdatalab'\n",
       "          }\n",
       "        },\n",
       "        shim: {\n",
       "          plotly: {\n",
       "            deps: ['d3', 'jquery'],\n",
       "            exports: 'plotly'\n",
       "          }\n",
       "        }\n",
       "      });\n",
       "\n",
       "      require(['datalab/charting', 'datalab/element!4_153711901091', 'base/js/events',\n",
       "          'datalab/style!/nbextensions/gcpdatalab/charting.css'],\n",
       "        function(charts, dom, events) {\n",
       "          charts.render('gcharts', dom, events, 'paged_table', [], {\"rows\": [{\"c\": [{\"v\": \"8nSyuVdv8qR4aHr1hUx1FXoIuxpZluW+kR/d0ounuYA=\"}, {\"v\": 20160512}, {\"v\": 24}, {\"v\": 2}, {\"v\": 1}, {\"v\": 1}, {\"v\": 53}, {\"v\": 61}, {\"v\": 15019.365}]}, {\"c\": [{\"v\": \"d2GtIMHD45Ri5/Ksa86X4FYWCZMM3fZ4WRDKjbhp15A=\"}, {\"v\": 20160205}, {\"v\": 81}, {\"v\": 2}, {\"v\": 4}, {\"v\": 3}, {\"v\": 34}, {\"v\": 74}, {\"v\": 9600.676}]}, {\"c\": [{\"v\": \"d2GtIMHD45Ri5/Ksa86X4FYWCZMM3fZ4WRDKjbhp15A=\"}, {\"v\": 20161124}, {\"v\": 37}, {\"v\": 4}, {\"v\": 4}, {\"v\": 2}, {\"v\": 48}, {\"v\": 83}, {\"v\": 12778.431}]}, {\"c\": [{\"v\": \"d2GtIMHD45Ri5/Ksa86X4FYWCZMM3fZ4WRDKjbhp15A=\"}, {\"v\": 20170114}, {\"v\": 113}, {\"v\": 22}, {\"v\": 8}, {\"v\": 3}, {\"v\": 40}, {\"v\": 163}, {\"v\": 14347.198}]}, {\"c\": [{\"v\": \"kb3qHtlz+K4Ume8TF4FQi9xwrTZqzFFvBDZsdYvyQ0A=\"}, {\"v\": 20161217}, {\"v\": 32}, {\"v\": 1}, {\"v\": 0}, {\"v\": 1}, {\"v\": 30}, {\"v\": 58}, {\"v\": 7391.719}]}, {\"c\": [{\"v\": \"B/eZk3P+A98+vport4EL6KBRhYiioS+F1uVJSGmAUGw=\"}, {\"v\": 20150720}, {\"v\": 22}, {\"v\": 2}, {\"v\": 0}, {\"v\": 2}, {\"v\": 38}, {\"v\": 52}, {\"v\": 10062.741}]}, {\"c\": [{\"v\": \"ysLUp9Ebqx3RrCNmZAOSmyW7kDZQafvyg7+Ge6lbG3Y=\"}, {\"v\": 20150717}, {\"v\": 38}, {\"v\": 6}, {\"v\": 5}, {\"v\": 4}, {\"v\": 66}, {\"v\": 87}, {\"v\": 20265.215}]}, {\"c\": [{\"v\": \"ysLUp9Ebqx3RrCNmZAOSmyW7kDZQafvyg7+Ge6lbG3Y=\"}, {\"v\": 20160318}, {\"v\": 36}, {\"v\": 4}, {\"v\": 2}, {\"v\": 4}, {\"v\": 97}, {\"v\": 61}, {\"v\": 24174.545}]}, {\"c\": [{\"v\": \"65MC0qTNLb/tG6fPv0IN7AzLqma4IkDHe1SEB8TedA8=\"}, {\"v\": 20150411}, {\"v\": 42}, {\"v\": 24}, {\"v\": 13}, {\"v\": 6}, {\"v\": 85}, {\"v\": 131}, {\"v\": 26109.762}]}, {\"c\": [{\"v\": \"aDyAkp8ZPYJUAVISQZ9oe1/2Ub1iDbq1Z9B6lBaTGRk=\"}, {\"v\": 20150107}, {\"v\": 23}, {\"v\": 12}, {\"v\": 3}, {\"v\": 7}, {\"v\": 60}, {\"v\": 90}, {\"v\": 19544.564}]}, {\"c\": [{\"v\": \"hXBw2UrphMglzTCevQhiO3MxweaxWheKbUy63y9L1KU=\"}, {\"v\": 20160725}, {\"v\": 25}, {\"v\": 8}, {\"v\": 2}, {\"v\": 6}, {\"v\": 27}, {\"v\": 52}, {\"v\": 8100.914}]}, {\"c\": [{\"v\": \"SaDQjFXhE3OTKa4nphNdFUTGXHz4CnvamDimkIlu+iE=\"}, {\"v\": 20151230}, {\"v\": 24}, {\"v\": 2}, {\"v\": 2}, {\"v\": 2}, {\"v\": 141}, {\"v\": 148}, {\"v\": 37411.15}]}, {\"c\": [{\"v\": \"SaDQjFXhE3OTKa4nphNdFUTGXHz4CnvamDimkIlu+iE=\"}, {\"v\": 20160222}, {\"v\": 31}, {\"v\": 3}, {\"v\": 4}, {\"v\": 0}, {\"v\": 97}, {\"v\": 125}, {\"v\": 26303.642}]}, {\"c\": [{\"v\": \"SaDQjFXhE3OTKa4nphNdFUTGXHz4CnvamDimkIlu+iE=\"}, {\"v\": 20160418}, {\"v\": 43}, {\"v\": 5}, {\"v\": 1}, {\"v\": 2}, {\"v\": 63}, {\"v\": 101}, {\"v\": 17315.789}]}, {\"c\": [{\"v\": \"3UVpd9pHoKk8oMIIrTqKaoOasIH2iQFLboGZJvAzwKY=\"}, {\"v\": 20160408}, {\"v\": 25}, {\"v\": 4}, {\"v\": 3}, {\"v\": 8}, {\"v\": 35}, {\"v\": 65}, {\"v\": 12209.435}]}, {\"c\": [{\"v\": \"xo1owQF/ASAxQQytAwHxoWBdQTDAw9123LZ/mEG1SG4=\"}, {\"v\": 20170215}, {\"v\": 22}, {\"v\": 2}, {\"v\": 4}, {\"v\": 1}, {\"v\": 38}, {\"v\": 52}, {\"v\": 11012.843}]}, {\"c\": [{\"v\": \"NhQeRGDNlefA7sIPQOWdZtToftl1sG6fyVfwccXwGdE=\"}, {\"v\": 20150704}, {\"v\": 45}, {\"v\": 15}, {\"v\": 4}, {\"v\": 5}, {\"v\": 18}, {\"v\": 72}, {\"v\": 7911.527}]}, {\"c\": [{\"v\": \"yOphCa1K43qe9z2shmdjutvB6gRfpbdrifCh1U7Vz/M=\"}, {\"v\": 20150509}, {\"v\": 40}, {\"v\": 1}, {\"v\": 0}, {\"v\": 1}, {\"v\": 35}, {\"v\": 55}, {\"v\": 9400.082}]}, {\"c\": [{\"v\": \"yOphCa1K43qe9z2shmdjutvB6gRfpbdrifCh1U7Vz/M=\"}, {\"v\": 20151025}, {\"v\": 44}, {\"v\": 1}, {\"v\": 0}, {\"v\": 3}, {\"v\": 58}, {\"v\": 78}, {\"v\": 13128.114}]}, {\"c\": [{\"v\": \"yOphCa1K43qe9z2shmdjutvB6gRfpbdrifCh1U7Vz/M=\"}, {\"v\": 20151217}, {\"v\": 47}, {\"v\": 1}, {\"v\": 0}, {\"v\": 2}, {\"v\": 71}, {\"v\": 107}, {\"v\": 18339.627}]}, {\"c\": [{\"v\": \"7iriLc53KWyBF37EDWD/B11T84G6jt6B1c5PH8YUnh4=\"}, {\"v\": 20150308}, {\"v\": 25}, {\"v\": 3}, {\"v\": 2}, {\"v\": 4}, {\"v\": 156}, {\"v\": 172}, {\"v\": 36691.133}]}, {\"c\": [{\"v\": \"7iriLc53KWyBF37EDWD/B11T84G6jt6B1c5PH8YUnh4=\"}, {\"v\": 20151130}, {\"v\": 63}, {\"v\": 19}, {\"v\": 13}, {\"v\": 11}, {\"v\": 175}, {\"v\": 152}, {\"v\": 47000.279}]}, {\"c\": [{\"v\": \"7iriLc53KWyBF37EDWD/B11T84G6jt6B1c5PH8YUnh4=\"}, {\"v\": 20160119}, {\"v\": 64}, {\"v\": 14}, {\"v\": 7}, {\"v\": 5}, {\"v\": 44}, {\"v\": 104}, {\"v\": 14209.987}]}, {\"c\": [{\"v\": \"Kc9QWnnfaRtAy6n+LhHckLMHbXYRm0pr/BKFhCM+f58=\"}, {\"v\": 20150208}, {\"v\": 30}, {\"v\": 7}, {\"v\": 4}, {\"v\": 4}, {\"v\": 35}, {\"v\": 59}, {\"v\": 11942.761}]}, {\"c\": [{\"v\": \"Kc9QWnnfaRtAy6n+LhHckLMHbXYRm0pr/BKFhCM+f58=\"}, {\"v\": 20170128}, {\"v\": 101}, {\"v\": 12}, {\"v\": 9}, {\"v\": 3}, {\"v\": 19}, {\"v\": 94}, {\"v\": 9082.138}]}], \"cols\": [{\"type\": \"string\", \"id\": \"msno\", \"label\": \"msno\"}, {\"type\": \"number\", \"id\": \"date\", \"label\": \"date\"}, {\"type\": \"number\", \"id\": \"num_25\", \"label\": \"num_25\"}, {\"type\": \"number\", \"id\": \"num_50\", \"label\": \"num_50\"}, {\"type\": \"number\", \"id\": \"num_75\", \"label\": \"num_75\"}, {\"type\": \"number\", \"id\": \"num_985\", \"label\": \"num_985\"}, {\"type\": \"number\", \"id\": \"num_100\", \"label\": \"num_100\"}, {\"type\": \"number\", \"id\": \"num_unq\", \"label\": \"num_unq\"}, {\"type\": \"number\", \"id\": \"total_secs\", \"label\": \"total_secs\"}]},\n",
       "            {\n",
       "              pageSize: 25,\n",
       "              cssClassNames:  {\n",
       "                tableRow: 'gchart-table-row',\n",
       "                headerRow: 'gchart-table-headerrow',\n",
       "                oddTableRow: 'gchart-table-oddrow',\n",
       "                selectedTableRow: 'gchart-table-selectedrow',\n",
       "                hoverTableRow: 'gchart-table-hoverrow',\n",
       "                tableCell: 'gchart-table-cell',\n",
       "                headerCell: 'gchart-table-headercell',\n",
       "                rowNumberCell: 'gchart-table-rownumcell'\n",
       "              }\n",
       "            },\n",
       "            {source_index: 1, fields: 'msno,date,num_25,num_50,num_75,num_985,num_100,num_unq,total_secs'},\n",
       "            0,\n",
       "            410502905);\n",
       "        }\n",
       "      );\n",
       "    </script>\n",
       "  "
      ],
      "text/plain": [
       "BigQuery Table - name: kkbox-210108.DATASET.user_logs"
      ]
     },
     "execution_count": 21,
     "metadata": {},
     "output_type": "execute_result"
    }
   ],
   "source": [
    "%bq tables view -n kkbox-210108.DATASET.user_logs"
   ]
  },
  {
   "cell_type": "code",
   "execution_count": 22,
   "metadata": {},
   "outputs": [],
   "source": [
    "# import bigquery api\n",
    "import google.datalab.bigquery as bq"
   ]
  },
  {
   "cell_type": "code",
   "execution_count": 23,
   "metadata": {},
   "outputs": [],
   "source": [
    "user_2 = bq.Table(\"DATASET.user_logs_v2\").delete()"
   ]
  },
  {
   "cell_type": "code",
   "execution_count": 24,
   "metadata": {},
   "outputs": [
    {
     "data": {
      "text/html": [
       "<ul><li>kkbox-210108.DATASET.members</li><li>kkbox-210108.DATASET.submission</li><li>kkbox-210108.DATASET.transactions</li><li>kkbox-210108.DATASET.transactions_v2</li><li>kkbox-210108.DATASET.user_label_201703</li><li>kkbox-210108.DATASET.user_logs</li><li>kkbox-210108.kk_Data.members</li><li>kkbox-210108.kk_Data.submission</li><li>kkbox-210108.kk_Data.transactions</li><li>kkbox-210108.kk_Data.user_label_201703</li><li>kkbox-210108.kk_Data.user_logs</li></ul>"
      ],
      "text/plain": [
       "<IPython.core.display.HTML object>"
      ]
     },
     "execution_count": 24,
     "metadata": {},
     "output_type": "execute_result"
    }
   ],
   "source": [
    "%bq tables list"
   ]
  },
  {
   "cell_type": "markdown",
   "metadata": {},
   "source": [
    "## Transactions concat\n",
    "* Check columns"
   ]
  },
  {
   "cell_type": "code",
   "execution_count": 25,
   "metadata": {},
   "outputs": [
    {
     "data": {
      "text/html": [
       "\n",
       "    <div class=\"bqtv\" id=\"5_153711933228\"><table><tr><th>msno</th><th>payment_method_id</th><th>payment_plan_days</th><th>plan_list_price</th><th>actual_amount_paid</th><th>is_auto_renew</th><th>transaction_date</th><th>membership_expire_date</th><th>is_cancel</th></tr><tr><td>RBwiDVv7Tli4J1epHAEuMWOxJk3pfpczlbhDvyoG4nw=</td><td>22</td><td>410</td><td>1788</td><td>1788</td><td>0</td><td>20150201</td><td>20160317</td><td>0</td></tr><tr><td>n1i9a0lMlOu/szzdyHbXMsCIG2Qjm8FmiS+0Q7An8Ys=</td><td>20</td><td>100</td><td>480</td><td>480</td><td>0</td><td>20160203</td><td>20160521</td><td>0</td></tr><tr><td>8vR0coATA0ouKNnuxj0IGePgaDLUJEV/eHpTbydoOs4=</td><td>28</td><td>80</td><td>400</td><td>400</td><td>0</td><td>20160314</td><td>20170205</td><td>0</td></tr><tr><td>Dw6g1JGGkNHmUqh6CG1ip3hfACwbTW3nrS3WTjWUhik=</td><td>20</td><td>100</td><td>480</td><td>480</td><td>0</td><td>20151024</td><td>20160201</td><td>0</td></tr><tr><td>XnoP693Pc8ufWmSepXyfRZ5YF4awbpLUdAIzrqGP9vs=</td><td>20</td><td>200</td><td>930</td><td>930</td><td>0</td><td>20160704</td><td>20170122</td><td>0</td></tr><tr><td>9wE+Lh4B2T5Kfpiv/mceNMGdenKg/IBdqtUAqXrjpN8=</td><td>20</td><td>100</td><td>480</td><td>480</td><td>0</td><td>20160114</td><td>20160423</td><td>0</td></tr><tr><td>xXWk67SUzKce6fdMIB57rHayvhEl94WD3g7sl7i6+D4=</td><td>20</td><td>100</td><td>480</td><td>480</td><td>0</td><td>20160824</td><td>20161202</td><td>0</td></tr><tr><td>7GZhmapFIjbnGrDkXDOvfHASKzVWHocxC4/W0gYffLo=</td><td>28</td><td>80</td><td>400</td><td>400</td><td>0</td><td>20150518</td><td>20150806</td><td>0</td></tr><tr><td>4ytqgMn0AfzRjmT8/xSDFO4kKslNlAzHN4I6Zt6Kecg=</td><td>28</td><td>100</td><td>500</td><td>500</td><td>0</td><td>20160131</td><td>20160510</td><td>0</td></tr><tr><td>xFp6jztxqet0rwlid/YDv6wMA74y6LqZSFHYYUB00So=</td><td>20</td><td>200</td><td>930</td><td>930</td><td>0</td><td>20160912</td><td>20170331</td><td>0</td></tr><tr><td>+aTfpnUAJXOtYVRarjQhjdU1P9CEzn8i9/Wuk7olBT4=</td><td>22</td><td>410</td><td>1788</td><td>1788</td><td>0</td><td>20150404</td><td>20160521</td><td>0</td></tr><tr><td>vyKs+npoeuZFW2Y9C+XsyQPKsEgkLtSvW/pzXCEy8QA=</td><td>20</td><td>100</td><td>480</td><td>480</td><td>0</td><td>20160213</td><td>20160523</td><td>0</td></tr><tr><td>rEFAPOrUBfJ75G4odXMT1ZTI1+RDQc5e3npHAyUPVng=</td><td>20</td><td>100</td><td>480</td><td>480</td><td>0</td><td>20160225</td><td>20160604</td><td>0</td></tr><tr><td>fBbV5kypms/OFmeUm2mM7FyMHFN5IXIyiQnebcn7+UA=</td><td>20</td><td>100</td><td>480</td><td>480</td><td>0</td><td>20151121</td><td>20160229</td><td>0</td></tr><tr><td>9TNBVO98vJQg+Y5wLgR3z276XU9F9wdPsDCulxta73M=</td><td>22</td><td>395</td><td>1599</td><td>1599</td><td>0</td><td>20160115</td><td>20170217</td><td>0</td></tr><tr><td>JnbFzzjtbJdvfQ9oyLj15ETrzhngzl4KB5Q2bLROHkA=</td><td>25</td><td>60</td><td>300</td><td>300</td><td>0</td><td>20150104</td><td>20150305</td><td>0</td></tr><tr><td>aI7ThnEqf7DOQUAprUroaaYtolELGziYKpFTgJOwtX8=</td><td>20</td><td>200</td><td>930</td><td>930</td><td>0</td><td>20160310</td><td>20160926</td><td>0</td></tr><tr><td>vrHHlmHiWe2kn5hUdg3jSvDfkEpf4YNHANzmRyPyt1o=</td><td>28</td><td>60</td><td>300</td><td>300</td><td>0</td><td>20150608</td><td>20150807</td><td>0</td></tr><tr><td>b7BRttQ4bUSN0f8MwGiD5IxfOJRZWQsT8dDMGKWADio=</td><td>20</td><td>100</td><td>480</td><td>480</td><td>0</td><td>20150901</td><td>20151210</td><td>0</td></tr><tr><td>zT6MfEALo5wQMyISVdwQQVstZAg9Xkob1mA3U3EGovE=</td><td>22</td><td>410</td><td>1788</td><td>1788</td><td>0</td><td>20150119</td><td>20160311</td><td>0</td></tr><tr><td>tpeamdaXVLYfKI/AhaVSYIUudXQgCbzNNjJ468r2FNo=</td><td>20</td><td>100</td><td>480</td><td>480</td><td>0</td><td>20160906</td><td>20161215</td><td>0</td></tr><tr><td>zYhMxQleUoerc5kfLb3DcWBPP8+7zvh/SzxmYs8pUnM=</td><td>20</td><td>100</td><td>480</td><td>480</td><td>0</td><td>20160513</td><td>20160823</td><td>0</td></tr><tr><td>U8NsrZZXJDz4XrN+Ec/Q8npDBonMfFW9i3dWSwoaPEw=</td><td>28</td><td>90</td><td>450</td><td>450</td><td>0</td><td>20150805</td><td>20151103</td><td>0</td></tr><tr><td>c0M3EOEiz2sCurXEPIOIT22eoHOzyYLGUQYysA6OWgQ=</td><td>20</td><td>100</td><td>480</td><td>480</td><td>0</td><td>20161020</td><td>20170128</td><td>0</td></tr><tr><td>mMUVhy43yOnHJQTsfJEJmEgeCQWfAo4lkUrf4G63YyA=</td><td>20</td><td>100</td><td>480</td><td>480</td><td>0</td><td>20160606</td><td>20160914</td><td>0</td></tr></table></div>\n",
       "    <br />(rows: 21547746, kkbox-210108.DATASET.transactions)<br />\n",
       "    <script src=\"/static/components/requirejs/require.js\"></script>\n",
       "    <script>\n",
       "      require.config({\n",
       "        paths: {\n",
       "          base: '/static/base',\n",
       "          d3: '//cdnjs.cloudflare.com/ajax/libs/d3/3.4.13/d3',\n",
       "          plotly: 'https://cdn.plot.ly/plotly-1.5.1.min.js?noext',\n",
       "          jquery: '//ajax.googleapis.com/ajax/libs/jquery/2.0.0/jquery.min'\n",
       "        },\n",
       "        map: {\n",
       "          '*': {\n",
       "            datalab: 'nbextensions/gcpdatalab'\n",
       "          }\n",
       "        },\n",
       "        shim: {\n",
       "          plotly: {\n",
       "            deps: ['d3', 'jquery'],\n",
       "            exports: 'plotly'\n",
       "          }\n",
       "        }\n",
       "      });\n",
       "\n",
       "      require(['datalab/charting', 'datalab/element!5_153711933228', 'base/js/events',\n",
       "          'datalab/style!/nbextensions/gcpdatalab/charting.css'],\n",
       "        function(charts, dom, events) {\n",
       "          charts.render('gcharts', dom, events, 'paged_table', [], {\"rows\": [{\"c\": [{\"v\": \"RBwiDVv7Tli4J1epHAEuMWOxJk3pfpczlbhDvyoG4nw=\"}, {\"v\": 22}, {\"v\": 410}, {\"v\": 1788}, {\"v\": 1788}, {\"v\": 0}, {\"v\": 20150201}, {\"v\": 20160317}, {\"v\": 0}]}, {\"c\": [{\"v\": \"n1i9a0lMlOu/szzdyHbXMsCIG2Qjm8FmiS+0Q7An8Ys=\"}, {\"v\": 20}, {\"v\": 100}, {\"v\": 480}, {\"v\": 480}, {\"v\": 0}, {\"v\": 20160203}, {\"v\": 20160521}, {\"v\": 0}]}, {\"c\": [{\"v\": \"8vR0coATA0ouKNnuxj0IGePgaDLUJEV/eHpTbydoOs4=\"}, {\"v\": 28}, {\"v\": 80}, {\"v\": 400}, {\"v\": 400}, {\"v\": 0}, {\"v\": 20160314}, {\"v\": 20170205}, {\"v\": 0}]}, {\"c\": [{\"v\": \"Dw6g1JGGkNHmUqh6CG1ip3hfACwbTW3nrS3WTjWUhik=\"}, {\"v\": 20}, {\"v\": 100}, {\"v\": 480}, {\"v\": 480}, {\"v\": 0}, {\"v\": 20151024}, {\"v\": 20160201}, {\"v\": 0}]}, {\"c\": [{\"v\": \"XnoP693Pc8ufWmSepXyfRZ5YF4awbpLUdAIzrqGP9vs=\"}, {\"v\": 20}, {\"v\": 200}, {\"v\": 930}, {\"v\": 930}, {\"v\": 0}, {\"v\": 20160704}, {\"v\": 20170122}, {\"v\": 0}]}, {\"c\": [{\"v\": \"9wE+Lh4B2T5Kfpiv/mceNMGdenKg/IBdqtUAqXrjpN8=\"}, {\"v\": 20}, {\"v\": 100}, {\"v\": 480}, {\"v\": 480}, {\"v\": 0}, {\"v\": 20160114}, {\"v\": 20160423}, {\"v\": 0}]}, {\"c\": [{\"v\": \"xXWk67SUzKce6fdMIB57rHayvhEl94WD3g7sl7i6+D4=\"}, {\"v\": 20}, {\"v\": 100}, {\"v\": 480}, {\"v\": 480}, {\"v\": 0}, {\"v\": 20160824}, {\"v\": 20161202}, {\"v\": 0}]}, {\"c\": [{\"v\": \"7GZhmapFIjbnGrDkXDOvfHASKzVWHocxC4/W0gYffLo=\"}, {\"v\": 28}, {\"v\": 80}, {\"v\": 400}, {\"v\": 400}, {\"v\": 0}, {\"v\": 20150518}, {\"v\": 20150806}, {\"v\": 0}]}, {\"c\": [{\"v\": \"4ytqgMn0AfzRjmT8/xSDFO4kKslNlAzHN4I6Zt6Kecg=\"}, {\"v\": 28}, {\"v\": 100}, {\"v\": 500}, {\"v\": 500}, {\"v\": 0}, {\"v\": 20160131}, {\"v\": 20160510}, {\"v\": 0}]}, {\"c\": [{\"v\": \"xFp6jztxqet0rwlid/YDv6wMA74y6LqZSFHYYUB00So=\"}, {\"v\": 20}, {\"v\": 200}, {\"v\": 930}, {\"v\": 930}, {\"v\": 0}, {\"v\": 20160912}, {\"v\": 20170331}, {\"v\": 0}]}, {\"c\": [{\"v\": \"+aTfpnUAJXOtYVRarjQhjdU1P9CEzn8i9/Wuk7olBT4=\"}, {\"v\": 22}, {\"v\": 410}, {\"v\": 1788}, {\"v\": 1788}, {\"v\": 0}, {\"v\": 20150404}, {\"v\": 20160521}, {\"v\": 0}]}, {\"c\": [{\"v\": \"vyKs+npoeuZFW2Y9C+XsyQPKsEgkLtSvW/pzXCEy8QA=\"}, {\"v\": 20}, {\"v\": 100}, {\"v\": 480}, {\"v\": 480}, {\"v\": 0}, {\"v\": 20160213}, {\"v\": 20160523}, {\"v\": 0}]}, {\"c\": [{\"v\": \"rEFAPOrUBfJ75G4odXMT1ZTI1+RDQc5e3npHAyUPVng=\"}, {\"v\": 20}, {\"v\": 100}, {\"v\": 480}, {\"v\": 480}, {\"v\": 0}, {\"v\": 20160225}, {\"v\": 20160604}, {\"v\": 0}]}, {\"c\": [{\"v\": \"fBbV5kypms/OFmeUm2mM7FyMHFN5IXIyiQnebcn7+UA=\"}, {\"v\": 20}, {\"v\": 100}, {\"v\": 480}, {\"v\": 480}, {\"v\": 0}, {\"v\": 20151121}, {\"v\": 20160229}, {\"v\": 0}]}, {\"c\": [{\"v\": \"9TNBVO98vJQg+Y5wLgR3z276XU9F9wdPsDCulxta73M=\"}, {\"v\": 22}, {\"v\": 395}, {\"v\": 1599}, {\"v\": 1599}, {\"v\": 0}, {\"v\": 20160115}, {\"v\": 20170217}, {\"v\": 0}]}, {\"c\": [{\"v\": \"JnbFzzjtbJdvfQ9oyLj15ETrzhngzl4KB5Q2bLROHkA=\"}, {\"v\": 25}, {\"v\": 60}, {\"v\": 300}, {\"v\": 300}, {\"v\": 0}, {\"v\": 20150104}, {\"v\": 20150305}, {\"v\": 0}]}, {\"c\": [{\"v\": \"aI7ThnEqf7DOQUAprUroaaYtolELGziYKpFTgJOwtX8=\"}, {\"v\": 20}, {\"v\": 200}, {\"v\": 930}, {\"v\": 930}, {\"v\": 0}, {\"v\": 20160310}, {\"v\": 20160926}, {\"v\": 0}]}, {\"c\": [{\"v\": \"vrHHlmHiWe2kn5hUdg3jSvDfkEpf4YNHANzmRyPyt1o=\"}, {\"v\": 28}, {\"v\": 60}, {\"v\": 300}, {\"v\": 300}, {\"v\": 0}, {\"v\": 20150608}, {\"v\": 20150807}, {\"v\": 0}]}, {\"c\": [{\"v\": \"b7BRttQ4bUSN0f8MwGiD5IxfOJRZWQsT8dDMGKWADio=\"}, {\"v\": 20}, {\"v\": 100}, {\"v\": 480}, {\"v\": 480}, {\"v\": 0}, {\"v\": 20150901}, {\"v\": 20151210}, {\"v\": 0}]}, {\"c\": [{\"v\": \"zT6MfEALo5wQMyISVdwQQVstZAg9Xkob1mA3U3EGovE=\"}, {\"v\": 22}, {\"v\": 410}, {\"v\": 1788}, {\"v\": 1788}, {\"v\": 0}, {\"v\": 20150119}, {\"v\": 20160311}, {\"v\": 0}]}, {\"c\": [{\"v\": \"tpeamdaXVLYfKI/AhaVSYIUudXQgCbzNNjJ468r2FNo=\"}, {\"v\": 20}, {\"v\": 100}, {\"v\": 480}, {\"v\": 480}, {\"v\": 0}, {\"v\": 20160906}, {\"v\": 20161215}, {\"v\": 0}]}, {\"c\": [{\"v\": \"zYhMxQleUoerc5kfLb3DcWBPP8+7zvh/SzxmYs8pUnM=\"}, {\"v\": 20}, {\"v\": 100}, {\"v\": 480}, {\"v\": 480}, {\"v\": 0}, {\"v\": 20160513}, {\"v\": 20160823}, {\"v\": 0}]}, {\"c\": [{\"v\": \"U8NsrZZXJDz4XrN+Ec/Q8npDBonMfFW9i3dWSwoaPEw=\"}, {\"v\": 28}, {\"v\": 90}, {\"v\": 450}, {\"v\": 450}, {\"v\": 0}, {\"v\": 20150805}, {\"v\": 20151103}, {\"v\": 0}]}, {\"c\": [{\"v\": \"c0M3EOEiz2sCurXEPIOIT22eoHOzyYLGUQYysA6OWgQ=\"}, {\"v\": 20}, {\"v\": 100}, {\"v\": 480}, {\"v\": 480}, {\"v\": 0}, {\"v\": 20161020}, {\"v\": 20170128}, {\"v\": 0}]}, {\"c\": [{\"v\": \"mMUVhy43yOnHJQTsfJEJmEgeCQWfAo4lkUrf4G63YyA=\"}, {\"v\": 20}, {\"v\": 100}, {\"v\": 480}, {\"v\": 480}, {\"v\": 0}, {\"v\": 20160606}, {\"v\": 20160914}, {\"v\": 0}]}], \"cols\": [{\"type\": \"string\", \"id\": \"msno\", \"label\": \"msno\"}, {\"type\": \"number\", \"id\": \"payment_method_id\", \"label\": \"payment_method_id\"}, {\"type\": \"number\", \"id\": \"payment_plan_days\", \"label\": \"payment_plan_days\"}, {\"type\": \"number\", \"id\": \"plan_list_price\", \"label\": \"plan_list_price\"}, {\"type\": \"number\", \"id\": \"actual_amount_paid\", \"label\": \"actual_amount_paid\"}, {\"type\": \"number\", \"id\": \"is_auto_renew\", \"label\": \"is_auto_renew\"}, {\"type\": \"number\", \"id\": \"transaction_date\", \"label\": \"transaction_date\"}, {\"type\": \"number\", \"id\": \"membership_expire_date\", \"label\": \"membership_expire_date\"}, {\"type\": \"number\", \"id\": \"is_cancel\", \"label\": \"is_cancel\"}]},\n",
       "            {\n",
       "              pageSize: 25,\n",
       "              cssClassNames:  {\n",
       "                tableRow: 'gchart-table-row',\n",
       "                headerRow: 'gchart-table-headerrow',\n",
       "                oddTableRow: 'gchart-table-oddrow',\n",
       "                selectedTableRow: 'gchart-table-selectedrow',\n",
       "                hoverTableRow: 'gchart-table-hoverrow',\n",
       "                tableCell: 'gchart-table-cell',\n",
       "                headerCell: 'gchart-table-headercell',\n",
       "                rowNumberCell: 'gchart-table-rownumcell'\n",
       "              }\n",
       "            },\n",
       "            {source_index: 2, fields: 'msno,payment_method_id,payment_plan_days,plan_list_price,actual_amount_paid,is_auto_renew,transaction_date,membership_expire_date,is_cancel'},\n",
       "            0,\n",
       "            21547746);\n",
       "        }\n",
       "      );\n",
       "    </script>\n",
       "  "
      ],
      "text/plain": [
       "BigQuery Table - name: kkbox-210108.DATASET.transactions"
      ]
     },
     "execution_count": 25,
     "metadata": {},
     "output_type": "execute_result"
    }
   ],
   "source": [
    "%bq tables view -n kkbox-210108.DATASET.transactions"
   ]
  },
  {
   "cell_type": "code",
   "execution_count": 26,
   "metadata": {},
   "outputs": [],
   "source": [
    "%bq query -n Concat\n",
    "INSERT DATASET.transactions (msno, payment_method_id, payment_plan_days, plan_list_price, actual_amount_paid, \n",
    "  is_auto_renew, transaction_date, membership_expire_date, is_cancel)\n",
    "SELECT msno, payment_method_id, payment_plan_days, plan_list_price, actual_amount_paid, \n",
    "  is_auto_renew, transaction_date, membership_expire_date, is_cancel\n",
    "FROM `kkbox-210108.DATASET.transactions_v2`"
   ]
  },
  {
   "cell_type": "code",
   "execution_count": 27,
   "metadata": {},
   "outputs": [
    {
     "data": {
      "text/html": [
       "\n",
       "    <p>Dry run information:   157MB to process, results not cached</p>\n",
       "    "
      ],
      "text/plain": [
       "<google.datalab.bigquery._query_stats.QueryStats at 0x7fa0577f2f10>"
      ]
     },
     "execution_count": 27,
     "metadata": {},
     "output_type": "execute_result"
    }
   ],
   "source": [
    "%bq dryrun -q Concat"
   ]
  },
  {
   "cell_type": "code",
   "execution_count": 28,
   "metadata": {},
   "outputs": [
    {
     "data": {
      "text/html": [
       "\n",
       "    <div class=\"bqtv\" id=\"6_153711955973\"><table><tr><th>msno</th><th>payment_method_id</th><th>payment_plan_days</th><th>plan_list_price</th><th>actual_amount_paid</th><th>is_auto_renew</th><th>transaction_date</th><th>membership_expire_date</th><th>is_cancel</th></tr><tr><td>RBwiDVv7Tli4J1epHAEuMWOxJk3pfpczlbhDvyoG4nw=</td><td>22</td><td>410</td><td>1788</td><td>1788</td><td>0</td><td>20150201</td><td>20160317</td><td>0</td></tr><tr><td>n1i9a0lMlOu/szzdyHbXMsCIG2Qjm8FmiS+0Q7An8Ys=</td><td>20</td><td>100</td><td>480</td><td>480</td><td>0</td><td>20160203</td><td>20160521</td><td>0</td></tr><tr><td>8vR0coATA0ouKNnuxj0IGePgaDLUJEV/eHpTbydoOs4=</td><td>28</td><td>80</td><td>400</td><td>400</td><td>0</td><td>20160314</td><td>20170205</td><td>0</td></tr><tr><td>Dw6g1JGGkNHmUqh6CG1ip3hfACwbTW3nrS3WTjWUhik=</td><td>20</td><td>100</td><td>480</td><td>480</td><td>0</td><td>20151024</td><td>20160201</td><td>0</td></tr><tr><td>XnoP693Pc8ufWmSepXyfRZ5YF4awbpLUdAIzrqGP9vs=</td><td>20</td><td>200</td><td>930</td><td>930</td><td>0</td><td>20160704</td><td>20170122</td><td>0</td></tr><tr><td>9wE+Lh4B2T5Kfpiv/mceNMGdenKg/IBdqtUAqXrjpN8=</td><td>20</td><td>100</td><td>480</td><td>480</td><td>0</td><td>20160114</td><td>20160423</td><td>0</td></tr><tr><td>xXWk67SUzKce6fdMIB57rHayvhEl94WD3g7sl7i6+D4=</td><td>20</td><td>100</td><td>480</td><td>480</td><td>0</td><td>20160824</td><td>20161202</td><td>0</td></tr><tr><td>7GZhmapFIjbnGrDkXDOvfHASKzVWHocxC4/W0gYffLo=</td><td>28</td><td>80</td><td>400</td><td>400</td><td>0</td><td>20150518</td><td>20150806</td><td>0</td></tr><tr><td>4ytqgMn0AfzRjmT8/xSDFO4kKslNlAzHN4I6Zt6Kecg=</td><td>28</td><td>100</td><td>500</td><td>500</td><td>0</td><td>20160131</td><td>20160510</td><td>0</td></tr><tr><td>xFp6jztxqet0rwlid/YDv6wMA74y6LqZSFHYYUB00So=</td><td>20</td><td>200</td><td>930</td><td>930</td><td>0</td><td>20160912</td><td>20170331</td><td>0</td></tr><tr><td>+aTfpnUAJXOtYVRarjQhjdU1P9CEzn8i9/Wuk7olBT4=</td><td>22</td><td>410</td><td>1788</td><td>1788</td><td>0</td><td>20150404</td><td>20160521</td><td>0</td></tr><tr><td>vyKs+npoeuZFW2Y9C+XsyQPKsEgkLtSvW/pzXCEy8QA=</td><td>20</td><td>100</td><td>480</td><td>480</td><td>0</td><td>20160213</td><td>20160523</td><td>0</td></tr><tr><td>rEFAPOrUBfJ75G4odXMT1ZTI1+RDQc5e3npHAyUPVng=</td><td>20</td><td>100</td><td>480</td><td>480</td><td>0</td><td>20160225</td><td>20160604</td><td>0</td></tr><tr><td>fBbV5kypms/OFmeUm2mM7FyMHFN5IXIyiQnebcn7+UA=</td><td>20</td><td>100</td><td>480</td><td>480</td><td>0</td><td>20151121</td><td>20160229</td><td>0</td></tr><tr><td>9TNBVO98vJQg+Y5wLgR3z276XU9F9wdPsDCulxta73M=</td><td>22</td><td>395</td><td>1599</td><td>1599</td><td>0</td><td>20160115</td><td>20170217</td><td>0</td></tr><tr><td>JnbFzzjtbJdvfQ9oyLj15ETrzhngzl4KB5Q2bLROHkA=</td><td>25</td><td>60</td><td>300</td><td>300</td><td>0</td><td>20150104</td><td>20150305</td><td>0</td></tr><tr><td>aI7ThnEqf7DOQUAprUroaaYtolELGziYKpFTgJOwtX8=</td><td>20</td><td>200</td><td>930</td><td>930</td><td>0</td><td>20160310</td><td>20160926</td><td>0</td></tr><tr><td>vrHHlmHiWe2kn5hUdg3jSvDfkEpf4YNHANzmRyPyt1o=</td><td>28</td><td>60</td><td>300</td><td>300</td><td>0</td><td>20150608</td><td>20150807</td><td>0</td></tr><tr><td>b7BRttQ4bUSN0f8MwGiD5IxfOJRZWQsT8dDMGKWADio=</td><td>20</td><td>100</td><td>480</td><td>480</td><td>0</td><td>20150901</td><td>20151210</td><td>0</td></tr><tr><td>zT6MfEALo5wQMyISVdwQQVstZAg9Xkob1mA3U3EGovE=</td><td>22</td><td>410</td><td>1788</td><td>1788</td><td>0</td><td>20150119</td><td>20160311</td><td>0</td></tr><tr><td>tpeamdaXVLYfKI/AhaVSYIUudXQgCbzNNjJ468r2FNo=</td><td>20</td><td>100</td><td>480</td><td>480</td><td>0</td><td>20160906</td><td>20161215</td><td>0</td></tr><tr><td>zYhMxQleUoerc5kfLb3DcWBPP8+7zvh/SzxmYs8pUnM=</td><td>20</td><td>100</td><td>480</td><td>480</td><td>0</td><td>20160513</td><td>20160823</td><td>0</td></tr><tr><td>U8NsrZZXJDz4XrN+Ec/Q8npDBonMfFW9i3dWSwoaPEw=</td><td>28</td><td>90</td><td>450</td><td>450</td><td>0</td><td>20150805</td><td>20151103</td><td>0</td></tr><tr><td>c0M3EOEiz2sCurXEPIOIT22eoHOzyYLGUQYysA6OWgQ=</td><td>20</td><td>100</td><td>480</td><td>480</td><td>0</td><td>20161020</td><td>20170128</td><td>0</td></tr><tr><td>mMUVhy43yOnHJQTsfJEJmEgeCQWfAo4lkUrf4G63YyA=</td><td>20</td><td>100</td><td>480</td><td>480</td><td>0</td><td>20160606</td><td>20160914</td><td>0</td></tr></table></div>\n",
       "    <br />(rows: 22978755, time: 17.1s,   157MB processed, job: job_IGNFFg8Q1leCf5lPjYkqzVyXchpy)<br />\n",
       "    <script src=\"/static/components/requirejs/require.js\"></script>\n",
       "    <script>\n",
       "      require.config({\n",
       "        paths: {\n",
       "          base: '/static/base',\n",
       "          d3: '//cdnjs.cloudflare.com/ajax/libs/d3/3.4.13/d3',\n",
       "          plotly: 'https://cdn.plot.ly/plotly-1.5.1.min.js?noext',\n",
       "          jquery: '//ajax.googleapis.com/ajax/libs/jquery/2.0.0/jquery.min'\n",
       "        },\n",
       "        map: {\n",
       "          '*': {\n",
       "            datalab: 'nbextensions/gcpdatalab'\n",
       "          }\n",
       "        },\n",
       "        shim: {\n",
       "          plotly: {\n",
       "            deps: ['d3', 'jquery'],\n",
       "            exports: 'plotly'\n",
       "          }\n",
       "        }\n",
       "      });\n",
       "\n",
       "      require(['datalab/charting', 'datalab/element!6_153711955973', 'base/js/events',\n",
       "          'datalab/style!/nbextensions/gcpdatalab/charting.css'],\n",
       "        function(charts, dom, events) {\n",
       "          charts.render('gcharts', dom, events, 'paged_table', [], {\"rows\": [{\"c\": [{\"v\": \"RBwiDVv7Tli4J1epHAEuMWOxJk3pfpczlbhDvyoG4nw=\"}, {\"v\": 22}, {\"v\": 410}, {\"v\": 1788}, {\"v\": 1788}, {\"v\": 0}, {\"v\": 20150201}, {\"v\": 20160317}, {\"v\": 0}]}, {\"c\": [{\"v\": \"n1i9a0lMlOu/szzdyHbXMsCIG2Qjm8FmiS+0Q7An8Ys=\"}, {\"v\": 20}, {\"v\": 100}, {\"v\": 480}, {\"v\": 480}, {\"v\": 0}, {\"v\": 20160203}, {\"v\": 20160521}, {\"v\": 0}]}, {\"c\": [{\"v\": \"8vR0coATA0ouKNnuxj0IGePgaDLUJEV/eHpTbydoOs4=\"}, {\"v\": 28}, {\"v\": 80}, {\"v\": 400}, {\"v\": 400}, {\"v\": 0}, {\"v\": 20160314}, {\"v\": 20170205}, {\"v\": 0}]}, {\"c\": [{\"v\": \"Dw6g1JGGkNHmUqh6CG1ip3hfACwbTW3nrS3WTjWUhik=\"}, {\"v\": 20}, {\"v\": 100}, {\"v\": 480}, {\"v\": 480}, {\"v\": 0}, {\"v\": 20151024}, {\"v\": 20160201}, {\"v\": 0}]}, {\"c\": [{\"v\": \"XnoP693Pc8ufWmSepXyfRZ5YF4awbpLUdAIzrqGP9vs=\"}, {\"v\": 20}, {\"v\": 200}, {\"v\": 930}, {\"v\": 930}, {\"v\": 0}, {\"v\": 20160704}, {\"v\": 20170122}, {\"v\": 0}]}, {\"c\": [{\"v\": \"9wE+Lh4B2T5Kfpiv/mceNMGdenKg/IBdqtUAqXrjpN8=\"}, {\"v\": 20}, {\"v\": 100}, {\"v\": 480}, {\"v\": 480}, {\"v\": 0}, {\"v\": 20160114}, {\"v\": 20160423}, {\"v\": 0}]}, {\"c\": [{\"v\": \"xXWk67SUzKce6fdMIB57rHayvhEl94WD3g7sl7i6+D4=\"}, {\"v\": 20}, {\"v\": 100}, {\"v\": 480}, {\"v\": 480}, {\"v\": 0}, {\"v\": 20160824}, {\"v\": 20161202}, {\"v\": 0}]}, {\"c\": [{\"v\": \"7GZhmapFIjbnGrDkXDOvfHASKzVWHocxC4/W0gYffLo=\"}, {\"v\": 28}, {\"v\": 80}, {\"v\": 400}, {\"v\": 400}, {\"v\": 0}, {\"v\": 20150518}, {\"v\": 20150806}, {\"v\": 0}]}, {\"c\": [{\"v\": \"4ytqgMn0AfzRjmT8/xSDFO4kKslNlAzHN4I6Zt6Kecg=\"}, {\"v\": 28}, {\"v\": 100}, {\"v\": 500}, {\"v\": 500}, {\"v\": 0}, {\"v\": 20160131}, {\"v\": 20160510}, {\"v\": 0}]}, {\"c\": [{\"v\": \"xFp6jztxqet0rwlid/YDv6wMA74y6LqZSFHYYUB00So=\"}, {\"v\": 20}, {\"v\": 200}, {\"v\": 930}, {\"v\": 930}, {\"v\": 0}, {\"v\": 20160912}, {\"v\": 20170331}, {\"v\": 0}]}, {\"c\": [{\"v\": \"+aTfpnUAJXOtYVRarjQhjdU1P9CEzn8i9/Wuk7olBT4=\"}, {\"v\": 22}, {\"v\": 410}, {\"v\": 1788}, {\"v\": 1788}, {\"v\": 0}, {\"v\": 20150404}, {\"v\": 20160521}, {\"v\": 0}]}, {\"c\": [{\"v\": \"vyKs+npoeuZFW2Y9C+XsyQPKsEgkLtSvW/pzXCEy8QA=\"}, {\"v\": 20}, {\"v\": 100}, {\"v\": 480}, {\"v\": 480}, {\"v\": 0}, {\"v\": 20160213}, {\"v\": 20160523}, {\"v\": 0}]}, {\"c\": [{\"v\": \"rEFAPOrUBfJ75G4odXMT1ZTI1+RDQc5e3npHAyUPVng=\"}, {\"v\": 20}, {\"v\": 100}, {\"v\": 480}, {\"v\": 480}, {\"v\": 0}, {\"v\": 20160225}, {\"v\": 20160604}, {\"v\": 0}]}, {\"c\": [{\"v\": \"fBbV5kypms/OFmeUm2mM7FyMHFN5IXIyiQnebcn7+UA=\"}, {\"v\": 20}, {\"v\": 100}, {\"v\": 480}, {\"v\": 480}, {\"v\": 0}, {\"v\": 20151121}, {\"v\": 20160229}, {\"v\": 0}]}, {\"c\": [{\"v\": \"9TNBVO98vJQg+Y5wLgR3z276XU9F9wdPsDCulxta73M=\"}, {\"v\": 22}, {\"v\": 395}, {\"v\": 1599}, {\"v\": 1599}, {\"v\": 0}, {\"v\": 20160115}, {\"v\": 20170217}, {\"v\": 0}]}, {\"c\": [{\"v\": \"JnbFzzjtbJdvfQ9oyLj15ETrzhngzl4KB5Q2bLROHkA=\"}, {\"v\": 25}, {\"v\": 60}, {\"v\": 300}, {\"v\": 300}, {\"v\": 0}, {\"v\": 20150104}, {\"v\": 20150305}, {\"v\": 0}]}, {\"c\": [{\"v\": \"aI7ThnEqf7DOQUAprUroaaYtolELGziYKpFTgJOwtX8=\"}, {\"v\": 20}, {\"v\": 200}, {\"v\": 930}, {\"v\": 930}, {\"v\": 0}, {\"v\": 20160310}, {\"v\": 20160926}, {\"v\": 0}]}, {\"c\": [{\"v\": \"vrHHlmHiWe2kn5hUdg3jSvDfkEpf4YNHANzmRyPyt1o=\"}, {\"v\": 28}, {\"v\": 60}, {\"v\": 300}, {\"v\": 300}, {\"v\": 0}, {\"v\": 20150608}, {\"v\": 20150807}, {\"v\": 0}]}, {\"c\": [{\"v\": \"b7BRttQ4bUSN0f8MwGiD5IxfOJRZWQsT8dDMGKWADio=\"}, {\"v\": 20}, {\"v\": 100}, {\"v\": 480}, {\"v\": 480}, {\"v\": 0}, {\"v\": 20150901}, {\"v\": 20151210}, {\"v\": 0}]}, {\"c\": [{\"v\": \"zT6MfEALo5wQMyISVdwQQVstZAg9Xkob1mA3U3EGovE=\"}, {\"v\": 22}, {\"v\": 410}, {\"v\": 1788}, {\"v\": 1788}, {\"v\": 0}, {\"v\": 20150119}, {\"v\": 20160311}, {\"v\": 0}]}, {\"c\": [{\"v\": \"tpeamdaXVLYfKI/AhaVSYIUudXQgCbzNNjJ468r2FNo=\"}, {\"v\": 20}, {\"v\": 100}, {\"v\": 480}, {\"v\": 480}, {\"v\": 0}, {\"v\": 20160906}, {\"v\": 20161215}, {\"v\": 0}]}, {\"c\": [{\"v\": \"zYhMxQleUoerc5kfLb3DcWBPP8+7zvh/SzxmYs8pUnM=\"}, {\"v\": 20}, {\"v\": 100}, {\"v\": 480}, {\"v\": 480}, {\"v\": 0}, {\"v\": 20160513}, {\"v\": 20160823}, {\"v\": 0}]}, {\"c\": [{\"v\": \"U8NsrZZXJDz4XrN+Ec/Q8npDBonMfFW9i3dWSwoaPEw=\"}, {\"v\": 28}, {\"v\": 90}, {\"v\": 450}, {\"v\": 450}, {\"v\": 0}, {\"v\": 20150805}, {\"v\": 20151103}, {\"v\": 0}]}, {\"c\": [{\"v\": \"c0M3EOEiz2sCurXEPIOIT22eoHOzyYLGUQYysA6OWgQ=\"}, {\"v\": 20}, {\"v\": 100}, {\"v\": 480}, {\"v\": 480}, {\"v\": 0}, {\"v\": 20161020}, {\"v\": 20170128}, {\"v\": 0}]}, {\"c\": [{\"v\": \"mMUVhy43yOnHJQTsfJEJmEgeCQWfAo4lkUrf4G63YyA=\"}, {\"v\": 20}, {\"v\": 100}, {\"v\": 480}, {\"v\": 480}, {\"v\": 0}, {\"v\": 20160606}, {\"v\": 20160914}, {\"v\": 0}]}], \"cols\": [{\"type\": \"string\", \"id\": \"msno\", \"label\": \"msno\"}, {\"type\": \"number\", \"id\": \"payment_method_id\", \"label\": \"payment_method_id\"}, {\"type\": \"number\", \"id\": \"payment_plan_days\", \"label\": \"payment_plan_days\"}, {\"type\": \"number\", \"id\": \"plan_list_price\", \"label\": \"plan_list_price\"}, {\"type\": \"number\", \"id\": \"actual_amount_paid\", \"label\": \"actual_amount_paid\"}, {\"type\": \"number\", \"id\": \"is_auto_renew\", \"label\": \"is_auto_renew\"}, {\"type\": \"number\", \"id\": \"transaction_date\", \"label\": \"transaction_date\"}, {\"type\": \"number\", \"id\": \"membership_expire_date\", \"label\": \"membership_expire_date\"}, {\"type\": \"number\", \"id\": \"is_cancel\", \"label\": \"is_cancel\"}]},\n",
       "            {\n",
       "              pageSize: 25,\n",
       "              cssClassNames:  {\n",
       "                tableRow: 'gchart-table-row',\n",
       "                headerRow: 'gchart-table-headerrow',\n",
       "                oddTableRow: 'gchart-table-oddrow',\n",
       "                selectedTableRow: 'gchart-table-selectedrow',\n",
       "                hoverTableRow: 'gchart-table-hoverrow',\n",
       "                tableCell: 'gchart-table-cell',\n",
       "                headerCell: 'gchart-table-headercell',\n",
       "                rowNumberCell: 'gchart-table-rownumcell'\n",
       "              }\n",
       "            },\n",
       "            {source_index: 2, fields: 'msno,payment_method_id,payment_plan_days,plan_list_price,actual_amount_paid,is_auto_renew,transaction_date,membership_expire_date,is_cancel'},\n",
       "            0,\n",
       "            22978755);\n",
       "        }\n",
       "      );\n",
       "    </script>\n",
       "  "
      ],
      "text/plain": [
       "QueryResultsTable job_IGNFFg8Q1leCf5lPjYkqzVyXchpy"
      ]
     },
     "execution_count": 28,
     "metadata": {},
     "output_type": "execute_result"
    }
   ],
   "source": [
    "%bq execute -q Concat"
   ]
  },
  {
   "cell_type": "code",
   "execution_count": 29,
   "metadata": {},
   "outputs": [],
   "source": [
    "trans_v2 = bq.Table(\"DATASET.transactions_v2\").delete()"
   ]
  },
  {
   "cell_type": "code",
   "execution_count": 30,
   "metadata": {},
   "outputs": [
    {
     "data": {
      "text/html": [
       "<ul><li>kkbox-210108.DATASET.members</li><li>kkbox-210108.DATASET.submission</li><li>kkbox-210108.DATASET.transactions</li><li>kkbox-210108.DATASET.user_label_201703</li><li>kkbox-210108.DATASET.user_logs</li><li>kkbox-210108.kk_Data.members</li><li>kkbox-210108.kk_Data.submission</li><li>kkbox-210108.kk_Data.transactions</li><li>kkbox-210108.kk_Data.user_label_201703</li><li>kkbox-210108.kk_Data.user_logs</li></ul>"
      ],
      "text/plain": [
       "<IPython.core.display.HTML object>"
      ]
     },
     "execution_count": 30,
     "metadata": {},
     "output_type": "execute_result"
    }
   ],
   "source": [
    "%bq tables list "
   ]
  }
 ],
 "metadata": {
  "kernelspec": {
   "display_name": "Python 2",
   "language": "python",
   "name": "python2"
  },
  "language_info": {
   "codemirror_mode": {
    "name": "ipython",
    "version": 2
   },
   "file_extension": ".py",
   "mimetype": "text/x-python",
   "name": "python",
   "nbconvert_exporter": "python",
   "pygments_lexer": "ipython2",
   "version": "2.7.15"
  }
 },
 "nbformat": 4,
 "nbformat_minor": 2
}
